{
 "cells": [
  {
   "cell_type": "code",
   "execution_count": 1,
   "metadata": {
    "collapsed": false,
    "jupyter": {
     "outputs_hidden": false
    }
   },
   "outputs": [
    {
     "name": "stderr",
     "output_type": "stream",
     "text": [
      "Using backend: pytorch\n"
     ]
    }
   ],
   "source": [
    "import dgl\n",
    "import torch\n",
    "import torch.nn as nn\n",
    "import torch.nn.functional as F"
   ]
  },
  {
   "cell_type": "code",
   "execution_count": 2,
   "metadata": {
    "collapsed": false,
    "jupyter": {
     "outputs_hidden": false
    }
   },
   "outputs": [
    {
     "name": "stdout",
     "output_type": "stream",
     "text": [
      "  NumNodes: 2708\n",
      "  NumEdges: 10556\n",
      "  NumFeats: 1433\n",
      "  NumClasses: 7\n",
      "  NumTrainingSamples: 140\n",
      "  NumValidationSamples: 500\n",
      "  NumTestSamples: 1000\n",
      "Done loading data from cached files.\n",
      "Number of categories: 7\n"
     ]
    }
   ],
   "source": [
    "import dgl.data\n",
    "\n",
    "dataset = dgl.data.CoraGraphDataset()\n",
    "print('Number of categories:', dataset.num_classes)"
   ]
  },
  {
   "cell_type": "code",
   "execution_count": 3,
   "metadata": {
    "collapsed": false,
    "jupyter": {
     "outputs_hidden": false
    }
   },
   "outputs": [],
   "source": [
    "g = dataset[0]"
   ]
  },
  {
   "cell_type": "code",
   "execution_count": 4,
   "metadata": {
    "collapsed": false,
    "jupyter": {
     "outputs_hidden": false
    }
   },
   "outputs": [
    {
     "name": "stdout",
     "output_type": "stream",
     "text": [
      "Node features\n",
      "{'feat': tensor([[0., 0., 0.,  ..., 0., 0., 0.],\n",
      "        [0., 0., 0.,  ..., 0., 0., 0.],\n",
      "        [0., 0., 0.,  ..., 0., 0., 0.],\n",
      "        ...,\n",
      "        [0., 0., 0.,  ..., 0., 0., 0.],\n",
      "        [0., 0., 0.,  ..., 0., 0., 0.],\n",
      "        [0., 0., 0.,  ..., 0., 0., 0.]]), 'label': tensor([3, 4, 4,  ..., 3, 3, 3]), 'test_mask': tensor([False, False, False,  ...,  True,  True,  True]), 'train_mask': tensor([ True,  True,  True,  ..., False, False, False]), 'val_mask': tensor([False, False, False,  ..., False, False, False])}\n",
      "Edge features\n",
      "{}\n"
     ]
    }
   ],
   "source": [
    "print('Node features')\n",
    "print(g.ndata)\n",
    "print('Edge features')\n",
    "print(g.edata)"
   ]
  },
  {
   "cell_type": "code",
   "execution_count": 5,
   "metadata": {
    "collapsed": false,
    "jupyter": {
     "outputs_hidden": false
    }
   },
   "outputs": [],
   "source": [
    "from dgl.nn import GraphConv\n",
    "\n",
    "class GCN(nn.Module):\n",
    "    def __init__(self, in_feats, h_feats, num_classes, num_layers=2):\n",
    "        super(GCN, self).__init__()\n",
    "        self.convs = nn.ModuleList()\n",
    "        self.num_layers = num_layers\n",
    "        \n",
    "        self.convs.append(GraphConv(in_feats, h_feats))\n",
    "        for _ in range(num_layers-2):\n",
    "            self.convs.append(GraphConv(h_feats, h_feats))\n",
    "        self.convs.append(GraphConv(h_feats, num_classes))\n",
    "    \n",
    "    def forward(self, g, h):\n",
    "        for ell in range(self.num_layers-1):\n",
    "            h = self.convs[ell](g, h)\n",
    "            h = F.relu(h)            \n",
    "        h = self.convs[-1](g, h)\n",
    "        return h\n",
    "    "
   ]
  },
  {
   "cell_type": "markdown",
   "metadata": {},
   "source": [
    "DGL provides implementation of many popular neighbor aggregation\n",
    "modules. You can easily invoke them with one line of code.\n",
    "\n",
    "\n"
   ]
  },
  {
   "cell_type": "markdown",
   "metadata": {},
   "source": [
    "Training the GCN\n",
    "----------------\n",
    "\n",
    "Training this GCN is similar to training other PyTorch neural networks.\n",
    "\n",
    "\n"
   ]
  },
  {
   "cell_type": "code",
   "execution_count": 6,
   "metadata": {
    "collapsed": false,
    "jupyter": {
     "outputs_hidden": false
    }
   },
   "outputs": [
    {
     "name": "stdout",
     "output_type": "stream",
     "text": [
      "GCN(\n",
      "  (convs): ModuleList(\n",
      "    (0): GraphConv(in=1433, out=64, normalization=both, activation=None)\n",
      "    (1): GraphConv(in=64, out=64, normalization=both, activation=None)\n",
      "    (2): GraphConv(in=64, out=64, normalization=both, activation=None)\n",
      "    (3): GraphConv(in=64, out=64, normalization=both, activation=None)\n",
      "    (4): GraphConv(in=64, out=64, normalization=both, activation=None)\n",
      "    (5): GraphConv(in=64, out=64, normalization=both, activation=None)\n",
      "    (6): GraphConv(in=64, out=64, normalization=both, activation=None)\n",
      "    (7): GraphConv(in=64, out=7, normalization=both, activation=None)\n",
      "  )\n",
      ")\n",
      "In epoch 0, loss: 1.946, train acc: 0.136, val acc: 0.280 (best 0.280), test acc: 0.298 (best 0.298)\n",
      "In epoch 5, loss: 1.944, train acc: 0.257, val acc: 0.246 (best 0.280), test acc: 0.242 (best 0.298)\n",
      "In epoch 10, loss: 1.938, train acc: 0.343, val acc: 0.350 (best 0.350), test acc: 0.366 (best 0.366)\n",
      "In epoch 15, loss: 1.924, train acc: 0.336, val acc: 0.372 (best 0.372), test acc: 0.382 (best 0.381)\n",
      "In epoch 20, loss: 1.891, train acc: 0.336, val acc: 0.338 (best 0.372), test acc: 0.374 (best 0.381)\n",
      "In epoch 25, loss: 1.820, train acc: 0.350, val acc: 0.348 (best 0.372), test acc: 0.392 (best 0.381)\n",
      "In epoch 30, loss: 1.688, train acc: 0.336, val acc: 0.346 (best 0.372), test acc: 0.378 (best 0.381)\n",
      "In epoch 35, loss: 1.499, train acc: 0.357, val acc: 0.326 (best 0.372), test acc: 0.357 (best 0.381)\n",
      "In epoch 40, loss: 1.312, train acc: 0.371, val acc: 0.338 (best 0.372), test acc: 0.367 (best 0.381)\n",
      "In epoch 45, loss: 1.100, train acc: 0.736, val acc: 0.508 (best 0.508), test acc: 0.505 (best 0.505)\n",
      "In epoch 50, loss: 0.867, train acc: 0.829, val acc: 0.618 (best 0.618), test acc: 0.625 (best 0.625)\n",
      "In epoch 55, loss: 0.644, train acc: 0.886, val acc: 0.652 (best 0.660), test acc: 0.649 (best 0.666)\n",
      "In epoch 60, loss: 0.459, train acc: 0.914, val acc: 0.674 (best 0.678), test acc: 0.666 (best 0.677)\n",
      "In epoch 65, loss: 0.327, train acc: 0.921, val acc: 0.682 (best 0.694), test acc: 0.697 (best 0.696)\n",
      "In epoch 70, loss: 0.237, train acc: 0.936, val acc: 0.690 (best 0.700), test acc: 0.701 (best 0.693)\n",
      "In epoch 75, loss: 0.170, train acc: 0.971, val acc: 0.710 (best 0.710), test acc: 0.714 (best 0.714)\n",
      "In epoch 80, loss: 0.123, train acc: 0.979, val acc: 0.696 (best 0.710), test acc: 0.716 (best 0.714)\n",
      "In epoch 85, loss: 0.088, train acc: 0.986, val acc: 0.698 (best 0.710), test acc: 0.719 (best 0.714)\n",
      "In epoch 90, loss: 0.063, train acc: 0.986, val acc: 0.698 (best 0.710), test acc: 0.725 (best 0.714)\n",
      "In epoch 95, loss: 0.046, train acc: 0.986, val acc: 0.692 (best 0.710), test acc: 0.717 (best 0.714)\n",
      "In epoch 100, loss: 0.034, train acc: 0.993, val acc: 0.690 (best 0.710), test acc: 0.714 (best 0.714)\n",
      "In epoch 105, loss: 0.027, train acc: 1.000, val acc: 0.678 (best 0.710), test acc: 0.709 (best 0.714)\n",
      "In epoch 110, loss: 0.021, train acc: 1.000, val acc: 0.682 (best 0.710), test acc: 0.706 (best 0.714)\n",
      "In epoch 115, loss: 0.017, train acc: 1.000, val acc: 0.684 (best 0.710), test acc: 0.710 (best 0.714)\n",
      "In epoch 120, loss: 0.013, train acc: 1.000, val acc: 0.686 (best 0.710), test acc: 0.706 (best 0.714)\n",
      "In epoch 125, loss: 0.011, train acc: 1.000, val acc: 0.690 (best 0.710), test acc: 0.708 (best 0.714)\n",
      "In epoch 130, loss: 0.009, train acc: 1.000, val acc: 0.692 (best 0.710), test acc: 0.710 (best 0.714)\n",
      "In epoch 135, loss: 0.007, train acc: 1.000, val acc: 0.690 (best 0.710), test acc: 0.709 (best 0.714)\n",
      "In epoch 140, loss: 0.006, train acc: 1.000, val acc: 0.688 (best 0.710), test acc: 0.709 (best 0.714)\n",
      "In epoch 145, loss: 0.005, train acc: 1.000, val acc: 0.688 (best 0.710), test acc: 0.710 (best 0.714)\n",
      "In epoch 150, loss: 0.004, train acc: 1.000, val acc: 0.688 (best 0.710), test acc: 0.708 (best 0.714)\n",
      "In epoch 155, loss: 0.004, train acc: 1.000, val acc: 0.684 (best 0.710), test acc: 0.709 (best 0.714)\n",
      "In epoch 160, loss: 0.003, train acc: 1.000, val acc: 0.682 (best 0.710), test acc: 0.707 (best 0.714)\n",
      "In epoch 165, loss: 0.003, train acc: 1.000, val acc: 0.682 (best 0.710), test acc: 0.708 (best 0.714)\n",
      "In epoch 170, loss: 0.002, train acc: 1.000, val acc: 0.684 (best 0.710), test acc: 0.708 (best 0.714)\n",
      "In epoch 175, loss: 0.002, train acc: 1.000, val acc: 0.686 (best 0.710), test acc: 0.706 (best 0.714)\n",
      "In epoch 180, loss: 0.002, train acc: 1.000, val acc: 0.686 (best 0.710), test acc: 0.706 (best 0.714)\n",
      "In epoch 185, loss: 0.002, train acc: 1.000, val acc: 0.686 (best 0.710), test acc: 0.706 (best 0.714)\n",
      "In epoch 190, loss: 0.002, train acc: 1.000, val acc: 0.686 (best 0.710), test acc: 0.704 (best 0.714)\n",
      "In epoch 195, loss: 0.001, train acc: 1.000, val acc: 0.686 (best 0.710), test acc: 0.705 (best 0.714)\n"
     ]
    }
   ],
   "source": [
    "def train(g, model, iters):\n",
    "    optimizer = torch.optim.Adam(model.parameters(), lr=1e-3)\n",
    "    best_val_acc = 0\n",
    "    best_test_acc = 0\n",
    "\n",
    "    features = g.ndata['feat']\n",
    "    labels = g.ndata['label']\n",
    "    train_mask = g.ndata['train_mask']\n",
    "    val_mask = g.ndata['val_mask']\n",
    "    test_mask = g.ndata['test_mask']\n",
    "    for e in range(iters):\n",
    "        # Forward\n",
    "        logits = model(g, features)\n",
    "\n",
    "        # Compute prediction\n",
    "        pred = logits.argmax(1)\n",
    "\n",
    "        # Compute loss\n",
    "        # Note that you should only compute the losses of the nodes in the training set.\n",
    "        loss = F.cross_entropy(logits[train_mask], labels[train_mask])\n",
    "\n",
    "        # Compute accuracy on training/validation/test\n",
    "        train_acc = (pred[train_mask] == labels[train_mask]).float().mean()\n",
    "        val_acc = (pred[val_mask] == labels[val_mask]).float().mean()\n",
    "        test_acc = (pred[test_mask] == labels[test_mask]).float().mean()\n",
    "\n",
    "        # Save the best validation accuracy and the corresponding test accuracy.\n",
    "        if best_val_acc < val_acc:\n",
    "            best_val_acc = val_acc\n",
    "            best_test_acc = test_acc\n",
    "\n",
    "        # Backward\n",
    "        optimizer.zero_grad()\n",
    "        loss.backward()\n",
    "        optimizer.step()\n",
    "\n",
    "        if e % 5 == 0:\n",
    "            print('In epoch {}, loss: {:.3f}, train acc: {:.3f}, val acc: {:.3f} (best {:.3f}), test acc: {:.3f} (best {:.3f})'.format(\n",
    "                e, loss, train_acc, val_acc, best_val_acc, test_acc, best_test_acc))\n",
    "            \n",
    "# Create the model with given dimensions\n",
    "model = GCN(in_feats=g.ndata['feat'].shape[1], \n",
    "            h_feats=64, \n",
    "            num_classes=dataset.num_classes, \n",
    "            num_layers=8)\n",
    "\n",
    "print(model)\n",
    "\n",
    "train(g, model, iters=200)"
   ]
  },
  {
   "cell_type": "code",
   "execution_count": 7,
   "metadata": {
    "collapsed": false,
    "jupyter": {
     "outputs_hidden": false
    }
   },
   "outputs": [],
   "source": [
    "# Thumbnail credits: Stanford CS224W Notes\n",
    "# sphinx_gallery_thumbnail_path = '_static/blitz_1_introduction.png'"
   ]
  },
  {
   "cell_type": "code",
   "execution_count": null,
   "metadata": {},
   "outputs": [],
   "source": []
  }
 ],
 "metadata": {
  "kernelspec": {
   "display_name": "Python 3",
   "language": "python",
   "name": "python3"
  },
  "language_info": {
   "codemirror_mode": {
    "name": "ipython",
    "version": 3
   },
   "file_extension": ".py",
   "mimetype": "text/x-python",
   "name": "python",
   "nbconvert_exporter": "python",
   "pygments_lexer": "ipython3",
   "version": "3.8.5"
  }
 },
 "nbformat": 4,
 "nbformat_minor": 4
}
