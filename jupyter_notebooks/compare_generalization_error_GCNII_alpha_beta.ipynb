{
 "cells": [
  {
   "cell_type": "code",
   "execution_count": 1,
   "metadata": {},
   "outputs": [],
   "source": [
    "import sys; sys.argv=['']; del sys\n",
    "import warnings\n",
    "warnings.filterwarnings(\"ignore\", category=RuntimeWarning)\n",
    "warnings.filterwarnings(\"ignore\", category=UserWarning)"
   ]
  },
  {
   "cell_type": "code",
   "execution_count": 2,
   "metadata": {},
   "outputs": [],
   "source": [
    "import torch\n",
    "import torch.nn as nn\n",
    "import torch.optim as optim\n",
    "\n",
    "from utils import load_data, process_graph_data\n",
    "from utils import package_mxl, adj_rw_norm\n",
    "from utils import sparse_mx_to_torch_sparse_tensor\n",
    "from utils import ResultRecorder\n",
    "\n",
    "from model import GCN, GCNBias, SGC, ResGCN, GCNII, APPNP, MLP\n",
    "from load_semigcn_data import load_data_gcn\n",
    "from data_loader import DataLoader\n",
    "\n",
    "import numpy as np\n",
    "import copy \n",
    "import time\n",
    "from sklearn.metrics import f1_score\n",
    "from sklearn.metrics import pairwise_distances\n",
    "import matplotlib.pyplot as plt\n",
    "import matplotlib.ticker as mticker\n",
    "from tqdm import trange\n",
    "from scipy.sparse.csgraph import connected_components\n",
    "import pickle\n",
    "import os\n",
    "import math"
   ]
  },
  {
   "cell_type": "code",
   "execution_count": 3,
   "metadata": {},
   "outputs": [
    {
     "name": "stdout",
     "output_type": "stream",
     "text": [
      "Namespace(batch_size=20480000000, cuda=0, dataset='cora', dropout=0, epoch_num=300, method='GCN/ResGCN/GCNII/APPNP/DGCN', n_layers=16, nhid=64)\n"
     ]
    }
   ],
   "source": [
    "import sys; sys.argv=['']; del sys\n",
    "import warnings\n",
    "warnings.filterwarnings(\"ignore\", category=RuntimeWarning)\n",
    "warnings.filterwarnings(\"ignore\", category=UserWarning)\n",
    "\n",
    "import argparse\n",
    "\"\"\"\n",
    "Dataset arguments\n",
    "\"\"\"\n",
    "parser = argparse.ArgumentParser(\n",
    "    description='Training GCN on Large-scale Graph Datasets')\n",
    "parser.add_argument('--dataset', type=str, default='cora',\n",
    "                    help='Dataset name: pubmed/flickr/reddit/ppi-large')\n",
    "parser.add_argument('--method', type=str, default='GCN/ResGCN/GCNII/APPNP/DGCN', # SGC/GCN/GCNBias/ResGCN/GCNII/APPNP\n",
    "                    help='Algorithms: seperate using slash')\n",
    "parser.add_argument('--nhid', type=int, default=64,\n",
    "                    help='Hidden state dimension')\n",
    "parser.add_argument('--epoch_num', type=int, default=300,\n",
    "                    help='Number of Epoch')\n",
    "parser.add_argument('--batch_size', type=int, default=20480000000,\n",
    "                    help='size of output node in a batch')\n",
    "parser.add_argument('--n_layers', type=int, default=16,\n",
    "                    help='Number of GCN layers')\n",
    "parser.add_argument('--dropout', type=float, default=0,\n",
    "                    help='Dropout rate')\n",
    "parser.add_argument('--cuda', type=int, default=0,\n",
    "                    help='Avaiable GPU ID')\n",
    "args = parser.parse_args()\n",
    "print(args)\n",
    "\n",
    "method = args.method.split('/')\n",
    "\n",
    "\"\"\"\n",
    "Prepare devices\n",
    "\"\"\"\n",
    "if args.cuda != -1:\n",
    "    device = torch.device(\"cuda:\" + str(args.cuda))\n",
    "else:\n",
    "    device = torch.device(\"cpu\")\n",
    "    \n",
    "if args.dataset not in ['cora', 'citeseer', 'pubmed']:\n",
    "    temp_data = load_data(args.dataset) \n",
    "else:\n",
    "    temp_data = load_data_gcn(args.dataset)\n",
    "\n",
    "adj_full, adj_train, feat_data, labels, role = process_graph_data(*temp_data)\n",
    "\n",
    "train_nodes = np.array(role['tr'])\n",
    "valid_nodes = np.array(role['va'])\n",
    "test_nodes = np.array(role['te'])\n",
    "\n",
    "data_loader = DataLoader(adj_full, train_nodes, valid_nodes, test_nodes, device)"
   ]
  },
  {
   "cell_type": "code",
   "execution_count": 4,
   "metadata": {},
   "outputs": [],
   "source": [
    "\"\"\"\n",
    "Setup datasets and models for training (multi-class use sigmoid+binary_cross_entropy, use softmax+nll_loss otherwise)\n",
    "\"\"\"\n",
    "\n",
    "if args.dataset in ['flickr', 'reddit', 'cora', 'citeseer', 'pubmed']:\n",
    "    feat_data_th = torch.FloatTensor(feat_data)\n",
    "    labels_th = torch.LongTensor(labels.argmax(1))\n",
    "    num_classes = labels_th.max().item()+1\n",
    "    criterion = nn.CrossEntropyLoss()\n",
    "    multi_class=False\n",
    "elif args.dataset in ['ppi', 'ppi-large', 'amazon', 'yelp']:\n",
    "    feat_data_th = torch.FloatTensor(feat_data)\n",
    "    labels_th = torch.FloatTensor(labels)\n",
    "    num_classes = labels_th.shape[1]\n",
    "    criterion = nn.BCEWithLogitsLoss()\n",
    "    multi_class=True\n",
    "\n",
    "feat_data_th = feat_data_th.to(device)\n",
    "labels_th = labels_th.to(device)\n",
    "\n",
    "def sgd_step(net, optimizer, feat_data, labels, train_data, device):\n",
    "    \"\"\"\n",
    "    Function to updated weights with a SGD backpropagation\n",
    "    args : net, optimizer, train_loader, test_loader, loss function, number of inner epochs, args\n",
    "    return : train_loss, test_loss, grad_norm_lb\n",
    "    \"\"\"\n",
    "    net.train()\n",
    "    epoch_loss = []\n",
    "    epoch_acc = []\n",
    "    \n",
    "    # Run over the train_loader\n",
    "    mini_batches, adj = train_data\n",
    "    for mini_batch in mini_batches:\n",
    "\n",
    "        # compute current stochastic gradient\n",
    "        optimizer.zero_grad()\n",
    "        output = net(feat_data, adj)\n",
    "        \n",
    "        loss = net.criterion(output[mini_batch], labels[mini_batch])\n",
    "        loss.backward()\n",
    "        \n",
    "        optimizer.step()\n",
    "        epoch_loss.append(loss.item())\n",
    "        \n",
    "        if multi_class:\n",
    "            output[output > 0.5] = 1\n",
    "            output[output <= 0.5] = 0\n",
    "        else:\n",
    "            output = output.argmax(dim=1)\n",
    "\n",
    "        acc = f1_score(output[mini_batch].detach().cpu(), \n",
    "                       labels[mini_batch].detach().cpu(), average=\"micro\")\n",
    "        epoch_acc.append(acc)\n",
    "\n",
    "    return epoch_loss, epoch_acc\n",
    "\n",
    "@torch.no_grad()\n",
    "def inference(eval_model, feat_data, labels, test_data, device):\n",
    "    eval_model = eval_model.to(device)\n",
    "    mini_batch, adj = test_data    \n",
    "    output = eval_model(feat_data, adj)\n",
    "    loss = eval_model.criterion(output[mini_batch], labels[mini_batch]).item()\n",
    "    \n",
    "    if multi_class:\n",
    "        output[output > 0.5] = 1\n",
    "        output[output <= 0.5] = 0\n",
    "    else:\n",
    "        output = output.argmax(dim=1)\n",
    "        \n",
    "    acc = f1_score(output[mini_batch].detach().cpu(), \n",
    "                   labels[mini_batch].detach().cpu(), average=\"micro\")\n",
    "    return loss, acc"
   ]
  },
  {
   "cell_type": "code",
   "execution_count": 5,
   "metadata": {},
   "outputs": [],
   "source": [
    "\"\"\"\n",
    "Train without sampling\n",
    "\"\"\"\n",
    "\n",
    "def train_model(model, data_loader, note):\n",
    "    train_model = copy.deepcopy(model).to(device)\n",
    "    \n",
    "    results = ResultRecorder(note=note)\n",
    "    \n",
    "    optimizer = optim.Adam(train_model.parameters())\n",
    "\n",
    "    tbar = trange(args.epoch_num, desc='Training Epochs')\n",
    "    for epoch in tbar:\n",
    "        # fetch train data \n",
    "        \n",
    "        sample_time_st = time.perf_counter()\n",
    "        train_data = data_loader.get_mini_batches(batch_size=args.batch_size)\n",
    "        sample_time = time.perf_counter() - sample_time_st\n",
    "        \n",
    "        compute_time_st = time.perf_counter()\n",
    "        train_loss, train_acc = sgd_step(train_model, optimizer, feat_data_th, labels_th, train_data, device)\n",
    "        compute_time = time.perf_counter() - compute_time_st\n",
    "        \n",
    "        epoch_train_loss = np.mean(train_loss)\n",
    "        epoch_train_acc = np.mean(train_acc)\n",
    "\n",
    "        valid_data = data_loader.get_valid_batch()\n",
    "        epoch_valid_loss, epoch_valid_acc = inference(train_model, feat_data_th, labels_th, valid_data, device)\n",
    "        tbar.set_postfix(loss=epoch_train_loss,\n",
    "                         val_loss=epoch_valid_loss,\n",
    "                         val_score=epoch_valid_acc)\n",
    "\n",
    "        results.update(epoch_train_loss, \n",
    "                       epoch_train_acc,\n",
    "                       epoch_valid_loss, \n",
    "                       epoch_valid_acc, \n",
    "                       train_model, sample_time=sample_time, compute_time=compute_time)\n",
    "            \n",
    "    print('Average sampling time %.5fs, average computing time %.5fs'%\n",
    "          (np.mean(results.sample_time), np.mean(results.compute_time)))\n",
    "    \n",
    "    return results"
   ]
  },
  {
   "cell_type": "code",
   "execution_count": 6,
   "metadata": {},
   "outputs": [],
   "source": [
    "import math"
   ]
  },
  {
   "cell_type": "code",
   "execution_count": 7,
   "metadata": {},
   "outputs": [],
   "source": [
    "\n",
    "    \n",
    "class GCNII(nn.Module):\n",
    "    def __init__(self, n_feat, n_hid, n_classes, n_layers, criterion, alpha, beta):\n",
    "        from layers import GCNIILayer\n",
    "        super(GCNII, self).__init__()\n",
    "        self.n_layers = n_layers\n",
    "        self.n_hid = n_hid\n",
    "        \n",
    "        self.gcs = nn.ModuleList()\n",
    "        for _ in range(n_layers):\n",
    "            self.gcs.append(GCNIILayer(n_hid,  n_hid))\n",
    "        self.linear_in = nn.Linear(n_feat, n_hid)\n",
    "        self.linear_out = nn.Linear(n_hid, n_classes)\n",
    "        self.relu = nn.ReLU()\n",
    "        self.criterion = criterion\n",
    "        self.alpha = alpha\n",
    "        self.beta = beta\n",
    "\n",
    "    def get_alpha_beta(self, ell):\n",
    "        # alpha = 0.9\n",
    "        # beta = math.log(0.5/(ell+1)+1)\n",
    "        return self.alpha, self.beta\n",
    "    \n",
    "    def forward(self, x, adj):\n",
    "        x = self.linear_in(x)\n",
    "        x_0 = x.clone()\n",
    "        for ell in range(len(self.gcs)):\n",
    "            alpha, beta = self.get_alpha_beta(ell)\n",
    "            x = self.gcs[ell](x, adj, x_0, alpha, beta)\n",
    "            x = self.relu(x)\n",
    "        x = self.linear_out(x)\n",
    "        return x"
   ]
  },
  {
   "cell_type": "code",
   "execution_count": 8,
   "metadata": {},
   "outputs": [
    {
     "name": "stdout",
     "output_type": "stream",
     "text": [
      "['GCN', 'ResGCN', 'GCNII', 'APPNP', 'DGCN']\n"
     ]
    }
   ],
   "source": [
    "algorithm_result = dict()\n",
    "print(method)\n",
    "\n",
    "alpha_candidates = [0.9, 0.7, 0.5, 0.3, 0.1]\n",
    "beta_candidates = [0.9, 0.7, 0.5, 0.3, 0.1]"
   ]
  },
  {
   "cell_type": "code",
   "execution_count": 9,
   "metadata": {},
   "outputs": [
    {
     "data": {
      "text/plain": [
       "{}"
      ]
     },
     "execution_count": 9,
     "metadata": {},
     "output_type": "execute_result"
    }
   ],
   "source": [
    "algorithm_result"
   ]
  },
  {
   "cell_type": "code",
   "execution_count": 10,
   "metadata": {},
   "outputs": [
    {
     "name": "stderr",
     "output_type": "stream",
     "text": [
      "Training Epochs: 100%|██████████| 300/300 [00:08<00:00, 34.78it/s, loss=0.0274, val_loss=0.674, val_score=0.856]\n",
      "Training Epochs:   1%|▏         | 4/300 [00:00<00:08, 35.74it/s, loss=1.96, val_loss=1.95, val_score=0.078]"
     ]
    },
    {
     "name": "stdout",
     "output_type": "stream",
     "text": [
      "Average sampling time 0.00006s, average computing time 0.01889s\n"
     ]
    },
    {
     "name": "stderr",
     "output_type": "stream",
     "text": [
      "Training Epochs: 100%|██████████| 300/300 [00:08<00:00, 34.65it/s, loss=0.0222, val_loss=0.942, val_score=0.856]\n",
      "Training Epochs:   1%|▏         | 4/300 [00:00<00:08, 35.23it/s, loss=1.91, val_loss=1.91, val_score=0.294]"
     ]
    },
    {
     "name": "stdout",
     "output_type": "stream",
     "text": [
      "Average sampling time 0.00005s, average computing time 0.01886s\n"
     ]
    },
    {
     "name": "stderr",
     "output_type": "stream",
     "text": [
      "Training Epochs: 100%|██████████| 300/300 [00:08<00:00, 34.80it/s, loss=0.0345, val_loss=0.697, val_score=0.858]\n",
      "Training Epochs:   1%|▏         | 4/300 [00:00<00:08, 35.35it/s, loss=1.94, val_loss=1.94, val_score=0.106]"
     ]
    },
    {
     "name": "stdout",
     "output_type": "stream",
     "text": [
      "Average sampling time 0.00006s, average computing time 0.01887s\n"
     ]
    },
    {
     "name": "stderr",
     "output_type": "stream",
     "text": [
      "Training Epochs: 100%|██████████| 300/300 [00:08<00:00, 34.64it/s, loss=0.0645, val_loss=0.633, val_score=0.858]\n",
      "Training Epochs:   1%|▏         | 4/300 [00:00<00:08, 34.51it/s, loss=1.89, val_loss=1.88, val_score=0.318]"
     ]
    },
    {
     "name": "stdout",
     "output_type": "stream",
     "text": [
      "Average sampling time 0.00006s, average computing time 0.01885s\n"
     ]
    },
    {
     "name": "stderr",
     "output_type": "stream",
     "text": [
      "Training Epochs: 100%|██████████| 300/300 [00:08<00:00, 34.77it/s, loss=0.0408, val_loss=0.567, val_score=0.864]\n",
      "Training Epochs:   1%|▏         | 4/300 [00:00<00:08, 35.68it/s, loss=1.94, val_loss=1.94, val_score=0.158]"
     ]
    },
    {
     "name": "stdout",
     "output_type": "stream",
     "text": [
      "Average sampling time 0.00005s, average computing time 0.01883s\n"
     ]
    },
    {
     "name": "stderr",
     "output_type": "stream",
     "text": [
      "Training Epochs: 100%|██████████| 300/300 [00:08<00:00, 34.53it/s, loss=0.0508, val_loss=0.492, val_score=0.876]\n",
      "Training Epochs:   1%|▏         | 4/300 [00:00<00:08, 35.85it/s, loss=1.93, val_loss=1.93, val_score=0.294]"
     ]
    },
    {
     "name": "stdout",
     "output_type": "stream",
     "text": [
      "Average sampling time 0.00006s, average computing time 0.01889s\n"
     ]
    },
    {
     "name": "stderr",
     "output_type": "stream",
     "text": [
      "Training Epochs: 100%|██████████| 300/300 [00:08<00:00, 34.75it/s, loss=0.0505, val_loss=0.593, val_score=0.856]\n",
      "Training Epochs:   1%|▏         | 4/300 [00:00<00:08, 35.90it/s, loss=1.95, val_loss=1.95, val_score=0.158]"
     ]
    },
    {
     "name": "stdout",
     "output_type": "stream",
     "text": [
      "Average sampling time 0.00006s, average computing time 0.01889s\n"
     ]
    },
    {
     "name": "stderr",
     "output_type": "stream",
     "text": [
      "Training Epochs: 100%|██████████| 300/300 [00:08<00:00, 34.24it/s, loss=0.039, val_loss=0.717, val_score=0.858] \n",
      "Training Epochs:   1%|▏         | 4/300 [00:00<00:08, 33.06it/s, loss=1.96, val_loss=1.95, val_score=0.232]"
     ]
    },
    {
     "name": "stdout",
     "output_type": "stream",
     "text": [
      "Average sampling time 0.00006s, average computing time 0.01909s\n"
     ]
    },
    {
     "name": "stderr",
     "output_type": "stream",
     "text": [
      "Training Epochs: 100%|██████████| 300/300 [00:08<00:00, 34.67it/s, loss=0.0621, val_loss=0.564, val_score=0.874]\n",
      "Training Epochs:   1%|▏         | 4/300 [00:00<00:09, 32.62it/s, loss=1.94, val_loss=1.93, val_score=0.254]"
     ]
    },
    {
     "name": "stdout",
     "output_type": "stream",
     "text": [
      "Average sampling time 0.00006s, average computing time 0.01889s\n"
     ]
    },
    {
     "name": "stderr",
     "output_type": "stream",
     "text": [
      "Training Epochs: 100%|██████████| 300/300 [00:08<00:00, 34.58it/s, loss=0.044, val_loss=0.513, val_score=0.872] \n",
      "Training Epochs:   1%|▏         | 4/300 [00:00<00:08, 32.97it/s, loss=1.94, val_loss=1.94, val_score=0.296]"
     ]
    },
    {
     "name": "stdout",
     "output_type": "stream",
     "text": [
      "Average sampling time 0.00006s, average computing time 0.01891s\n"
     ]
    },
    {
     "name": "stderr",
     "output_type": "stream",
     "text": [
      "Training Epochs: 100%|██████████| 300/300 [00:08<00:00, 34.53it/s, loss=0.0183, val_loss=0.882, val_score=0.86] \n",
      "Training Epochs:   1%|▏         | 4/300 [00:00<00:08, 34.56it/s, loss=1.94, val_loss=1.94, val_score=0.182]"
     ]
    },
    {
     "name": "stdout",
     "output_type": "stream",
     "text": [
      "Average sampling time 0.00006s, average computing time 0.01895s\n"
     ]
    },
    {
     "name": "stderr",
     "output_type": "stream",
     "text": [
      "Training Epochs: 100%|██████████| 300/300 [00:08<00:00, 34.49it/s, loss=0.017, val_loss=0.895, val_score=0.856] \n",
      "Training Epochs:   1%|▏         | 4/300 [00:00<00:08, 33.64it/s, loss=1.96, val_loss=1.96, val_score=0.12] "
     ]
    },
    {
     "name": "stdout",
     "output_type": "stream",
     "text": [
      "Average sampling time 0.00006s, average computing time 0.01889s\n"
     ]
    },
    {
     "name": "stderr",
     "output_type": "stream",
     "text": [
      "Training Epochs: 100%|██████████| 300/300 [00:08<00:00, 34.79it/s, loss=0.0528, val_loss=0.777, val_score=0.856]\n",
      "Training Epochs:   1%|▏         | 4/300 [00:00<00:08, 35.20it/s, loss=1.95, val_loss=1.94, val_score=0.074]"
     ]
    },
    {
     "name": "stdout",
     "output_type": "stream",
     "text": [
      "Average sampling time 0.00006s, average computing time 0.01884s\n"
     ]
    },
    {
     "name": "stderr",
     "output_type": "stream",
     "text": [
      "Training Epochs: 100%|██████████| 300/300 [00:08<00:00, 34.62it/s, loss=0.0591, val_loss=0.655, val_score=0.854]\n",
      "Training Epochs:   1%|▏         | 4/300 [00:00<00:08, 33.28it/s, loss=1.93, val_loss=1.92, val_score=0.244]"
     ]
    },
    {
     "name": "stdout",
     "output_type": "stream",
     "text": [
      "Average sampling time 0.00005s, average computing time 0.01889s\n"
     ]
    },
    {
     "name": "stderr",
     "output_type": "stream",
     "text": [
      "Training Epochs: 100%|██████████| 300/300 [00:08<00:00, 34.68it/s, loss=0.0403, val_loss=0.557, val_score=0.864]\n",
      "Training Epochs:   1%|▏         | 4/300 [00:00<00:08, 35.85it/s, loss=1.93, val_loss=1.92, val_score=0.158]"
     ]
    },
    {
     "name": "stdout",
     "output_type": "stream",
     "text": [
      "Average sampling time 0.00006s, average computing time 0.01887s\n"
     ]
    },
    {
     "name": "stderr",
     "output_type": "stream",
     "text": [
      "Training Epochs: 100%|██████████| 300/300 [00:08<00:00, 34.60it/s, loss=0.0346, val_loss=0.708, val_score=0.856]\n",
      "Training Epochs:   1%|▏         | 4/300 [00:00<00:08, 36.07it/s, loss=1.95, val_loss=1.95, val_score=0.072]"
     ]
    },
    {
     "name": "stdout",
     "output_type": "stream",
     "text": [
      "Average sampling time 0.00005s, average computing time 0.01888s\n"
     ]
    },
    {
     "name": "stderr",
     "output_type": "stream",
     "text": [
      "Training Epochs: 100%|██████████| 300/300 [00:08<00:00, 34.73it/s, loss=0.0738, val_loss=0.798, val_score=0.856]\n",
      "Training Epochs:   1%|▏         | 4/300 [00:00<00:08, 35.79it/s, loss=1.94, val_loss=1.93, val_score=0.158]"
     ]
    },
    {
     "name": "stdout",
     "output_type": "stream",
     "text": [
      "Average sampling time 0.00006s, average computing time 0.01887s\n"
     ]
    },
    {
     "name": "stderr",
     "output_type": "stream",
     "text": [
      "Training Epochs: 100%|██████████| 300/300 [00:08<00:00, 34.69it/s, loss=0.0319, val_loss=0.758, val_score=0.846]\n",
      "Training Epochs:   1%|▏         | 4/300 [00:00<00:08, 35.74it/s, loss=1.95, val_loss=1.95, val_score=0.12]"
     ]
    },
    {
     "name": "stdout",
     "output_type": "stream",
     "text": [
      "Average sampling time 0.00006s, average computing time 0.01888s\n"
     ]
    },
    {
     "name": "stderr",
     "output_type": "stream",
     "text": [
      "Training Epochs: 100%|██████████| 300/300 [00:08<00:00, 34.78it/s, loss=0.0578, val_loss=0.667, val_score=0.856]\n",
      "Training Epochs:   1%|▏         | 4/300 [00:00<00:08, 33.04it/s, loss=1.92, val_loss=1.92, val_score=0.396]"
     ]
    },
    {
     "name": "stdout",
     "output_type": "stream",
     "text": [
      "Average sampling time 0.00006s, average computing time 0.01881s\n"
     ]
    },
    {
     "name": "stderr",
     "output_type": "stream",
     "text": [
      "Training Epochs: 100%|██████████| 300/300 [00:08<00:00, 34.55it/s, loss=0.0426, val_loss=0.599, val_score=0.874]\n",
      "Training Epochs:   1%|▏         | 4/300 [00:00<00:08, 35.73it/s, loss=1.92, val_loss=1.92, val_score=0.294]"
     ]
    },
    {
     "name": "stdout",
     "output_type": "stream",
     "text": [
      "Average sampling time 0.00006s, average computing time 0.01894s\n"
     ]
    },
    {
     "name": "stderr",
     "output_type": "stream",
     "text": [
      "Training Epochs: 100%|██████████| 300/300 [00:08<00:00, 34.66it/s, loss=0.115, val_loss=0.682, val_score=0.86]  \n",
      "Training Epochs:   1%|▏         | 4/300 [00:00<00:08, 35.71it/s, loss=1.91, val_loss=1.91, val_score=0.294]"
     ]
    },
    {
     "name": "stdout",
     "output_type": "stream",
     "text": [
      "Average sampling time 0.00006s, average computing time 0.01886s\n"
     ]
    },
    {
     "name": "stderr",
     "output_type": "stream",
     "text": [
      "Training Epochs: 100%|██████████| 300/300 [00:08<00:00, 34.62it/s, loss=0.0216, val_loss=0.704, val_score=0.868]\n",
      "Training Epochs:   1%|▏         | 4/300 [00:00<00:08, 35.99it/s, loss=1.94, val_loss=1.94, val_score=0.158]"
     ]
    },
    {
     "name": "stdout",
     "output_type": "stream",
     "text": [
      "Average sampling time 0.00005s, average computing time 0.01887s\n"
     ]
    },
    {
     "name": "stderr",
     "output_type": "stream",
     "text": [
      "Training Epochs: 100%|██████████| 300/300 [00:08<00:00, 34.54it/s, loss=0.0689, val_loss=0.631, val_score=0.864]\n",
      "Training Epochs:   1%|▏         | 4/300 [00:00<00:08, 33.37it/s, loss=1.94, val_loss=1.94, val_score=0.314]"
     ]
    },
    {
     "name": "stdout",
     "output_type": "stream",
     "text": [
      "Average sampling time 0.00005s, average computing time 0.01888s\n"
     ]
    },
    {
     "name": "stderr",
     "output_type": "stream",
     "text": [
      "Training Epochs: 100%|██████████| 300/300 [00:08<00:00, 34.67it/s, loss=0.0602, val_loss=0.621, val_score=0.852]\n",
      "Training Epochs:   1%|▏         | 4/300 [00:00<00:08, 35.53it/s, loss=1.9, val_loss=1.9, val_score=0.294]  "
     ]
    },
    {
     "name": "stdout",
     "output_type": "stream",
     "text": [
      "Average sampling time 0.00006s, average computing time 0.01888s\n"
     ]
    },
    {
     "name": "stderr",
     "output_type": "stream",
     "text": [
      "Training Epochs: 100%|██████████| 300/300 [00:08<00:00, 34.62it/s, loss=0.0413, val_loss=0.561, val_score=0.866]\n",
      "Training Epochs:   1%|▏         | 4/300 [00:00<00:08, 35.78it/s, loss=1.94, val_loss=1.93, val_score=0.2]  "
     ]
    },
    {
     "name": "stdout",
     "output_type": "stream",
     "text": [
      "Average sampling time 0.00005s, average computing time 0.01885s\n"
     ]
    },
    {
     "name": "stderr",
     "output_type": "stream",
     "text": [
      "Training Epochs: 100%|██████████| 300/300 [00:08<00:00, 34.51it/s, loss=0.0301, val_loss=0.896, val_score=0.858]\n",
      "Training Epochs:   1%|▏         | 4/300 [00:00<00:08, 35.70it/s, loss=1.94, val_loss=1.94, val_score=0.158]"
     ]
    },
    {
     "name": "stdout",
     "output_type": "stream",
     "text": [
      "Average sampling time 0.00006s, average computing time 0.01892s\n"
     ]
    },
    {
     "name": "stderr",
     "output_type": "stream",
     "text": [
      "Training Epochs: 100%|██████████| 300/300 [00:08<00:00, 34.60it/s, loss=0.0504, val_loss=0.975, val_score=0.858]\n",
      "Training Epochs:   1%|▏         | 4/300 [00:00<00:08, 35.66it/s, loss=1.95, val_loss=1.95, val_score=0.16] "
     ]
    },
    {
     "name": "stdout",
     "output_type": "stream",
     "text": [
      "Average sampling time 0.00006s, average computing time 0.01887s\n"
     ]
    },
    {
     "name": "stderr",
     "output_type": "stream",
     "text": [
      "Training Epochs: 100%|██████████| 300/300 [00:08<00:00, 34.55it/s, loss=0.0806, val_loss=0.766, val_score=0.844]\n",
      "Training Epochs:   1%|▏         | 4/300 [00:00<00:08, 34.73it/s, loss=1.94, val_loss=1.94, val_score=0.136]"
     ]
    },
    {
     "name": "stdout",
     "output_type": "stream",
     "text": [
      "Average sampling time 0.00006s, average computing time 0.01888s\n"
     ]
    },
    {
     "name": "stderr",
     "output_type": "stream",
     "text": [
      "Training Epochs: 100%|██████████| 300/300 [00:08<00:00, 34.78it/s, loss=0.148, val_loss=0.604, val_score=0.86]  \n",
      "Training Epochs:   1%|▏         | 4/300 [00:00<00:08, 34.29it/s, loss=1.89, val_loss=1.88, val_score=0.304]"
     ]
    },
    {
     "name": "stdout",
     "output_type": "stream",
     "text": [
      "Average sampling time 0.00005s, average computing time 0.01889s\n"
     ]
    },
    {
     "name": "stderr",
     "output_type": "stream",
     "text": [
      "Training Epochs: 100%|██████████| 300/300 [00:08<00:00, 34.45it/s, loss=0.0422, val_loss=0.538, val_score=0.866]\n",
      "Training Epochs:   1%|▏         | 4/300 [00:00<00:08, 35.50it/s, loss=1.94, val_loss=1.94, val_score=0.174]"
     ]
    },
    {
     "name": "stdout",
     "output_type": "stream",
     "text": [
      "Average sampling time 0.00006s, average computing time 0.01888s\n"
     ]
    },
    {
     "name": "stderr",
     "output_type": "stream",
     "text": [
      "Training Epochs: 100%|██████████| 300/300 [00:08<00:00, 34.69it/s, loss=0.0165, val_loss=1.07, val_score=0.86]  \n",
      "Training Epochs:   1%|▏         | 4/300 [00:00<00:08, 35.98it/s, loss=1.95, val_loss=1.95, val_score=0.072]"
     ]
    },
    {
     "name": "stdout",
     "output_type": "stream",
     "text": [
      "Average sampling time 0.00006s, average computing time 0.01886s\n"
     ]
    },
    {
     "name": "stderr",
     "output_type": "stream",
     "text": [
      "Training Epochs: 100%|██████████| 300/300 [00:08<00:00, 34.82it/s, loss=0.0352, val_loss=0.809, val_score=0.866]\n",
      "Training Epochs:   1%|▏         | 4/300 [00:00<00:08, 35.32it/s, loss=1.93, val_loss=1.93, val_score=0.3]  "
     ]
    },
    {
     "name": "stdout",
     "output_type": "stream",
     "text": [
      "Average sampling time 0.00006s, average computing time 0.01885s\n"
     ]
    },
    {
     "name": "stderr",
     "output_type": "stream",
     "text": [
      "Training Epochs: 100%|██████████| 300/300 [00:08<00:00, 34.47it/s, loss=0.085, val_loss=0.501, val_score=0.864] \n",
      "Training Epochs:   1%|▏         | 4/300 [00:00<00:08, 34.80it/s, loss=1.93, val_loss=1.93, val_score=0.17] "
     ]
    },
    {
     "name": "stdout",
     "output_type": "stream",
     "text": [
      "Average sampling time 0.00005s, average computing time 0.01896s\n"
     ]
    },
    {
     "name": "stderr",
     "output_type": "stream",
     "text": [
      "Training Epochs: 100%|██████████| 300/300 [00:08<00:00, 34.65it/s, loss=0.118, val_loss=0.653, val_score=0.876]\n",
      "Training Epochs:   1%|▏         | 4/300 [00:00<00:08, 33.92it/s, loss=1.91, val_loss=1.91, val_score=0.284]"
     ]
    },
    {
     "name": "stdout",
     "output_type": "stream",
     "text": [
      "Average sampling time 0.00005s, average computing time 0.01887s\n"
     ]
    },
    {
     "name": "stderr",
     "output_type": "stream",
     "text": [
      "Training Epochs: 100%|██████████| 300/300 [00:08<00:00, 34.57it/s, loss=0.0394, val_loss=0.577, val_score=0.862]\n",
      "Training Epochs:   1%|▏         | 4/300 [00:00<00:08, 35.12it/s, loss=1.94, val_loss=1.94, val_score=0.104]"
     ]
    },
    {
     "name": "stdout",
     "output_type": "stream",
     "text": [
      "Average sampling time 0.00006s, average computing time 0.01887s\n"
     ]
    },
    {
     "name": "stderr",
     "output_type": "stream",
     "text": [
      "Training Epochs: 100%|██████████| 300/300 [00:08<00:00, 34.53it/s, loss=0.0127, val_loss=0.717, val_score=0.86] \n",
      "Training Epochs:   1%|▏         | 4/300 [00:00<00:08, 32.91it/s, loss=1.94, val_loss=1.94, val_score=0.244]"
     ]
    },
    {
     "name": "stdout",
     "output_type": "stream",
     "text": [
      "Average sampling time 0.00006s, average computing time 0.01891s\n"
     ]
    },
    {
     "name": "stderr",
     "output_type": "stream",
     "text": [
      "Training Epochs: 100%|██████████| 300/300 [00:08<00:00, 34.58it/s, loss=0.283, val_loss=1.13, val_score=0.832]  \n",
      "Training Epochs:   1%|▏         | 4/300 [00:00<00:09, 32.86it/s, loss=1.94, val_loss=1.94, val_score=0.248]"
     ]
    },
    {
     "name": "stdout",
     "output_type": "stream",
     "text": [
      "Average sampling time 0.00005s, average computing time 0.01890s\n"
     ]
    },
    {
     "name": "stderr",
     "output_type": "stream",
     "text": [
      "Training Epochs: 100%|██████████| 300/300 [00:08<00:00, 34.69it/s, loss=0.0509, val_loss=0.778, val_score=0.846]\n",
      "Training Epochs:   1%|▏         | 4/300 [00:00<00:08, 33.13it/s, loss=1.92, val_loss=1.92, val_score=0.344]"
     ]
    },
    {
     "name": "stdout",
     "output_type": "stream",
     "text": [
      "Average sampling time 0.00006s, average computing time 0.01890s\n"
     ]
    },
    {
     "name": "stderr",
     "output_type": "stream",
     "text": [
      "Training Epochs: 100%|██████████| 300/300 [00:08<00:00, 34.67it/s, loss=0.0626, val_loss=0.617, val_score=0.85] \n",
      "Training Epochs:   1%|▏         | 4/300 [00:00<00:09, 32.79it/s, loss=1.92, val_loss=1.91, val_score=0.382]"
     ]
    },
    {
     "name": "stdout",
     "output_type": "stream",
     "text": [
      "Average sampling time 0.00006s, average computing time 0.01887s\n"
     ]
    },
    {
     "name": "stderr",
     "output_type": "stream",
     "text": [
      "Training Epochs: 100%|██████████| 300/300 [00:08<00:00, 34.67it/s, loss=0.0403, val_loss=0.588, val_score=0.852]\n",
      "Training Epochs:   1%|▏         | 4/300 [00:00<00:08, 35.10it/s, loss=1.94, val_loss=1.93, val_score=0.174]"
     ]
    },
    {
     "name": "stdout",
     "output_type": "stream",
     "text": [
      "Average sampling time 0.00005s, average computing time 0.01892s\n"
     ]
    },
    {
     "name": "stderr",
     "output_type": "stream",
     "text": [
      "Training Epochs: 100%|██████████| 300/300 [00:08<00:00, 34.67it/s, loss=0.0349, val_loss=0.982, val_score=0.854]\n",
      "Training Epochs:   1%|▏         | 4/300 [00:00<00:08, 35.97it/s, loss=1.93, val_loss=1.93, val_score=0.294]"
     ]
    },
    {
     "name": "stdout",
     "output_type": "stream",
     "text": [
      "Average sampling time 0.00005s, average computing time 0.01890s\n"
     ]
    },
    {
     "name": "stderr",
     "output_type": "stream",
     "text": [
      "Training Epochs: 100%|██████████| 300/300 [00:08<00:00, 34.61it/s, loss=0.0311, val_loss=1.01, val_score=0.848] \n",
      "Training Epochs:   1%|▏         | 4/300 [00:00<00:08, 33.06it/s, loss=1.94, val_loss=1.94, val_score=0.12]"
     ]
    },
    {
     "name": "stdout",
     "output_type": "stream",
     "text": [
      "Average sampling time 0.00006s, average computing time 0.01889s\n"
     ]
    },
    {
     "name": "stderr",
     "output_type": "stream",
     "text": [
      "Training Epochs: 100%|██████████| 300/300 [00:08<00:00, 34.70it/s, loss=0.0491, val_loss=0.647, val_score=0.866]\n",
      "Training Epochs:   1%|▏         | 4/300 [00:00<00:08, 33.15it/s, loss=1.93, val_loss=1.93, val_score=0.342]"
     ]
    },
    {
     "name": "stdout",
     "output_type": "stream",
     "text": [
      "Average sampling time 0.00005s, average computing time 0.01891s\n"
     ]
    },
    {
     "name": "stderr",
     "output_type": "stream",
     "text": [
      "Training Epochs: 100%|██████████| 300/300 [00:08<00:00, 34.70it/s, loss=0.0708, val_loss=0.581, val_score=0.876]\n",
      "Training Epochs:   1%|▏         | 4/300 [00:00<00:08, 34.88it/s, loss=1.93, val_loss=1.92, val_score=0.142]"
     ]
    },
    {
     "name": "stdout",
     "output_type": "stream",
     "text": [
      "Average sampling time 0.00006s, average computing time 0.01891s\n"
     ]
    },
    {
     "name": "stderr",
     "output_type": "stream",
     "text": [
      "Training Epochs: 100%|██████████| 300/300 [00:08<00:00, 34.70it/s, loss=0.0395, val_loss=0.582, val_score=0.864]\n",
      "Training Epochs:   1%|▏         | 4/300 [00:00<00:08, 35.69it/s, loss=1.94, val_loss=1.94, val_score=0.2]  "
     ]
    },
    {
     "name": "stdout",
     "output_type": "stream",
     "text": [
      "Average sampling time 0.00006s, average computing time 0.01892s\n"
     ]
    },
    {
     "name": "stderr",
     "output_type": "stream",
     "text": [
      "Training Epochs: 100%|██████████| 300/300 [00:08<00:00, 34.81it/s, loss=0.0541, val_loss=0.611, val_score=0.872]\n",
      "Training Epochs:   1%|▏         | 4/300 [00:00<00:08, 35.97it/s, loss=1.93, val_loss=1.92, val_score=0.294]"
     ]
    },
    {
     "name": "stdout",
     "output_type": "stream",
     "text": [
      "Average sampling time 0.00006s, average computing time 0.01888s\n"
     ]
    },
    {
     "name": "stderr",
     "output_type": "stream",
     "text": [
      "Training Epochs: 100%|██████████| 300/300 [00:08<00:00, 34.76it/s, loss=0.0236, val_loss=0.717, val_score=0.85] \n",
      "Training Epochs:   1%|▏         | 4/300 [00:00<00:08, 35.76it/s, loss=1.96, val_loss=1.96, val_score=0.08] "
     ]
    },
    {
     "name": "stdout",
     "output_type": "stream",
     "text": [
      "Average sampling time 0.00006s, average computing time 0.01888s\n"
     ]
    },
    {
     "name": "stderr",
     "output_type": "stream",
     "text": [
      "Training Epochs: 100%|██████████| 300/300 [00:08<00:00, 34.44it/s, loss=0.0511, val_loss=0.771, val_score=0.852]\n",
      "Training Epochs:   1%|▏         | 4/300 [00:00<00:08, 35.19it/s, loss=1.92, val_loss=1.92, val_score=0.294]"
     ]
    },
    {
     "name": "stdout",
     "output_type": "stream",
     "text": [
      "Average sampling time 0.00006s, average computing time 0.01894s\n"
     ]
    },
    {
     "name": "stderr",
     "output_type": "stream",
     "text": [
      "Training Epochs: 100%|██████████| 300/300 [00:08<00:00, 34.61it/s, loss=0.079, val_loss=0.633, val_score=0.862] \n",
      "Training Epochs:   1%|▏         | 4/300 [00:00<00:08, 33.22it/s, loss=1.9, val_loss=1.9, val_score=0.45]   "
     ]
    },
    {
     "name": "stdout",
     "output_type": "stream",
     "text": [
      "Average sampling time 0.00006s, average computing time 0.01891s\n"
     ]
    },
    {
     "name": "stderr",
     "output_type": "stream",
     "text": [
      "Training Epochs: 100%|██████████| 300/300 [00:08<00:00, 34.71it/s, loss=0.0424, val_loss=0.578, val_score=0.87] "
     ]
    },
    {
     "name": "stdout",
     "output_type": "stream",
     "text": [
      "Average sampling time 0.00006s, average computing time 0.01893s\n"
     ]
    },
    {
     "name": "stderr",
     "output_type": "stream",
     "text": [
      "\n"
     ]
    }
   ],
   "source": [
    "\n",
    "for repeat in range(10):\n",
    "    \n",
    "    # for alpha in alpha_candidates:\n",
    "    #     beta = 0.2\n",
    "    for beta in beta_candidates:\n",
    "        alpha=0.9\n",
    "        \n",
    "        result_name = 'GCNII_%.1f_%.1f'%(alpha, beta)\n",
    "        if result_name not in algorithm_result.keys():\n",
    "            algorithm_result[result_name] = list()\n",
    "        \n",
    "        model = GCNII(n_feat=feat_data.shape[1], \n",
    "                    n_hid=args.nhid, \n",
    "                    n_classes=num_classes, \n",
    "                    n_layers=args.n_layers, \n",
    "                    criterion=criterion, \n",
    "                    alpha=alpha, beta=beta)\n",
    "\n",
    "        results = train_model(model, data_loader, note=\"GCNII (L=%d, repeat=%d)\"%(args.n_layers, repeat))\n",
    "        results = np.array([\n",
    "            results.train_loss_record,\n",
    "            results.train_acc_record,\n",
    "            results.loss_record,\n",
    "            results.acc_record\n",
    "        ])\n",
    "        algorithm_result['GCNII_%.1f_%.1f'%(alpha, beta)].append(results)   "
   ]
  },
  {
   "cell_type": "code",
   "execution_count": 11,
   "metadata": {},
   "outputs": [],
   "source": [
    "def get_mean_std_epoch_result(all_epoch_results):\n",
    "\n",
    "    all_train_loss = []\n",
    "    all_valid_loss = []\n",
    "    all_train_acc = []\n",
    "    all_valid_acc = []\n",
    "    all_gen_error = []\n",
    "\n",
    "    for epoch_results in all_epoch_results:\n",
    "        all_train_loss.append(epoch_results[0,:])\n",
    "        all_valid_loss.append(epoch_results[2,:])\n",
    "        all_train_acc.append(epoch_results[1,:])\n",
    "        all_valid_acc.append(epoch_results[3,:])\n",
    "        all_gen_error.append(epoch_results[2,:] - epoch_results[0,:])\n",
    "\n",
    "    all_epoch_results_mean = np.array([np.mean(all_train_loss, axis=0),\n",
    "                                       np.mean(all_valid_loss, axis=0),\n",
    "                                       np.mean(all_train_acc, axis=0),\n",
    "                                       np.mean(all_valid_acc, axis=0),\n",
    "                                       np.mean(all_gen_error, axis=0)])\n",
    "\n",
    "    all_epoch_results_std = np.array([np.std(all_train_loss, axis=0),\n",
    "                                      np.std(all_valid_loss, axis=0),\n",
    "                                      np.std(all_train_acc, axis=0),\n",
    "                                      np.std(all_valid_acc, axis=0),\n",
    "                                      np.std(all_gen_error, axis=0)])\n",
    "    \n",
    "    return all_epoch_results_mean, all_epoch_results_std"
   ]
  },
  {
   "cell_type": "code",
   "execution_count": 12,
   "metadata": {},
   "outputs": [
    {
     "name": "stdout",
     "output_type": "stream",
     "text": [
      "(5, 300) (5, 300)\n",
      "GCNII_0.9_0.9 0.7203494056127966\n",
      "(5, 300) (5, 300)\n",
      "GCNII_0.9_0.7 0.3050482541322708\n",
      "(5, 300) (5, 300)\n",
      "GCNII_0.9_0.5 0.34338483586907387\n",
      "(5, 300) (5, 300)\n",
      "GCNII_0.9_0.3 0.4151955969631672\n",
      "(5, 300) (5, 300)\n",
      "GCNII_0.9_0.1 0.22258733958005905\n"
     ]
    },
    {
     "data": {
      "image/png": "[encoded data removed]",
      "text/plain": [
       "<Figure size 432x288 with 1 Axes>"
      ]
     },
     "metadata": {
      "needs_background": "light"
     },
     "output_type": "display_data"
    }
   ],
   "source": [
    "fig, axs = plt.subplots()\n",
    "n_layers = args.n_layers\n",
    "\n",
    "# beta=0.2\n",
    "# for alpha in alpha_candidates:\n",
    "alpha=0.9\n",
    "for beta in beta_candidates:\n",
    "    algorithm = 'GCNII_%.1f_%.1f'%(alpha, beta)\n",
    "    color = next(axs._get_lines.prop_cycler)['color']\n",
    "    \n",
    "    all_epoch_results = algorithm_result[algorithm]\n",
    "    all_epoch_results_mean, all_epoch_results_std = get_mean_std_epoch_result(all_epoch_results)\n",
    "    print(all_epoch_results_mean.shape, all_epoch_results_std.shape)\n",
    "    \n",
    "    best_iter = np.argmax(all_epoch_results_mean[3]) # valid acc\n",
    "    stop_iter = np.argmax(all_epoch_results_mean[2]) # train acc\n",
    "\n",
    "    y_vals = all_epoch_results_mean[2][:stop_iter]\n",
    "    y_stds = all_epoch_results_std[2][:stop_iter]\n",
    "    x_vals = np.arange(len(y_vals))\n",
    "    \n",
    "    algorithm_n = 'GCNII alpha=%.1f beta=%.1f'%(alpha, beta)\n",
    "    axs.plot(x_vals, y_vals, label='%s (L=%d)'%(algorithm_n, n_layers), color=color, linestyle='-')\n",
    "    axs.fill_between(x_vals, y_vals-y_stds, y_vals+y_stds ,alpha=0.2, color=color)\n",
    "\n",
    "#     y_vals = all_epoch_results_mean[3][:stop_iter]\n",
    "#     y_stds = all_epoch_results_std[3][:stop_iter]\n",
    "#     x_vals = np.arange(len(y_vals))\n",
    "#     axs.plot(x_vals, y_vals, label='%s (L=%d): Valid'%(algorithm, n_layers), color=color, linestyle='--')\n",
    "#     axs.fill_between(x_vals, y_vals-y_stds, y_vals+y_stds ,alpha=0.2, color=color)\n",
    "    \n",
    "    print(algorithm, all_epoch_results_mean[4][best_iter])\n",
    "\n",
    "plt.title('F1-score / Iterations')\n",
    "axs.set_ylabel('F1-score')\n",
    "axs.set_xlabel('Iterations')\n",
    "axs.grid(True)\n",
    "fig.tight_layout()\n",
    "plt.legend()\n",
    "plt.savefig('f1_score_synthetic.pdf')\n",
    "# plt.close()"
   ]
  },
  {
   "cell_type": "code",
   "execution_count": 13,
   "metadata": {},
   "outputs": [
    {
     "data": {
      "text/plain": [
       "(5, 300)"
      ]
     },
     "execution_count": 13,
     "metadata": {},
     "output_type": "execute_result"
    }
   ],
   "source": [
    "all_epoch_results_mean.shape"
   ]
  },
  {
   "cell_type": "code",
   "execution_count": null,
   "metadata": {},
   "outputs": [],
   "source": []
  },
  {
   "cell_type": "code",
   "execution_count": null,
   "metadata": {},
   "outputs": [],
   "source": []
  },
  {
   "cell_type": "code",
   "execution_count": 14,
   "metadata": {},
   "outputs": [
    {
     "data": {
      "image/png": "[encoded data removed]",
      "text/plain": [
       "<Figure size 432x288 with 1 Axes>"
      ]
     },
     "metadata": {
      "needs_background": "light"
     },
     "output_type": "display_data"
    }
   ],
   "source": [
    "fig, axs = plt.subplots()\n",
    "\n",
    "# beta=0.2\n",
    "# for alpha in alpha_candidates:\n",
    "alpha=0.9\n",
    "for beta in beta_candidates:\n",
    "    algorithm = 'GCNII_%.1f_%.1f'%(alpha, beta)\n",
    "    \n",
    "    all_epoch_results = algorithm_result[algorithm]\n",
    "    all_epoch_results_mean, all_epoch_results_std = get_mean_std_epoch_result(all_epoch_results)\n",
    "\n",
    "    best_iter = np.argmax(all_epoch_results_mean[3])\n",
    "    stop_iter = np.argmax(all_epoch_results_mean[2])\n",
    "    \n",
    "    y_vals = all_epoch_results_mean[4][:stop_iter]\n",
    "    y_stds = all_epoch_results_std[4][:stop_iter]\n",
    "    x_vals = np.arange(len(y_vals))\n",
    "    \n",
    "    algorithm_n = 'GCNII alpha=%.1f beta=%.1f'%(alpha, beta)\n",
    "    axs.plot(x_vals, y_vals, label='%s (L=%d)'%(algorithm_n, n_layers))\n",
    "    axs.fill_between(x_vals, y_vals-y_stds, y_vals+y_stds ,alpha=0.2)\n",
    "\n",
    "\n",
    "plt.title('Generalization error / Iterations')\n",
    "axs.set_ylabel('Generalization error')\n",
    "axs.set_xlabel('Iterations')\n",
    "axs.grid(True)\n",
    "fig.tight_layout()\n",
    "plt.legend()\n",
    "plt.savefig('generalization_error_synthetic.pdf')\n",
    "# plt.close()"
   ]
  },
  {
   "cell_type": "code",
   "execution_count": null,
   "metadata": {},
   "outputs": [],
   "source": []
  }
 ],
 "metadata": {
  "kernelspec": {
   "display_name": "Python 3",
   "language": "python",
   "name": "python3"
  },
  "language_info": {
   "codemirror_mode": {
    "name": "ipython",
    "version": 3
   },
   "file_extension": ".py",
   "mimetype": "text/x-python",
   "name": "python",
   "nbconvert_exporter": "python",
   "pygments_lexer": "ipython3",
   "version": "3.7.6"
  }
 },
 "nbformat": 4,
 "nbformat_minor": 4
}
