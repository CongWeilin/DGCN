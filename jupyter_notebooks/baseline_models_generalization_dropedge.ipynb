{
 "cells": [
  {
   "cell_type": "code",
   "execution_count": 1,
   "metadata": {},
   "outputs": [],
   "source": [
    "import torch\n",
    "import torch.nn as nn\n",
    "import torch.optim as optim\n",
    "\n",
    "from utils import load_data, process_graph_data\n",
    "from utils import package_mxl, adj_rw_norm\n",
    "from utils import sparse_mx_to_torch_sparse_tensor\n",
    "from utils import ResultRecorder\n",
    "\n",
    "from model import GCN, GCNBias, SGC, ResGCN, GCNII, APPNP, MLP\n",
    "from load_semigcn_data import load_data_gcn\n",
    "from data_loader import DataLoader\n",
    "\n",
    "import numpy as np\n",
    "import copy \n",
    "import time\n",
    "from sklearn.metrics import f1_score\n",
    "from sklearn.metrics import pairwise_distances\n",
    "import matplotlib.pyplot as plt\n",
    "import matplotlib.ticker as mticker\n",
    "from tqdm import trange\n",
    "from scipy.sparse.csgraph import connected_components\n",
    "import pickle\n",
    "import os\n"
   ]
  },
  {
   "cell_type": "code",
   "execution_count": 2,
   "metadata": {},
   "outputs": [
    {
     "name": "stdout",
     "output_type": "stream",
     "text": [
      "Namespace(batch_size=2000, cuda=0, dataset='citeseer', dropout=0, epoch_num=500, method='GCN/ResGCN/GCNII/DropEdge', n_layers=4, nhid=64)\n"
     ]
    }
   ],
   "source": [
    "import sys; sys.argv=['']; del sys\n",
    "import warnings\n",
    "warnings.filterwarnings(\"ignore\", category=RuntimeWarning)\n",
    "warnings.filterwarnings(\"ignore\", category=UserWarning)\n",
    "\n",
    "import argparse\n",
    "\"\"\"\n",
    "Dataset arguments\n",
    "\"\"\"\n",
    "parser = argparse.ArgumentParser(\n",
    "    description='Training GCN on Large-scale Graph Datasets')\n",
    "parser.add_argument('--dataset', type=str, default='citeseer',\n",
    "                    help='Dataset name: pubmed/flickr/reddit/ppi-large')\n",
    "parser.add_argument('--method', type=str, default='GCN/ResGCN/GCNII/DropEdge', # SGC/GCN/GCNBias/ResGCN/GCNII/APPNP\n",
    "                    help='Algorithms: seperate using slash')\n",
    "parser.add_argument('--nhid', type=int, default=64,\n",
    "                    help='Hidden state dimension')\n",
    "parser.add_argument('--epoch_num', type=int, default=500,\n",
    "                    help='Number of Epoch')\n",
    "parser.add_argument('--batch_size', type=int, default=2000,\n",
    "                    help='size of output node in a batch')\n",
    "parser.add_argument('--n_layers', type=int, default=4,\n",
    "                    help='Number of GCN layers')\n",
    "parser.add_argument('--dropout', type=float, default=0,\n",
    "                    help='Dropout rate')\n",
    "parser.add_argument('--cuda', type=int, default=0,\n",
    "                    help='Avaiable GPU ID')\n",
    "args = parser.parse_args()\n",
    "print(args)\n",
    "\n",
    "method = args.method.split('/')\n",
    "\n",
    "\"\"\"\n",
    "Prepare devices\n",
    "\"\"\"\n",
    "if args.cuda != -1:\n",
    "    device = torch.device(\"cuda:\" + str(args.cuda))\n",
    "else:\n",
    "    device = torch.device(\"cpu\")\n",
    "    \n",
    "if args.dataset not in ['cora', 'citeseer', 'pubmed']:\n",
    "    temp_data = load_data(args.dataset) \n",
    "else:\n",
    "    temp_data = load_data_gcn(args.dataset)\n",
    "\n",
    "adj_full, adj_train, feat_data, labels, role = process_graph_data(*temp_data)\n",
    "\n",
    "train_nodes = np.array(role['tr'])\n",
    "valid_nodes = np.array(role['va'])\n",
    "test_nodes = np.array(role['te'])\n",
    "\n",
    "data_loader = DataLoader(adj_full, train_nodes, valid_nodes, test_nodes, device)"
   ]
  },
  {
   "cell_type": "code",
   "execution_count": 3,
   "metadata": {},
   "outputs": [],
   "source": [
    "# def weight_constaint(model):\n",
    "#     for p in model.parameters():\n",
    "#         if p.data.norm(2) > 20:\n",
    "#             p.data = p.data / p.data.norm(2)"
   ]
  },
  {
   "cell_type": "code",
   "execution_count": 4,
   "metadata": {},
   "outputs": [],
   "source": [
    "\"\"\"\n",
    "Setup datasets and models for training (multi-class use sigmoid+binary_cross_entropy, use softmax+nll_loss otherwise)\n",
    "\"\"\"\n",
    "\n",
    "if args.dataset in ['flickr', 'reddit', 'cora', 'citeseer', 'pubmed']:\n",
    "    feat_data_th = torch.FloatTensor(feat_data)\n",
    "    labels_th = torch.LongTensor(labels.argmax(1))\n",
    "    num_classes = labels_th.max().item()+1\n",
    "    criterion = nn.CrossEntropyLoss()\n",
    "    multi_class=False\n",
    "elif args.dataset in ['ppi', 'ppi-large', 'amazon', 'yelp']:\n",
    "    feat_data_th = torch.FloatTensor(feat_data)\n",
    "    labels_th = torch.FloatTensor(labels)\n",
    "    num_classes = labels_th.shape[1]\n",
    "    criterion = nn.BCEWithLogitsLoss()\n",
    "    multi_class=True\n",
    "\n",
    "feat_data_th = feat_data_th.to(device)\n",
    "labels_th = labels_th.to(device)\n",
    "\n",
    "def sgd_step(net, optimizer, feat_data, labels, train_data, device):\n",
    "    \"\"\"\n",
    "    Function to updated weights with a SGD backpropagation\n",
    "    args : net, optimizer, train_loader, test_loader, loss function, number of inner epochs, args\n",
    "    return : train_loss, test_loss, grad_norm_lb\n",
    "    \"\"\"\n",
    "    net.train()\n",
    "    epoch_loss = []\n",
    "    epoch_acc = []\n",
    "    \n",
    "    # Run over the train_loader\n",
    "    mini_batches, adj = train_data\n",
    "    for mini_batch in mini_batches:\n",
    "\n",
    "        # compute current stochastic gradient\n",
    "        optimizer.zero_grad()\n",
    "        output = net(feat_data, adj)\n",
    "        \n",
    "        loss = net.criterion(output[mini_batch], labels[mini_batch])\n",
    "        loss.backward()\n",
    "        \n",
    "        optimizer.step()\n",
    "        epoch_loss.append(loss.item())\n",
    "        \n",
    "        if multi_class:\n",
    "            output[output > 0.5] = 1\n",
    "            output[output <= 0.5] = 0\n",
    "        else:\n",
    "            output = output.argmax(dim=1)\n",
    "\n",
    "        acc = f1_score(output[mini_batch].detach().cpu(), \n",
    "                       labels[mini_batch].detach().cpu(), average=\"micro\")\n",
    "        epoch_acc.append(acc)\n",
    "\n",
    "    return epoch_loss, epoch_acc\n",
    "\n",
    "@torch.no_grad()\n",
    "def inference(eval_model, feat_data, labels, test_data, device):\n",
    "    eval_model = eval_model.to(device)\n",
    "    mini_batch, adj = test_data    \n",
    "    output = eval_model(feat_data, adj)\n",
    "    loss = eval_model.criterion(output[mini_batch], labels[mini_batch]).item()\n",
    "    \n",
    "    if multi_class:\n",
    "        output[output > 0.5] = 1\n",
    "        output[output <= 0.5] = 0\n",
    "    else:\n",
    "        output = output.argmax(dim=1)\n",
    "        \n",
    "    acc = f1_score(output[mini_batch].detach().cpu(), \n",
    "                   labels[mini_batch].detach().cpu(), average=\"micro\")\n",
    "    return loss, acc"
   ]
  },
  {
   "cell_type": "code",
   "execution_count": 5,
   "metadata": {},
   "outputs": [],
   "source": [
    "from collections import OrderedDict\n",
    "def copy_model(model):\n",
    "    state_dict = {k:v.to('cpu') for k, v in model.named_parameters()}\n",
    "    state_dict = OrderedDict(state_dict)\n",
    "    return state_dict\n",
    "def copy_grad(model):\n",
    "    state_dict = {k:v.grad.to('cpu') for k, v in model.named_parameters()}\n",
    "    state_dict = OrderedDict(state_dict)\n",
    "    return state_dict"
   ]
  },
  {
   "cell_type": "code",
   "execution_count": 6,
   "metadata": {},
   "outputs": [],
   "source": [
    "\"\"\"\n",
    "Train without sampling\n",
    "\"\"\"\n",
    "\n",
    "def train_model(model, data_loader, note, dropedge=1):\n",
    "    train_model = copy.deepcopy(model).to(device)\n",
    "    \n",
    "    results = ResultRecorder(note=note)\n",
    "    \n",
    "    optimizer = optim.Adam(train_model.parameters())\n",
    "\n",
    "    tbar = trange(args.epoch_num, desc='Training Epochs')\n",
    "    for epoch in tbar:\n",
    "        # fetch train data \n",
    "        \n",
    "        sample_time_st = time.perf_counter()\n",
    "        if dropedge<1:\n",
    "            train_data = data_loader.get_mini_batch_dropedge(dropedge)\n",
    "        else:\n",
    "            train_data = data_loader.get_mini_batches(batch_size=args.batch_size)\n",
    "        sample_time = time.perf_counter() - sample_time_st\n",
    "        \n",
    "        compute_time_st = time.perf_counter()\n",
    "        train_loss, train_acc = sgd_step(train_model, optimizer, feat_data_th, labels_th, train_data, device)\n",
    "        compute_time = time.perf_counter() - compute_time_st\n",
    "        \n",
    "        epoch_train_loss = np.mean(train_loss)\n",
    "        epoch_train_acc = np.mean(train_acc)\n",
    "\n",
    "        valid_data = data_loader.get_valid_batch()\n",
    "        epoch_valid_loss, epoch_valid_acc = inference(train_model, feat_data_th, labels_th, valid_data, device)\n",
    "        tbar.set_postfix(loss=epoch_train_loss,\n",
    "                         val_loss=epoch_valid_loss,\n",
    "                         val_score=epoch_valid_acc)\n",
    "\n",
    "        results.update(epoch_train_loss, \n",
    "                       epoch_train_acc,\n",
    "                       epoch_valid_loss, \n",
    "                       epoch_valid_acc, \n",
    "                       train_model, sample_time=sample_time, compute_time=compute_time)\n",
    "        \n",
    "    \n",
    "    print('Average sampling time %.5fs, average computing time %.5fs'%\n",
    "          (np.mean(results.sample_time), np.mean(results.compute_time)))\n",
    "    \n",
    "    return results"
   ]
  },
  {
   "cell_type": "code",
   "execution_count": 7,
   "metadata": {},
   "outputs": [],
   "source": [
    "class PairNorm(nn.Module):\n",
    "    def __init__(self, mode='PN', scale=1):\n",
    "        super(PairNorm, self).__init__()\n",
    "        self.mode = mode\n",
    "        self.scale = scale\n",
    "                \n",
    "    def forward(self, x):\n",
    "        if self.mode == 'None':\n",
    "            return x\n",
    "        \n",
    "        col_mean = x.mean(dim=0)      \n",
    "        if self.mode == 'PN':\n",
    "            x = x - col_mean\n",
    "            rownorm_mean = (1e-6 + x.pow(2).sum(dim=1).mean()).sqrt() \n",
    "            x = self.scale * x / rownorm_mean\n",
    "\n",
    "        return x\n"
   ]
  },
  {
   "cell_type": "code",
   "execution_count": 8,
   "metadata": {},
   "outputs": [],
   "source": [
    "import math\n",
    "\n",
    "class GCN(nn.Module):\n",
    "    def __init__(self, n_feat, n_hid, n_classes, n_layers, dropout, criterion):\n",
    "        from layers import GraphConv\n",
    "        super(GCN, self).__init__()\n",
    "        self.n_layers = n_layers\n",
    "        self.n_hid = n_hid\n",
    "        \n",
    "        self.gcs = nn.ModuleList()\n",
    "        for _ in range(n_layers):\n",
    "            self.gcs.append(GraphConv(n_hid,  n_hid))\n",
    "        self.linear_in = nn.Linear(n_feat, n_hid)\n",
    "        self.linear_out = nn.Linear(n_hid, n_classes)\n",
    "        self.relu = nn.ReLU()\n",
    "        self.dropout = nn.Dropout(dropout)\n",
    "        self.criterion = criterion\n",
    "\n",
    "    def forward(self, x, adj):\n",
    "        x = self.linear_in(x)\n",
    "        for ell in range(len(self.gcs)):\n",
    "            x = self.gcs[ell](x, adj)\n",
    "            x = self.relu(x)\n",
    "            x = self.dropout(x)\n",
    "        x = self.linear_out(x)\n",
    "        return x\n",
    "    \n",
    "class PairNorm(nn.Module):\n",
    "    def __init__(self, n_feat, n_hid, n_classes, n_layers, dropout, criterion):\n",
    "        from layers import GraphConv\n",
    "        super(PairNorm, self).__init__()\n",
    "        self.n_layers = n_layers\n",
    "        self.n_hid = n_hid\n",
    "        \n",
    "        self.gcs = nn.ModuleList()\n",
    "        for _ in range(n_layers):\n",
    "            self.gcs.append(GraphConv(n_hid,  n_hid))\n",
    "        self.linear_in = nn.Linear(n_feat, n_hid)\n",
    "        self.linear_out = nn.Linear(n_hid, n_classes)\n",
    "        self.relu = nn.ReLU()\n",
    "        self.dropout = nn.Dropout(dropout)\n",
    "        self.criterion = criterion\n",
    "\n",
    "    def norm(self, x, scale=1):\n",
    "        col_mean = x.mean(dim=0)      \n",
    "        x = x - col_mean\n",
    "        rownorm_mean = (1e-6 + x.pow(2).sum(dim=1).mean()).sqrt() \n",
    "        x = scale * x / rownorm_mean\n",
    "        return x\n",
    "            \n",
    "    def forward(self, x, adj):\n",
    "        x = self.linear_in(x)\n",
    "        for ell in range(len(self.gcs)):\n",
    "            x = self.gcs[ell](x, adj)\n",
    "            x = self.norm(x)\n",
    "            x = self.relu(x)\n",
    "            x = self.dropout(x)\n",
    "        x = self.linear_out(x)\n",
    "        return x"
   ]
  },
  {
   "cell_type": "code",
   "execution_count": 9,
   "metadata": {},
   "outputs": [
    {
     "name": "stderr",
     "output_type": "stream",
     "text": [
      "Training Epochs: 100%|██████████| 500/500 [00:05<00:00, 91.72it/s, loss=0.0417, val_loss=8.46, val_score=0.668]\n",
      "Training Epochs:   2%|▏         | 9/500 [00:00<00:05, 89.45it/s, loss=1.66, val_loss=1.65, val_score=0.342]"
     ]
    },
    {
     "name": "stdout",
     "output_type": "stream",
     "text": [
      "Average sampling time 0.00006s, average computing time 0.00681s\n"
     ]
    },
    {
     "name": "stderr",
     "output_type": "stream",
     "text": [
      "Training Epochs: 100%|██████████| 500/500 [00:05<00:00, 92.28it/s, loss=0.0424, val_loss=8.39, val_score=0.676]\n",
      "Training Epochs:   2%|▏         | 10/500 [00:00<00:05, 90.13it/s, loss=1.73, val_loss=1.73, val_score=0.274]"
     ]
    },
    {
     "name": "stdout",
     "output_type": "stream",
     "text": [
      "Average sampling time 0.00006s, average computing time 0.00677s\n"
     ]
    },
    {
     "name": "stderr",
     "output_type": "stream",
     "text": [
      "Training Epochs: 100%|██████████| 500/500 [00:05<00:00, 92.42it/s, loss=0.0399, val_loss=9.02, val_score=0.668]\n",
      "Training Epochs:   2%|▏         | 9/500 [00:00<00:05, 87.11it/s, loss=1.7, val_loss=1.7, val_score=0.36]   "
     ]
    },
    {
     "name": "stdout",
     "output_type": "stream",
     "text": [
      "Average sampling time 0.00006s, average computing time 0.00678s\n"
     ]
    },
    {
     "name": "stderr",
     "output_type": "stream",
     "text": [
      "Training Epochs: 100%|██████████| 500/500 [00:05<00:00, 92.23it/s, loss=0.0484, val_loss=8.6, val_score=0.676] \n",
      "Training Epochs:   2%|▏         | 10/500 [00:00<00:05, 90.60it/s, loss=1.69, val_loss=1.68, val_score=0.484]"
     ]
    },
    {
     "name": "stdout",
     "output_type": "stream",
     "text": [
      "Average sampling time 0.00007s, average computing time 0.00680s\n"
     ]
    },
    {
     "name": "stderr",
     "output_type": "stream",
     "text": [
      "Training Epochs: 100%|██████████| 500/500 [00:05<00:00, 92.33it/s, loss=0.0389, val_loss=7.76, val_score=0.662]\n",
      "Training Epochs:   2%|▏         | 10/500 [00:00<00:05, 90.27it/s, loss=1.65, val_loss=1.65, val_score=0.254]"
     ]
    },
    {
     "name": "stdout",
     "output_type": "stream",
     "text": [
      "Average sampling time 0.00007s, average computing time 0.00679s\n"
     ]
    },
    {
     "name": "stderr",
     "output_type": "stream",
     "text": [
      "Training Epochs: 100%|██████████| 500/500 [00:05<00:00, 92.44it/s, loss=0.0392, val_loss=9.34, val_score=0.678]\n",
      "Training Epochs:   2%|▏         | 10/500 [00:00<00:05, 92.68it/s, loss=1.69, val_loss=1.69, val_score=0.358]"
     ]
    },
    {
     "name": "stdout",
     "output_type": "stream",
     "text": [
      "Average sampling time 0.00006s, average computing time 0.00678s\n"
     ]
    },
    {
     "name": "stderr",
     "output_type": "stream",
     "text": [
      "Training Epochs: 100%|██████████| 500/500 [00:05<00:00, 92.18it/s, loss=0.0405, val_loss=8.25, val_score=0.672]\n",
      "Training Epochs:   2%|▏         | 10/500 [00:00<00:05, 94.03it/s, loss=1.73, val_loss=1.73, val_score=0.408]"
     ]
    },
    {
     "name": "stdout",
     "output_type": "stream",
     "text": [
      "Average sampling time 0.00006s, average computing time 0.00681s\n"
     ]
    },
    {
     "name": "stderr",
     "output_type": "stream",
     "text": [
      "Training Epochs: 100%|██████████| 500/500 [00:05<00:00, 92.46it/s, loss=0.0441, val_loss=7.65, val_score=0.674]\n",
      "Training Epochs:   2%|▏         | 9/500 [00:00<00:05, 89.36it/s, loss=1.68, val_loss=1.67, val_score=0.526]"
     ]
    },
    {
     "name": "stdout",
     "output_type": "stream",
     "text": [
      "Average sampling time 0.00006s, average computing time 0.00678s\n"
     ]
    },
    {
     "name": "stderr",
     "output_type": "stream",
     "text": [
      "Training Epochs: 100%|██████████| 500/500 [00:05<00:00, 92.32it/s, loss=0.0424, val_loss=8.57, val_score=0.676]\n",
      "Training Epochs:   2%|▏         | 9/500 [00:00<00:05, 88.96it/s, loss=1.71, val_loss=1.7, val_score=0.504] "
     ]
    },
    {
     "name": "stdout",
     "output_type": "stream",
     "text": [
      "Average sampling time 0.00007s, average computing time 0.00681s\n"
     ]
    },
    {
     "name": "stderr",
     "output_type": "stream",
     "text": [
      "Training Epochs: 100%|██████████| 500/500 [00:05<00:00, 91.64it/s, loss=0.0385, val_loss=8.16, val_score=0.664]\n",
      "Training Epochs:   1%|▏         | 7/500 [00:00<00:07, 69.22it/s, loss=1.74, val_loss=1.75, val_score=0.266]"
     ]
    },
    {
     "name": "stdout",
     "output_type": "stream",
     "text": [
      "Average sampling time 0.00006s, average computing time 0.00685s\n"
     ]
    },
    {
     "name": "stderr",
     "output_type": "stream",
     "text": [
      "Training Epochs: 100%|██████████| 500/500 [00:07<00:00, 69.87it/s, loss=0.385, val_loss=3.16, val_score=0.696]\n",
      "Training Epochs:   1%|▏         | 7/500 [00:00<00:07, 68.78it/s, loss=1.74, val_loss=1.74, val_score=0.202]"
     ]
    },
    {
     "name": "stdout",
     "output_type": "stream",
     "text": [
      "Average sampling time 0.00368s, average computing time 0.00657s\n"
     ]
    },
    {
     "name": "stderr",
     "output_type": "stream",
     "text": [
      "Training Epochs: 100%|██████████| 500/500 [00:07<00:00, 69.55it/s, loss=0.362, val_loss=3.06, val_score=0.712]\n",
      "Training Epochs:   2%|▏         | 8/500 [00:00<00:07, 69.26it/s, loss=1.76, val_loss=1.76, val_score=0.308]"
     ]
    },
    {
     "name": "stdout",
     "output_type": "stream",
     "text": [
      "Average sampling time 0.00366s, average computing time 0.00659s\n"
     ]
    },
    {
     "name": "stderr",
     "output_type": "stream",
     "text": [
      "Training Epochs: 100%|██████████| 500/500 [00:07<00:00, 69.80it/s, loss=0.367, val_loss=2.97, val_score=0.69] \n",
      "Training Epochs:   2%|▏         | 8/500 [00:00<00:06, 71.90it/s, loss=1.74, val_loss=1.74, val_score=0.194]"
     ]
    },
    {
     "name": "stdout",
     "output_type": "stream",
     "text": [
      "Average sampling time 0.00367s, average computing time 0.00657s\n"
     ]
    },
    {
     "name": "stderr",
     "output_type": "stream",
     "text": [
      "Training Epochs: 100%|██████████| 500/500 [00:07<00:00, 69.92it/s, loss=0.385, val_loss=2.92, val_score=0.694]\n",
      "Training Epochs:   1%|▏         | 7/500 [00:00<00:07, 67.75it/s, loss=1.73, val_loss=1.73, val_score=0.366]"
     ]
    },
    {
     "name": "stdout",
     "output_type": "stream",
     "text": [
      "Average sampling time 0.00365s, average computing time 0.00658s\n"
     ]
    },
    {
     "name": "stderr",
     "output_type": "stream",
     "text": [
      "Training Epochs: 100%|██████████| 500/500 [00:07<00:00, 69.83it/s, loss=0.416, val_loss=2.91, val_score=0.676]\n",
      "Training Epochs:   2%|▏         | 8/500 [00:00<00:06, 70.74it/s, loss=1.74, val_loss=1.75, val_score=0.276]"
     ]
    },
    {
     "name": "stdout",
     "output_type": "stream",
     "text": [
      "Average sampling time 0.00367s, average computing time 0.00657s\n"
     ]
    },
    {
     "name": "stderr",
     "output_type": "stream",
     "text": [
      "Training Epochs: 100%|██████████| 500/500 [00:07<00:00, 69.62it/s, loss=0.431, val_loss=3.07, val_score=0.716]\n",
      "Training Epochs:   2%|▏         | 8/500 [00:00<00:06, 70.63it/s, loss=1.77, val_loss=1.77, val_score=0.6]  "
     ]
    },
    {
     "name": "stdout",
     "output_type": "stream",
     "text": [
      "Average sampling time 0.00366s, average computing time 0.00660s\n"
     ]
    },
    {
     "name": "stderr",
     "output_type": "stream",
     "text": [
      "Training Epochs: 100%|██████████| 500/500 [00:07<00:00, 69.45it/s, loss=0.374, val_loss=2.99, val_score=0.706]\n",
      "Training Epochs:   2%|▏         | 8/500 [00:00<00:06, 71.49it/s, loss=1.75, val_loss=1.76, val_score=0.18] "
     ]
    },
    {
     "name": "stdout",
     "output_type": "stream",
     "text": [
      "Average sampling time 0.00367s, average computing time 0.00661s\n"
     ]
    },
    {
     "name": "stderr",
     "output_type": "stream",
     "text": [
      "Training Epochs: 100%|██████████| 500/500 [00:07<00:00, 69.66it/s, loss=0.347, val_loss=3.19, val_score=0.694]\n",
      "Training Epochs:   2%|▏         | 8/500 [00:00<00:06, 71.68it/s, loss=1.72, val_loss=1.72, val_score=0.182]"
     ]
    },
    {
     "name": "stdout",
     "output_type": "stream",
     "text": [
      "Average sampling time 0.00365s, average computing time 0.00660s\n"
     ]
    },
    {
     "name": "stderr",
     "output_type": "stream",
     "text": [
      "Training Epochs: 100%|██████████| 500/500 [00:07<00:00, 69.77it/s, loss=0.379, val_loss=2.82, val_score=0.714]\n",
      "Training Epochs:   1%|▏         | 7/500 [00:00<00:07, 67.38it/s, loss=1.74, val_loss=1.74, val_score=0.484]"
     ]
    },
    {
     "name": "stdout",
     "output_type": "stream",
     "text": [
      "Average sampling time 0.00366s, average computing time 0.00660s\n"
     ]
    },
    {
     "name": "stderr",
     "output_type": "stream",
     "text": [
      "Training Epochs: 100%|██████████| 500/500 [00:07<00:00, 69.55it/s, loss=0.371, val_loss=2.89, val_score=0.696]\n",
      "Training Epochs:   1%|▏         | 7/500 [00:00<00:07, 62.20it/s, loss=1.76, val_loss=1.76, val_score=0.244]"
     ]
    },
    {
     "name": "stdout",
     "output_type": "stream",
     "text": [
      "Average sampling time 0.00365s, average computing time 0.00661s\n"
     ]
    },
    {
     "name": "stderr",
     "output_type": "stream",
     "text": [
      "Training Epochs: 100%|██████████| 500/500 [00:07<00:00, 66.58it/s, loss=0.303, val_loss=3.47, val_score=0.694]\n",
      "Training Epochs:   1%|▏         | 7/500 [00:00<00:07, 67.46it/s, loss=1.74, val_loss=1.74, val_score=0.506]"
     ]
    },
    {
     "name": "stdout",
     "output_type": "stream",
     "text": [
      "Average sampling time 0.00415s, average computing time 0.00672s\n"
     ]
    },
    {
     "name": "stderr",
     "output_type": "stream",
     "text": [
      "Training Epochs: 100%|██████████| 500/500 [00:07<00:00, 66.67it/s, loss=0.272, val_loss=3.28, val_score=0.7]  \n",
      "Training Epochs:   1%|▏         | 7/500 [00:00<00:07, 67.91it/s, loss=1.75, val_loss=1.75, val_score=0.364]"
     ]
    },
    {
     "name": "stdout",
     "output_type": "stream",
     "text": [
      "Average sampling time 0.00417s, average computing time 0.00671s\n"
     ]
    },
    {
     "name": "stderr",
     "output_type": "stream",
     "text": [
      "Training Epochs: 100%|██████████| 500/500 [00:07<00:00, 66.68it/s, loss=0.306, val_loss=3.35, val_score=0.692]\n",
      "Training Epochs:   1%|▏         | 7/500 [00:00<00:07, 66.29it/s, loss=1.73, val_loss=1.73, val_score=0.36] "
     ]
    },
    {
     "name": "stdout",
     "output_type": "stream",
     "text": [
      "Average sampling time 0.00416s, average computing time 0.00671s\n"
     ]
    },
    {
     "name": "stderr",
     "output_type": "stream",
     "text": [
      "Training Epochs: 100%|██████████| 500/500 [00:07<00:00, 66.67it/s, loss=0.291, val_loss=3.45, val_score=0.694]\n",
      "Training Epochs:   1%|▏         | 7/500 [00:00<00:07, 66.82it/s, loss=1.75, val_loss=1.76, val_score=0.182]"
     ]
    },
    {
     "name": "stdout",
     "output_type": "stream",
     "text": [
      "Average sampling time 0.00417s, average computing time 0.00671s\n"
     ]
    },
    {
     "name": "stderr",
     "output_type": "stream",
     "text": [
      "Training Epochs: 100%|██████████| 500/500 [00:07<00:00, 66.56it/s, loss=0.275, val_loss=3.62, val_score=0.692]\n",
      "Training Epochs:   1%|▏         | 7/500 [00:00<00:07, 68.22it/s, loss=1.78, val_loss=1.79, val_score=0.164]"
     ]
    },
    {
     "name": "stdout",
     "output_type": "stream",
     "text": [
      "Average sampling time 0.00416s, average computing time 0.00671s\n"
     ]
    },
    {
     "name": "stderr",
     "output_type": "stream",
     "text": [
      "Training Epochs: 100%|██████████| 500/500 [00:07<00:00, 66.50it/s, loss=0.29, val_loss=3.43, val_score=0.688] \n",
      "Training Epochs:   1%|▏         | 7/500 [00:00<00:07, 68.35it/s, loss=1.75, val_loss=1.75, val_score=0.32] "
     ]
    },
    {
     "name": "stdout",
     "output_type": "stream",
     "text": [
      "Average sampling time 0.00415s, average computing time 0.00671s\n"
     ]
    },
    {
     "name": "stderr",
     "output_type": "stream",
     "text": [
      "Training Epochs: 100%|██████████| 500/500 [00:07<00:00, 66.65it/s, loss=0.282, val_loss=3.47, val_score=0.722]\n",
      "Training Epochs:   1%|▏         | 7/500 [00:00<00:07, 64.21it/s, loss=1.74, val_loss=1.74, val_score=0.306]"
     ]
    },
    {
     "name": "stdout",
     "output_type": "stream",
     "text": [
      "Average sampling time 0.00415s, average computing time 0.00671s\n"
     ]
    },
    {
     "name": "stderr",
     "output_type": "stream",
     "text": [
      "Training Epochs: 100%|██████████| 500/500 [00:07<00:00, 66.63it/s, loss=0.29, val_loss=3.51, val_score=0.702] \n",
      "Training Epochs:   1%|▏         | 7/500 [00:00<00:07, 66.11it/s, loss=1.76, val_loss=1.77, val_score=0.332]"
     ]
    },
    {
     "name": "stdout",
     "output_type": "stream",
     "text": [
      "Average sampling time 0.00416s, average computing time 0.00672s\n"
     ]
    },
    {
     "name": "stderr",
     "output_type": "stream",
     "text": [
      "Training Epochs: 100%|██████████| 500/500 [00:07<00:00, 66.64it/s, loss=0.279, val_loss=3.2, val_score=0.686] \n",
      "Training Epochs:   1%|▏         | 7/500 [00:00<00:07, 64.37it/s, loss=1.72, val_loss=1.72, val_score=0.29] "
     ]
    },
    {
     "name": "stdout",
     "output_type": "stream",
     "text": [
      "Average sampling time 0.00416s, average computing time 0.00672s\n"
     ]
    },
    {
     "name": "stderr",
     "output_type": "stream",
     "text": [
      "Training Epochs: 100%|██████████| 500/500 [00:07<00:00, 66.86it/s, loss=0.278, val_loss=3.37, val_score=0.702]\n",
      "Training Epochs:   1%|▏         | 7/500 [00:00<00:07, 64.16it/s, loss=1.73, val_loss=1.73, val_score=0.222]"
     ]
    },
    {
     "name": "stdout",
     "output_type": "stream",
     "text": [
      "Average sampling time 0.00415s, average computing time 0.00671s\n"
     ]
    },
    {
     "name": "stderr",
     "output_type": "stream",
     "text": [
      "Training Epochs: 100%|██████████| 500/500 [00:07<00:00, 64.32it/s, loss=0.174, val_loss=4.35, val_score=0.688]\n",
      "Training Epochs:   1%|▏         | 7/500 [00:00<00:07, 64.03it/s, loss=1.76, val_loss=1.75, val_score=0.208]"
     ]
    },
    {
     "name": "stdout",
     "output_type": "stream",
     "text": [
      "Average sampling time 0.00467s, average computing time 0.00672s\n"
     ]
    },
    {
     "name": "stderr",
     "output_type": "stream",
     "text": [
      "Training Epochs: 100%|██████████| 500/500 [00:07<00:00, 64.45it/s, loss=0.178, val_loss=4.39, val_score=0.704]\n",
      "Training Epochs:   1%|▏         | 7/500 [00:00<00:07, 63.77it/s, loss=1.76, val_loss=1.76, val_score=0.344]"
     ]
    },
    {
     "name": "stdout",
     "output_type": "stream",
     "text": [
      "Average sampling time 0.00466s, average computing time 0.00671s\n"
     ]
    },
    {
     "name": "stderr",
     "output_type": "stream",
     "text": [
      "Training Epochs: 100%|██████████| 500/500 [00:07<00:00, 64.51it/s, loss=0.171, val_loss=4.14, val_score=0.704]\n",
      "Training Epochs:   1%|▏         | 7/500 [00:00<00:07, 66.22it/s, loss=1.76, val_loss=1.76, val_score=0.278]"
     ]
    },
    {
     "name": "stdout",
     "output_type": "stream",
     "text": [
      "Average sampling time 0.00465s, average computing time 0.00670s\n"
     ]
    },
    {
     "name": "stderr",
     "output_type": "stream",
     "text": [
      "Training Epochs: 100%|██████████| 500/500 [00:07<00:00, 64.56it/s, loss=0.173, val_loss=4.04, val_score=0.694]\n",
      "Training Epochs:   1%|▏         | 7/500 [00:00<00:08, 60.89it/s, loss=1.74, val_loss=1.74, val_score=0.238]"
     ]
    },
    {
     "name": "stdout",
     "output_type": "stream",
     "text": [
      "Average sampling time 0.00465s, average computing time 0.00669s\n"
     ]
    },
    {
     "name": "stderr",
     "output_type": "stream",
     "text": [
      "Training Epochs: 100%|██████████| 500/500 [00:07<00:00, 64.44it/s, loss=0.159, val_loss=4.21, val_score=0.712]\n",
      "Training Epochs:   1%|▏         | 7/500 [00:00<00:07, 64.39it/s, loss=1.77, val_loss=1.76, val_score=0.182]"
     ]
    },
    {
     "name": "stdout",
     "output_type": "stream",
     "text": [
      "Average sampling time 0.00465s, average computing time 0.00671s\n"
     ]
    },
    {
     "name": "stderr",
     "output_type": "stream",
     "text": [
      "Training Epochs: 100%|██████████| 500/500 [00:07<00:00, 64.18it/s, loss=0.172, val_loss=4.42, val_score=0.7]  \n",
      "Training Epochs:   1%|▏         | 7/500 [00:00<00:07, 64.48it/s, loss=1.77, val_loss=1.77, val_score=0.33] "
     ]
    },
    {
     "name": "stdout",
     "output_type": "stream",
     "text": [
      "Average sampling time 0.00467s, average computing time 0.00673s\n"
     ]
    },
    {
     "name": "stderr",
     "output_type": "stream",
     "text": [
      "Training Epochs: 100%|██████████| 500/500 [00:07<00:00, 64.41it/s, loss=0.168, val_loss=4.05, val_score=0.688]\n",
      "Training Epochs:   1%|▏         | 7/500 [00:00<00:07, 66.09it/s, loss=1.74, val_loss=1.74, val_score=0.42] "
     ]
    },
    {
     "name": "stdout",
     "output_type": "stream",
     "text": [
      "Average sampling time 0.00465s, average computing time 0.00670s\n"
     ]
    },
    {
     "name": "stderr",
     "output_type": "stream",
     "text": [
      "Training Epochs: 100%|██████████| 500/500 [00:07<00:00, 64.55it/s, loss=0.16, val_loss=4, val_score=0.7]      \n",
      "Training Epochs:   1%|▏         | 7/500 [00:00<00:07, 62.65it/s, loss=1.76, val_loss=1.75, val_score=0.286]"
     ]
    },
    {
     "name": "stdout",
     "output_type": "stream",
     "text": [
      "Average sampling time 0.00467s, average computing time 0.00670s\n"
     ]
    },
    {
     "name": "stderr",
     "output_type": "stream",
     "text": [
      "Training Epochs: 100%|██████████| 500/500 [00:07<00:00, 64.67it/s, loss=0.168, val_loss=4.19, val_score=0.706]\n",
      "Training Epochs:   1%|▏         | 7/500 [00:00<00:07, 63.61it/s, loss=1.78, val_loss=1.78, val_score=0.264]"
     ]
    },
    {
     "name": "stdout",
     "output_type": "stream",
     "text": [
      "Average sampling time 0.00464s, average computing time 0.00669s\n"
     ]
    },
    {
     "name": "stderr",
     "output_type": "stream",
     "text": [
      "Training Epochs: 100%|██████████| 500/500 [00:07<00:00, 64.33it/s, loss=0.168, val_loss=3.95, val_score=0.708]"
     ]
    },
    {
     "name": "stdout",
     "output_type": "stream",
     "text": [
      "Average sampling time 0.00466s, average computing time 0.00671s\n"
     ]
    },
    {
     "name": "stderr",
     "output_type": "stream",
     "text": [
      "\n"
     ]
    }
   ],
   "source": [
    "\n",
    "result_dict = {}\n",
    "if 'GCN' in method:\n",
    "    results_list = []\n",
    "    for repeat in range(10):\n",
    "        model = GCN(n_feat=feat_data.shape[1], \n",
    "                    n_hid=args.nhid, \n",
    "                    n_classes=num_classes, \n",
    "                    n_layers=args.n_layers, \n",
    "                    dropout=args.dropout, \n",
    "                    criterion=criterion)\n",
    "\n",
    "        results = train_model(model, data_loader, note=\"GCN (L=%d, repeat=%d)\"%(args.n_layers, repeat))\n",
    "        results_list.append(results)\n",
    "    result_dict['GCN'] = results_list\n",
    "    \n",
    "if 'DropEdge' in method:\n",
    "    for ratio in [0.5, 0.7, 0.9]:\n",
    "        results_list = []\n",
    "        for repeat in range(10):\n",
    "            model = GCN(n_feat=feat_data.shape[1], \n",
    "                        n_hid=args.nhid, \n",
    "                        n_classes=num_classes, \n",
    "                        n_layers=args.n_layers, \n",
    "                        dropout=args.dropout, \n",
    "                        criterion=criterion)\n",
    "\n",
    "            results = train_model(model, data_loader, note=\"DropEdge (L=%d, repeat=%d)\"%(args.n_layers, repeat), dropedge=ratio)\n",
    "            results_list.append(results)\n",
    "        result_dict['DropEdge%.1f'%ratio] = results_list"
   ]
  },
  {
   "cell_type": "code",
   "execution_count": 10,
   "metadata": {},
   "outputs": [
    {
     "data": {
      "image/png": "[encoded data removed]",
      "text/plain": [
       "<Figure size 432x288 with 1 Axes>"
      ]
     },
     "metadata": {
      "needs_background": "light"
     },
     "output_type": "display_data"
    }
   ],
   "source": [
    "fig, axs = plt.subplots()\n",
    "\n",
    "##########################\n",
    "algorithm = 'GCN'\n",
    "train_acc = []\n",
    "y_vals = []\n",
    "results_list = result_dict['GCN']\n",
    "for result in results_list:\n",
    "    if result.note.split()[0] == algorithm:\n",
    "        train_acc.append(np.array(result.train_acc_record))\n",
    "        train_loss = np.array(result.train_loss_record)\n",
    "        valid_loss = np.array(result.loss_record)\n",
    "        y_vals.append(np.abs(train_loss-valid_loss))\n",
    "\n",
    "train_acc = np.mean(train_acc, axis=0)\n",
    "x_stop = np.argmax(train_acc)\n",
    "\n",
    "y_val_mean = np.mean(y_vals, axis=0)[:x_stop]\n",
    "y_val_std = np.std(y_vals, axis=0)[:x_stop]\n",
    "x_vals = np.arange(len(y_val_mean))\n",
    "\n",
    "axs.plot(x_vals, y_val_mean, label='%s (L=%d)'%(algorithm, args.n_layers))\n",
    "axs.fill_between(x_vals, y_val_mean-y_val_std, y_val_mean+y_val_std ,alpha=0.3)\n",
    "##########################\n",
    "algorithm='DropEdge'\n",
    "for ratio in [0.9, 0.7, 0.5]:\n",
    "    results_list = result_dict['DropEdge%.1f'%ratio]\n",
    "    \n",
    "    train_acc = []\n",
    "    y_vals = []\n",
    "    for result in results_list:\n",
    "        train_acc.append(np.array(result.train_acc_record))\n",
    "        train_loss = np.array(result.train_loss_record)\n",
    "        valid_loss = np.array(result.loss_record)\n",
    "        y_vals.append(np.abs(train_loss-valid_loss))\n",
    "\n",
    "    train_acc = np.mean(train_acc, axis=0)\n",
    "    x_stop = np.argmax(train_acc)\n",
    "\n",
    "    y_val_mean = np.mean(y_vals, axis=0)[:x_stop]\n",
    "    y_val_std = np.std(y_vals, axis=0)[:x_stop]\n",
    "    x_vals = np.arange(len(y_val_mean))\n",
    "\n",
    "    axs.plot(x_vals, y_val_mean, label='%s (L=%d, keep ratio=%.1f)'%(algorithm, args.n_layers, ratio))\n",
    "    axs.fill_between(x_vals, y_val_mean-y_val_std, y_val_mean+y_val_std ,alpha=0.3)\n",
    "    \n",
    "plt.title('Generalization gap / Iters')\n",
    "axs.set_xlabel('Iters')\n",
    "axs.set_ylabel('| Train Error - Valid Error |')\n",
    "\n",
    "axs.grid(True)\n",
    "\n",
    "fig.tight_layout()\n",
    "plt.legend()\n",
    "plt.savefig('generalization gap.pdf')"
   ]
  },
  {
   "cell_type": "code",
   "execution_count": 11,
   "metadata": {},
   "outputs": [
    {
     "data": {
      "image/png": "[encoded data removed]",
      "text/plain": [
       "<Figure size 432x288 with 1 Axes>"
      ]
     },
     "metadata": {
      "needs_background": "light"
     },
     "output_type": "display_data"
    }
   ],
   "source": [
    "fig, axs = plt.subplots()\n",
    "\n",
    "##########################\n",
    "algorithm = 'GCN'\n",
    "train_acc = []\n",
    "y_vals = []\n",
    "results_list = result_dict['GCN']\n",
    "for result in results_list:\n",
    "    if result.note.split()[0] == algorithm:\n",
    "        y_vals.append(np.array(result.train_acc_record))\n",
    "\n",
    "y_val_mean = np.mean(y_vals, axis=0)\n",
    "y_val_std = np.std(y_vals, axis=0)\n",
    "x_vals = np.arange(len(y_val_mean))\n",
    "\n",
    "axs.plot(x_vals, y_val_mean, label='%s (L=%d)'%(algorithm, args.n_layers))\n",
    "axs.fill_between(x_vals, y_val_mean-y_val_std, y_val_mean+y_val_std ,alpha=0.3)\n",
    "##########################\n",
    "algorithm='DropEdge'\n",
    "for ratio in [0.9, 0.7, 0.5]:\n",
    "    results_list = result_dict['DropEdge%.1f'%ratio]\n",
    "    \n",
    "    train_acc = []\n",
    "    y_vals = []\n",
    "    for result in results_list:\n",
    "        y_vals.append(np.array(result.train_acc_record))\n",
    "\n",
    "    y_val_mean = np.mean(y_vals, axis=0)\n",
    "    y_val_std = np.std(y_vals, axis=0)\n",
    "    x_vals = np.arange(len(y_val_mean))\n",
    "\n",
    "    axs.plot(x_vals, y_val_mean, label='%s (L=%d, keep ratio=%.1f)'%(algorithm, args.n_layers, ratio))\n",
    "    axs.fill_between(x_vals, y_val_mean-y_val_std, y_val_mean+y_val_std ,alpha=0.3)\n",
    "    \n",
    "plt.title('Train accuracy / Iters')\n",
    "axs.set_xlabel('Iters')\n",
    "axs.set_ylabel('F1-score')\n",
    "\n",
    "axs.grid(True)\n",
    "\n",
    "fig.tight_layout()\n",
    "plt.legend()\n",
    "plt.savefig('generalization_gap_train.pdf')"
   ]
  },
  {
   "cell_type": "code",
   "execution_count": 12,
   "metadata": {},
   "outputs": [
    {
     "data": {
      "image/png": "[encoded data removed]",
      "text/plain": [
       "<Figure size 432x288 with 1 Axes>"
      ]
     },
     "metadata": {
      "needs_background": "light"
     },
     "output_type": "display_data"
    }
   ],
   "source": [
    "fig, axs = plt.subplots()\n",
    "\n",
    "##########################\n",
    "algorithm = 'GCN'\n",
    "train_acc = []\n",
    "y_vals = []\n",
    "results_list = result_dict['GCN']\n",
    "for result in results_list:\n",
    "    if result.note.split()[0] == algorithm:\n",
    "        y_vals.append(np.array(result.acc_record))\n",
    "\n",
    "y_val_mean = np.mean(y_vals, axis=0)\n",
    "y_val_std = np.std(y_vals, axis=0)\n",
    "x_vals = np.arange(len(y_val_mean))\n",
    "\n",
    "axs.plot(x_vals, y_val_mean, label='%s (L=%d)'%(algorithm, args.n_layers))\n",
    "axs.fill_between(x_vals, y_val_mean-y_val_std, y_val_mean+y_val_std ,alpha=0.3)\n",
    "##########################\n",
    "algorithm='DropEdge'\n",
    "for ratio in [0.9, 0.7, 0.5]:\n",
    "    results_list = result_dict['DropEdge%.1f'%ratio]\n",
    "    \n",
    "    train_acc = []\n",
    "    y_vals = []\n",
    "    for result in results_list:\n",
    "        y_vals.append(np.array(result.acc_record))\n",
    "\n",
    "    y_val_mean = np.mean(y_vals, axis=0)\n",
    "    y_val_std = np.std(y_vals, axis=0)\n",
    "    x_vals = np.arange(len(y_val_mean))\n",
    "\n",
    "    axs.plot(x_vals, y_val_mean, label='%s (L=%d, keep ratio=%.1f)'%(algorithm, args.n_layers, ratio))\n",
    "    axs.fill_between(x_vals, y_val_mean-y_val_std, y_val_mean+y_val_std ,alpha=0.3)\n",
    "    \n",
    "plt.title('Valid accuracy / Iters')\n",
    "axs.set_xlabel('Iters')\n",
    "axs.set_ylabel('F1-score')\n",
    "\n",
    "axs.grid(True)\n",
    "\n",
    "fig.tight_layout()\n",
    "plt.legend()\n",
    "plt.savefig('generalization_gap_valid.pdf')"
   ]
  },
  {
   "cell_type": "code",
   "execution_count": null,
   "metadata": {},
   "outputs": [],
   "source": []
  }
 ],
 "metadata": {
  "kernelspec": {
   "display_name": "Python 3",
   "language": "python",
   "name": "python3"
  },
  "language_info": {
   "codemirror_mode": {
    "name": "ipython",
    "version": 3
   },
   "file_extension": ".py",
   "mimetype": "text/x-python",
   "name": "python",
   "nbconvert_exporter": "python",
   "pygments_lexer": "ipython3",
   "version": "3.7.6"
  }
 },
 "nbformat": 4,
 "nbformat_minor": 4
}
