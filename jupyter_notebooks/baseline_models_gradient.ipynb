{
 "cells": [
  {
   "cell_type": "code",
   "execution_count": 1,
   "metadata": {},
   "outputs": [],
   "source": [
    "import torch\n",
    "import torch.nn as nn\n",
    "import torch.optim as optim\n",
    "\n",
    "from utils import load_data, process_graph_data\n",
    "from utils import package_mxl, adj_rw_norm\n",
    "from utils import sparse_mx_to_torch_sparse_tensor\n",
    "from utils import ResultRecorder\n",
    "\n",
    "# from model import GCN, GCNBias, SGC, ResGCN, GCNII, APPNP, MLP\n",
    "from load_semigcn_data import load_data_gcn\n",
    "from data_loader import DataLoader\n",
    "\n",
    "import numpy as np\n",
    "import copy \n",
    "import time\n",
    "from sklearn.metrics import f1_score\n",
    "from sklearn.metrics import pairwise_distances\n",
    "import matplotlib.pyplot as plt\n",
    "import matplotlib.ticker as mticker\n",
    "from tqdm import trange\n",
    "from scipy.sparse.csgraph import connected_components\n",
    "import pickle\n",
    "import os\n"
   ]
  },
  {
   "cell_type": "code",
   "execution_count": 2,
   "metadata": {},
   "outputs": [
    {
     "name": "stdout",
     "output_type": "stream",
     "text": [
      "Namespace(batch_size=99999999, cuda=0, dataset='cora', dropout=0, epoch_num=2000, method='GCN/ResGCN/GCNII', n_layers=6, nhid=64)\n"
     ]
    }
   ],
   "source": [
    "import sys; sys.argv=['']; del sys\n",
    "import warnings\n",
    "warnings.filterwarnings(\"ignore\", category=RuntimeWarning)\n",
    "warnings.filterwarnings(\"ignore\", category=UserWarning)\n",
    "\n",
    "import argparse\n",
    "\"\"\"\n",
    "Dataset arguments\n",
    "\"\"\"\n",
    "parser = argparse.ArgumentParser(\n",
    "    description='Training GCN on Large-scale Graph Datasets')\n",
    "parser.add_argument('--dataset', type=str, default='cora',\n",
    "                    help='Dataset name: pubmed/flickr/reddit/ppi-large')\n",
    "parser.add_argument('--method', type=str, default='GCN/ResGCN/GCNII', # SGC/GCN/GCNBias/ResGCN/GCNII/APPNP\n",
    "                    help='Algorithms: seperate using slash')\n",
    "parser.add_argument('--nhid', type=int, default=64,\n",
    "                    help='Hidden state dimension')\n",
    "parser.add_argument('--epoch_num', type=int, default=2000,\n",
    "                    help='Number of Epoch')\n",
    "parser.add_argument('--batch_size', type=int, default=99999999,\n",
    "                    help='size of output node in a batch')\n",
    "parser.add_argument('--n_layers', type=int, default=6,\n",
    "                    help='Number of GCN layers')\n",
    "parser.add_argument('--dropout', type=float, default=0,\n",
    "                    help='Dropout rate')\n",
    "parser.add_argument('--cuda', type=int, default=0,\n",
    "                    help='Avaiable GPU ID')\n",
    "args = parser.parse_args()\n",
    "print(args)\n",
    "\n",
    "method = args.method.split('/')\n",
    "\n",
    "\"\"\"\n",
    "Prepare devices\n",
    "\"\"\"\n",
    "if args.cuda != -1:\n",
    "    device = torch.device(\"cuda:\" + str(args.cuda))\n",
    "else:\n",
    "    device = torch.device(\"cpu\")\n",
    "    \n",
    "if args.dataset not in ['cora', 'citeseer', 'pubmed']:\n",
    "    temp_data = load_data(args.dataset) \n",
    "else:\n",
    "    temp_data = load_data_gcn(args.dataset)\n",
    "\n",
    "adj_full, adj_train, feat_data, labels, role = process_graph_data(*temp_data)\n",
    "\n",
    "train_nodes = np.array(role['tr'])\n",
    "valid_nodes = np.array(role['va'])\n",
    "test_nodes = np.array(role['te'])\n",
    "\n",
    "data_loader = DataLoader(adj_full, train_nodes, valid_nodes, test_nodes, device)"
   ]
  },
  {
   "cell_type": "code",
   "execution_count": 3,
   "metadata": {},
   "outputs": [],
   "source": [
    "# def weight_constaint(model):\n",
    "#     for p in model.parameters():\n",
    "#         if p.data.norm(2) > 20:\n",
    "#             p.data = p.data / p.data.norm(2)"
   ]
  },
  {
   "cell_type": "code",
   "execution_count": 4,
   "metadata": {},
   "outputs": [],
   "source": [
    "\"\"\"\n",
    "Setup datasets and models for training (multi-class use sigmoid+binary_cross_entropy, use softmax+nll_loss otherwise)\n",
    "\"\"\"\n",
    "\n",
    "if args.dataset in ['flickr', 'reddit', 'cora', 'citeseer', 'pubmed']:\n",
    "    feat_data_th = torch.FloatTensor(feat_data)\n",
    "    labels_th = torch.LongTensor(labels.argmax(1))\n",
    "    num_classes = labels_th.max().item()+1\n",
    "    criterion = nn.CrossEntropyLoss()\n",
    "    multi_class=False\n",
    "elif args.dataset in ['ppi', 'ppi-large', 'amazon', 'yelp']:\n",
    "    feat_data_th = torch.FloatTensor(feat_data)\n",
    "    labels_th = torch.FloatTensor(labels)\n",
    "    num_classes = labels_th.shape[1]\n",
    "    criterion = nn.BCEWithLogitsLoss()\n",
    "    multi_class=True\n",
    "\n",
    "feat_data_th = feat_data_th.to(device)\n",
    "labels_th = labels_th.to(device)\n",
    "\n",
    "def sgd_step(net, optimizer, feat_data, labels, train_data, device):\n",
    "    \"\"\"\n",
    "    Function to updated weights with a SGD backpropagation\n",
    "    args : net, optimizer, train_loader, test_loader, loss function, number of inner epochs, args\n",
    "    return : train_loss, test_loss, grad_norm_lb\n",
    "    \"\"\"\n",
    "    net.train()\n",
    "    epoch_loss = []\n",
    "    epoch_acc = []\n",
    "    \n",
    "    # Run over the train_loader\n",
    "    mini_batches, adj = train_data\n",
    "    for mini_batch in mini_batches:\n",
    "\n",
    "        # compute current stochastic gradient\n",
    "        optimizer.zero_grad()\n",
    "        output = net(feat_data, adj)\n",
    "        \n",
    "        loss = net.criterion(output[mini_batch], labels[mini_batch])\n",
    "        loss.backward()\n",
    "        # torch.nn.utils.clip_grad_norm_(net.parameters(), 0.4)\n",
    "        \n",
    "        optimizer.step()\n",
    "        epoch_loss.append(loss.item())\n",
    "        \n",
    "        if multi_class:\n",
    "            output[output > 0.5] = 1\n",
    "            output[output <= 0.5] = 0\n",
    "        else:\n",
    "            output = output.argmax(dim=1)\n",
    "\n",
    "        acc = f1_score(output[mini_batch].detach().cpu(), \n",
    "                       labels[mini_batch].detach().cpu(), average=\"micro\")\n",
    "        epoch_acc.append(acc)\n",
    "\n",
    "    return epoch_loss, epoch_acc\n",
    "\n",
    "@torch.no_grad()\n",
    "def inference(eval_model, feat_data, labels, test_data, device):\n",
    "    eval_model = eval_model.to(device)\n",
    "    mini_batch, adj = test_data    \n",
    "    output = eval_model(feat_data, adj)\n",
    "    loss = eval_model.criterion(output[mini_batch], labels[mini_batch]).item()\n",
    "    \n",
    "    if multi_class:\n",
    "        output[output > 0.5] = 1\n",
    "        output[output <= 0.5] = 0\n",
    "    else:\n",
    "        output = output.argmax(dim=1)\n",
    "        \n",
    "    acc = f1_score(output[mini_batch].detach().cpu(), \n",
    "                   labels[mini_batch].detach().cpu(), average=\"micro\")\n",
    "    return loss, acc"
   ]
  },
  {
   "cell_type": "code",
   "execution_count": 5,
   "metadata": {},
   "outputs": [],
   "source": [
    "from collections import OrderedDict\n",
    "def copy_model(model):\n",
    "    state_dict = {k:v.to('cpu') for k, v in model.named_parameters()}\n",
    "    state_dict = OrderedDict(state_dict)\n",
    "    return state_dict\n",
    "def copy_grad(model):\n",
    "    state_dict = {k:v.grad.to('cpu') for k, v in model.named_parameters()}\n",
    "    state_dict = OrderedDict(state_dict)\n",
    "    return state_dict"
   ]
  },
  {
   "cell_type": "code",
   "execution_count": 6,
   "metadata": {},
   "outputs": [],
   "source": [
    "\"\"\"\n",
    "Train without sampling\n",
    "\"\"\"\n",
    "\n",
    "def train_model(model, data_loader, note):\n",
    "    train_model = copy.deepcopy(model).to(device)\n",
    "    \n",
    "    results = ResultRecorder(note=note)\n",
    "    \n",
    "    optimizer = optim.Adam(train_model.parameters())\n",
    "\n",
    "    tbar = trange(args.epoch_num, desc='Training Epochs')\n",
    "    for epoch in tbar:\n",
    "        # fetch train data \n",
    "        \n",
    "        sample_time_st = time.perf_counter()\n",
    "        train_data = data_loader.get_mini_batches(batch_size=args.batch_size)\n",
    "        sample_time = time.perf_counter() - sample_time_st\n",
    "        \n",
    "        compute_time_st = time.perf_counter()\n",
    "        train_loss, train_acc = sgd_step(train_model, optimizer, feat_data_th, labels_th, train_data, device)\n",
    "        compute_time = time.perf_counter() - compute_time_st\n",
    "        \n",
    "        if epoch % 20 == 0:\n",
    "            results.grad_norms += [copy_grad(train_model)]\n",
    "            results.state_dicts += [copy_model(train_model)]\n",
    "        \n",
    "        epoch_train_loss = np.mean(train_loss)\n",
    "        epoch_train_acc = np.mean(train_acc)\n",
    "\n",
    "        valid_data = data_loader.get_valid_batch()\n",
    "        epoch_valid_loss, epoch_valid_acc = inference(train_model, feat_data_th, labels_th, valid_data, device)\n",
    "        tbar.set_postfix(train_loss=epoch_train_loss,\n",
    "                         train_acc=epoch_train_acc,\n",
    "                         valid_loss=epoch_valid_loss,\n",
    "                         valid_score=epoch_valid_acc)\n",
    "\n",
    "        results.update(epoch_train_loss, \n",
    "                       epoch_train_acc,\n",
    "                       epoch_valid_loss, \n",
    "                       epoch_valid_acc, \n",
    "                       train_model, sample_time=sample_time, compute_time=compute_time)\n",
    "        \n",
    "\n",
    "\n",
    "    test_data = data_loader.get_test_batch()\n",
    "    epoch_test_loss, epoch_test_acc = inference(results.best_model, feat_data_th, labels_th, test_data, device)\n",
    "    results.test_loss = epoch_test_loss\n",
    "    results.test_acc = epoch_test_acc\n",
    "    \n",
    "    print('Test_loss: %.4f | test_acc: %.4f' % (epoch_test_loss, epoch_test_acc))\n",
    "    \n",
    "    print('Average sampling time %.5fs, average computing time %.5fs'%\n",
    "          (np.mean(results.sample_time), np.mean(results.compute_time)))\n",
    "    \n",
    "    return results"
   ]
  },
  {
   "cell_type": "code",
   "execution_count": 7,
   "metadata": {},
   "outputs": [],
   "source": [
    "class GCN(nn.Module):\n",
    "    def __init__(self, n_feat, n_hid, n_classes, n_layers, dropout, criterion):\n",
    "        from layers import GraphConv\n",
    "        super(GCN, self).__init__()\n",
    "        self.n_layers = n_layers\n",
    "        self.n_hid = n_hid\n",
    "        \n",
    "        self.gcs = nn.ModuleList()\n",
    "        for _ in range(n_layers):\n",
    "            self.gcs.append(GraphConv(n_hid,  n_hid))\n",
    "        self.linear_in = nn.Linear(n_feat, n_hid)\n",
    "        self.linear_out = nn.Linear(n_hid, n_classes)\n",
    "        self.relu = nn.ReLU()\n",
    "        self.dropout = nn.Dropout(dropout)\n",
    "        self.criterion = criterion\n",
    "\n",
    "    def forward(self, x, adj):\n",
    "        x = self.linear_in(x)\n",
    "        for ell in range(len(self.gcs)):\n",
    "            x = self.gcs[ell](x, adj)\n",
    "            x = self.relu(x)\n",
    "            x = self.dropout(x)\n",
    "        x = self.linear_out(x)\n",
    "        return x\n",
    "    \n",
    "class ResGCN(nn.Module):\n",
    "    def __init__(self, n_feat, n_hid, n_classes, n_layers, dropout, criterion):\n",
    "        from layers import GraphConv\n",
    "        super(ResGCN, self).__init__()\n",
    "        self.n_layers = n_layers\n",
    "        self.n_hid = n_hid\n",
    "        \n",
    "        self.gcs = nn.ModuleList()\n",
    "        for _ in range(n_layers):\n",
    "            self.gcs.append(GraphConv(n_hid,  n_hid))\n",
    "        self.linear_in = nn.Linear(n_feat, n_hid)\n",
    "        self.linear_out = nn.Linear(n_hid, n_classes)\n",
    "        self.relu = nn.ReLU()\n",
    "        self.dropout = nn.Dropout(dropout)\n",
    "        self.criterion = criterion\n",
    "\n",
    "    def forward(self, x, adj):\n",
    "        x = self.linear_in(x)\n",
    "        for ell in range(len(self.gcs)):\n",
    "            x_res = x.clone()\n",
    "            x = self.gcs[ell](x, adj)\n",
    "            x = self.relu(x)\n",
    "            x = self.dropout(x) + x_res\n",
    "        x = self.linear_out(x)\n",
    "        return x\n",
    "    \n",
    "class GCNII(nn.Module):\n",
    "    def __init__(self, n_feat, n_hid, n_classes, n_layers, dropout, criterion):\n",
    "        from layers import GCNIILayer\n",
    "        super(GCNII, self).__init__()\n",
    "        self.n_layers = n_layers\n",
    "        self.n_hid = n_hid\n",
    "        \n",
    "        self.gcs = nn.ModuleList()\n",
    "        for _ in range(n_layers):\n",
    "            self.gcs.append(GCNIILayer(n_hid,  n_hid))\n",
    "        self.linear_in = nn.Linear(n_feat, n_hid)\n",
    "        self.linear_out = nn.Linear(n_hid, n_classes)\n",
    "        self.relu = nn.ReLU()\n",
    "        self.dropout = nn.Dropout(dropout)\n",
    "        self.criterion = criterion\n",
    "\n",
    "    def get_alpha_beta(self, ell):\n",
    "        alpha = 0.8\n",
    "        beta = 0.8\n",
    "        return alpha, beta\n",
    "    \n",
    "    def forward(self, x, adj):\n",
    "        x = self.linear_in(x)\n",
    "        x_0 = x.clone()\n",
    "        for ell in range(len(self.gcs)):\n",
    "            alpha, beta = self.get_alpha_beta(ell)\n",
    "            x = self.gcs[ell](x, adj, x_0, alpha, beta)\n",
    "            x = self.relu(x)\n",
    "            x = self.dropout(x)\n",
    "        x = self.linear_out(x)\n",
    "        return x"
   ]
  },
  {
   "cell_type": "code",
   "execution_count": 8,
   "metadata": {},
   "outputs": [
    {
     "name": "stderr",
     "output_type": "stream",
     "text": [
      "Training Epochs: 100%|██████████| 2000/2000 [00:18<00:00, 105.98it/s, train_acc=1, train_loss=0.00112, valid_loss=7.28, valid_score=0.802]    \n",
      "Training Epochs:   0%|          | 10/2000 [00:00<00:20, 97.28it/s, train_acc=0.82, train_loss=0.851, valid_loss=0.897, valid_score=0.784] "
     ]
    },
    {
     "name": "stdout",
     "output_type": "stream",
     "text": [
      "Test_loss: 0.7841 | test_acc: 0.8220\n",
      "Average sampling time 0.00003s, average computing time 0.00616s\n"
     ]
    },
    {
     "name": "stderr",
     "output_type": "stream",
     "text": [
      "Training Epochs: 100%|██████████| 2000/2000 [00:19<00:00, 105.05it/s, train_acc=1, train_loss=5.14e-6, valid_loss=2.13, valid_score=0.848]  \n",
      "Training Epochs:   0%|          | 10/2000 [00:00<00:21, 92.66it/s, train_acc=0.293, train_loss=1.82, valid_loss=1.82, valid_score=0.294]"
     ]
    },
    {
     "name": "stdout",
     "output_type": "stream",
     "text": [
      "Test_loss: 0.4820 | test_acc: 0.8610\n",
      "Average sampling time 0.00004s, average computing time 0.00618s\n"
     ]
    },
    {
     "name": "stderr",
     "output_type": "stream",
     "text": [
      "Training Epochs: 100%|██████████| 2000/2000 [00:20<00:00, 98.30it/s, train_acc=1, train_loss=2.07e-5, valid_loss=3.46, valid_score=0.85]    \n",
      "Training Epochs:   1%|          | 11/2000 [00:00<00:18, 106.67it/s, train_acc=0.291, train_loss=1.79, valid_loss=1.81, valid_score=0.294]"
     ]
    },
    {
     "name": "stdout",
     "output_type": "stream",
     "text": [
      "Test_loss: 0.7459 | test_acc: 0.8290\n",
      "Average sampling time 0.00003s, average computing time 0.00665s\n"
     ]
    },
    {
     "name": "stderr",
     "output_type": "stream",
     "text": [
      "Training Epochs: 100%|██████████| 2000/2000 [00:18<00:00, 109.54it/s, train_acc=1, train_loss=0.0028, valid_loss=5.56, valid_score=0.796]     \n",
      "Training Epochs:   0%|          | 10/2000 [00:00<00:19, 99.82it/s, train_acc=0.812, train_loss=0.825, valid_loss=0.892, valid_score=0.762]"
     ]
    },
    {
     "name": "stdout",
     "output_type": "stream",
     "text": [
      "Test_loss: 1.7417 | test_acc: 0.8010\n",
      "Average sampling time 0.00003s, average computing time 0.00593s\n"
     ]
    },
    {
     "name": "stderr",
     "output_type": "stream",
     "text": [
      "Training Epochs: 100%|██████████| 2000/2000 [00:19<00:00, 103.79it/s, train_acc=1, train_loss=5.82e-6, valid_loss=2.23, valid_score=0.844]  \n",
      "Training Epochs:   0%|          | 10/2000 [00:00<00:21, 90.50it/s, train_acc=0.392, train_loss=1.89, valid_loss=1.89, valid_score=0.398]"
     ]
    },
    {
     "name": "stdout",
     "output_type": "stream",
     "text": [
      "Test_loss: 0.5819 | test_acc: 0.8590\n",
      "Average sampling time 0.00003s, average computing time 0.00635s\n"
     ]
    },
    {
     "name": "stderr",
     "output_type": "stream",
     "text": [
      "Training Epochs: 100%|██████████| 2000/2000 [00:20<00:00, 98.26it/s, train_acc=1, train_loss=3.02e-5, valid_loss=3.09, valid_score=0.836]   \n",
      "Training Epochs:   1%|          | 11/2000 [00:00<00:18, 108.27it/s, train_acc=0.291, train_loss=1.79, valid_loss=1.78, valid_score=0.294]"
     ]
    },
    {
     "name": "stdout",
     "output_type": "stream",
     "text": [
      "Test_loss: 0.6357 | test_acc: 0.8310\n",
      "Average sampling time 0.00003s, average computing time 0.00668s\n"
     ]
    },
    {
     "name": "stderr",
     "output_type": "stream",
     "text": [
      "Training Epochs: 100%|██████████| 2000/2000 [00:18<00:00, 108.14it/s, train_acc=0.992, train_loss=0.0335, valid_loss=2.39, valid_score=0.836] \n",
      "Training Epochs:   0%|          | 10/2000 [00:00<00:20, 96.21it/s, train_acc=0.813, train_loss=0.789, valid_loss=0.838, valid_score=0.766]"
     ]
    },
    {
     "name": "stdout",
     "output_type": "stream",
     "text": [
      "Test_loss: 1.3756 | test_acc: 0.8120\n",
      "Average sampling time 0.00003s, average computing time 0.00600s\n"
     ]
    },
    {
     "name": "stderr",
     "output_type": "stream",
     "text": [
      "Training Epochs: 100%|██████████| 2000/2000 [00:19<00:00, 104.13it/s, train_acc=1, train_loss=5.87e-6, valid_loss=2.27, valid_score=0.852]  \n",
      "Training Epochs:   0%|          | 10/2000 [00:00<00:20, 95.09it/s, train_acc=0.468, train_loss=1.84, valid_loss=1.85, valid_score=0.408]"
     ]
    },
    {
     "name": "stdout",
     "output_type": "stream",
     "text": [
      "Test_loss: 0.4992 | test_acc: 0.8480\n",
      "Average sampling time 0.00003s, average computing time 0.00621s\n"
     ]
    },
    {
     "name": "stderr",
     "output_type": "stream",
     "text": [
      "Training Epochs: 100%|██████████| 2000/2000 [00:20<00:00, 95.51it/s, train_acc=1, train_loss=3.35e-5, valid_loss=2.81, valid_score=0.836]   \n",
      "Training Epochs:   1%|          | 11/2000 [00:00<00:19, 103.16it/s, train_acc=0.291, train_loss=1.86, valid_loss=1.85, valid_score=0.294]"
     ]
    },
    {
     "name": "stdout",
     "output_type": "stream",
     "text": [
      "Test_loss: 1.2180 | test_acc: 0.8420\n",
      "Average sampling time 0.00003s, average computing time 0.00683s\n"
     ]
    },
    {
     "name": "stderr",
     "output_type": "stream",
     "text": [
      "Training Epochs: 100%|██████████| 2000/2000 [00:18<00:00, 106.08it/s, train_acc=0.998, train_loss=0.00974, valid_loss=3.63, valid_score=0.81] \n",
      "Training Epochs:   1%|          | 11/2000 [00:00<00:20, 99.35it/s, train_acc=0.822, train_loss=0.909, valid_loss=0.941, valid_score=0.766]"
     ]
    },
    {
     "name": "stdout",
     "output_type": "stream",
     "text": [
      "Test_loss: 0.8545 | test_acc: 0.8280\n",
      "Average sampling time 0.00003s, average computing time 0.00612s\n"
     ]
    },
    {
     "name": "stderr",
     "output_type": "stream",
     "text": [
      "Training Epochs: 100%|██████████| 2000/2000 [00:19<00:00, 102.60it/s, train_acc=1, train_loss=5.54e-6, valid_loss=2.31, valid_score=0.846] \n",
      "Training Epochs:   0%|          | 10/2000 [00:00<00:21, 90.80it/s, train_acc=0.296, train_loss=1.86, valid_loss=1.85, valid_score=0.294]"
     ]
    },
    {
     "name": "stdout",
     "output_type": "stream",
     "text": [
      "Test_loss: 0.4783 | test_acc: 0.8640\n",
      "Average sampling time 0.00003s, average computing time 0.00633s\n"
     ]
    },
    {
     "name": "stderr",
     "output_type": "stream",
     "text": [
      "Training Epochs: 100%|██████████| 2000/2000 [00:20<00:00, 96.31it/s, train_acc=1, train_loss=3.56e-5, valid_loss=2.83, valid_score=0.848]   \n",
      "Training Epochs:   1%|          | 11/2000 [00:00<00:18, 106.29it/s, train_acc=0.164, train_loss=1.89, valid_loss=1.89, valid_score=0.16] "
     ]
    },
    {
     "name": "stdout",
     "output_type": "stream",
     "text": [
      "Test_loss: 0.6963 | test_acc: 0.8450\n",
      "Average sampling time 0.00003s, average computing time 0.00680s\n"
     ]
    },
    {
     "name": "stderr",
     "output_type": "stream",
     "text": [
      "Training Epochs: 100%|██████████| 2000/2000 [00:18<00:00, 107.69it/s, train_acc=1, train_loss=0.00126, valid_loss=5.74, valid_score=0.812]    \n",
      "Training Epochs:   0%|          | 10/2000 [00:00<00:20, 98.49it/s, train_acc=0.792, train_loss=0.786, valid_loss=0.837, valid_score=0.752]"
     ]
    },
    {
     "name": "stdout",
     "output_type": "stream",
     "text": [
      "Test_loss: 1.6598 | test_acc: 0.8120\n",
      "Average sampling time 0.00003s, average computing time 0.00605s\n"
     ]
    },
    {
     "name": "stderr",
     "output_type": "stream",
     "text": [
      "Training Epochs: 100%|██████████| 2000/2000 [00:19<00:00, 104.10it/s, train_acc=1, train_loss=5.13e-6, valid_loss=2.37, valid_score=0.848] \n",
      "Training Epochs:   0%|          | 10/2000 [00:00<00:20, 94.82it/s, train_acc=0.346, train_loss=1.86, valid_loss=1.85, valid_score=0.32] "
     ]
    },
    {
     "name": "stdout",
     "output_type": "stream",
     "text": [
      "Test_loss: 0.5717 | test_acc: 0.8560\n",
      "Average sampling time 0.00003s, average computing time 0.00623s\n"
     ]
    },
    {
     "name": "stderr",
     "output_type": "stream",
     "text": [
      "Training Epochs: 100%|██████████| 2000/2000 [00:20<00:00, 98.26it/s, train_acc=1, train_loss=2.53e-5, valid_loss=2.98, valid_score=0.838]   "
     ]
    },
    {
     "name": "stdout",
     "output_type": "stream",
     "text": [
      "Test_loss: 0.7793 | test_acc: 0.8290\n",
      "Average sampling time 0.00003s, average computing time 0.00666s\n"
     ]
    },
    {
     "name": "stderr",
     "output_type": "stream",
     "text": [
      "\n"
     ]
    }
   ],
   "source": [
    "\n",
    "results_list = []\n",
    "for repeat in range(5):\n",
    "    if 'GCN' in method:\n",
    "        model = GCN(n_feat=feat_data.shape[1], \n",
    "                    n_hid=args.nhid, \n",
    "                    n_classes=num_classes, \n",
    "                    n_layers=args.n_layers, \n",
    "                    dropout=args.dropout, \n",
    "                    criterion=criterion)\n",
    "\n",
    "        results = train_model(model, data_loader, note=\"GCN (L=%d)\"%args.n_layers)\n",
    "        results_list.append(results)\n",
    "\n",
    "    if 'ResGCN' in method:\n",
    "        model = ResGCN(n_feat=feat_data.shape[1], \n",
    "                    n_hid=args.nhid, \n",
    "                    n_classes=num_classes, \n",
    "                    n_layers=args.n_layers, \n",
    "                    dropout=args.dropout, \n",
    "                    criterion=criterion)\n",
    "\n",
    "        results = train_model(model, data_loader, note=\"ResGCN (L=%d)\"%args.n_layers)\n",
    "        results_list.append(results)\n",
    "    if 'GCNII' in method:\n",
    "        model = GCNII(n_feat=feat_data.shape[1], \n",
    "                    n_hid=args.nhid, \n",
    "                    n_classes=num_classes, \n",
    "                    n_layers=args.n_layers, \n",
    "                    dropout=args.dropout, \n",
    "                    criterion=criterion)\n",
    "\n",
    "        results = train_model(model, data_loader, note=\"GCNII (L=%d)\"%args.n_layers)\n",
    "        results_list.append(results)"
   ]
  },
  {
   "cell_type": "code",
   "execution_count": 9,
   "metadata": {},
   "outputs": [],
   "source": [
    "\n",
    "\n",
    "def get_weight_grad_norms(state_dicts_w, state_dicts_g, loss_record):\n",
    "    grad_div_weight = []\n",
    "    loss_div_weight = []\n",
    "    for i in range(1,len(state_dicts_w)):\n",
    "        prev_model = state_dicts_w[i-1]\n",
    "        curt_model = state_dicts_w[i]\n",
    "        \n",
    "        pred_grads = state_dicts_g[i-1]\n",
    "        curt_grads = state_dicts_g[i]\n",
    "\n",
    "        weight_norms_sum = 0\n",
    "        for (n1, p1), (n2, p2) in zip(prev_model.items(), curt_model.items()):\n",
    "            weight_norms_sum += (p1-p2).norm(2).pow(2).item()\n",
    "\n",
    "        grad_norms_sum = 0\n",
    "        for (n1, p1), (n2, p2) in zip(pred_grads.items(), curt_grads.items()):\n",
    "            grad_norms_sum += (p1-p2).norm(2).pow(2).item()\n",
    "            \n",
    "        grad_div_weight.append(grad_norms_sum/weight_norms_sum)\n",
    "        \n",
    "        prev_loss = loss_record[i-1]\n",
    "        curt_loss = loss_record[i]\n",
    "        \n",
    "        loss_div_weight.append(np.abs(curt_loss-prev_loss)/weight_norms_sum)\n",
    "    return grad_div_weight, loss_div_weight\n",
    "\n",
    "\n",
    "\n",
    "def get_grad_norms(state_dicts):\n",
    "    grad_norms_list = []\n",
    "    for i in range(len(state_dicts)):\n",
    "        curt_model = state_dicts[i]\n",
    "\n",
    "        grad_norms = {}\n",
    "        grad_norms_sum = 0\n",
    "        cnt = 0\n",
    "        for (n1, p1) in curt_model.items():\n",
    "            if 'weight' in n1:\n",
    "                cnt += 1\n",
    "                grad_norms[n1] = p1.norm(2).item()\n",
    "                grad_norms_sum += p1.norm(2).pow(2).item()\n",
    "        grad_norms['all_params'] = np.sqrt(grad_norms_sum/cnt)\n",
    "        grad_norms_list.append(grad_norms)\n",
    "    return grad_norms_list\n",
    "\n",
    "def get_weight_norms(state_dicts):\n",
    "    weight_norms_list = []\n",
    "    for i in range(len(state_dicts)):\n",
    "        curt_model = state_dicts[i]\n",
    "\n",
    "        weight_norms = {}\n",
    "        weight_norms_sum = 0\n",
    "        cnt = 0\n",
    "        for (n1, p1)in curt_model.items():\n",
    "            if 'weight' in n1:\n",
    "                cnt += 1\n",
    "                # weight_norms[n1] = p1.norm(2).item()\n",
    "                # weight_norms_sum += p1.norm(2).pow(2).item()\n",
    "                U, S, V = torch.svd(p1.data, compute_uv=False)\n",
    "                weight_norms[n1] = S.max().item()\n",
    "                weight_norms_sum += S.max()\n",
    "        # weight_norms['all_params'] = np.sqrt(weight_norms_sum/cnt)\n",
    "        weight_norms['all_params'] = weight_norms_sum/cnt\n",
    "        weight_norms_list.append(weight_norms)\n",
    "    return weight_norms_list"
   ]
  },
  {
   "cell_type": "code",
   "execution_count": 10,
   "metadata": {},
   "outputs": [
    {
     "data": {
      "text/plain": [
       "[{'gcs.0.linear.weight': 1.125072956085205,\n",
       "  'gcs.1.linear.weight': 1.1211296319961548,\n",
       "  'gcs.2.linear.weight': 1.11721670627594,\n",
       "  'gcs.3.linear.weight': 1.1188472509384155,\n",
       "  'gcs.4.linear.weight': 1.1147093772888184,\n",
       "  'gcs.5.linear.weight': 1.1524395942687988,\n",
       "  'linear_in.weight': 0.6910081505775452,\n",
       "  'linear_out.weight': 0.6700592637062073,\n",
       "  'all_params': tensor(1.0138)},\n",
       " {'gcs.0.linear.weight': 1.2886104583740234,\n",
       "  'gcs.1.linear.weight': 1.154836893081665,\n",
       "  'gcs.2.linear.weight': 1.1917667388916016,\n",
       "  'gcs.3.linear.weight': 1.1601731777191162,\n",
       "  'gcs.4.linear.weight': 1.156502604484558,\n",
       "  'gcs.5.linear.weight': 1.1781680583953857,\n",
       "  'linear_in.weight': 3.7434494495391846,\n",
       "  'linear_out.weight': 0.7111773490905762,\n",
       "  'all_params': tensor(1.4481)},\n",
       " {'gcs.0.linear.weight': 1.958315372467041,\n",
       "  'gcs.1.linear.weight': 1.6484711170196533,\n",
       "  'gcs.2.linear.weight': 1.54541015625,\n",
       "  'gcs.3.linear.weight': 1.4762190580368042,\n",
       "  'gcs.4.linear.weight': 1.4404553174972534,\n",
       "  'gcs.5.linear.weight': 1.3385140895843506,\n",
       "  'linear_in.weight': 7.289021015167236,\n",
       "  'linear_out.weight': 0.8659282326698303,\n",
       "  'all_params': tensor(2.1953)},\n",
       " {'gcs.0.linear.weight': 2.6748571395874023,\n",
       "  'gcs.1.linear.weight': 2.254945755004883,\n",
       "  'gcs.2.linear.weight': 1.9699811935424805,\n",
       "  'gcs.3.linear.weight': 1.8063420057296753,\n",
       "  'gcs.4.linear.weight': 1.7172036170959473,\n",
       "  'gcs.5.linear.weight': 1.6007168292999268,\n",
       "  'linear_in.weight': 9.899796485900879,\n",
       "  'linear_out.weight': 1.0071327686309814,\n",
       "  'all_params': tensor(2.8664)},\n",
       " {'gcs.0.linear.weight': 2.6966421604156494,\n",
       "  'gcs.1.linear.weight': 2.2849597930908203,\n",
       "  'gcs.2.linear.weight': 2.025871992111206,\n",
       "  'gcs.3.linear.weight': 1.8583416938781738,\n",
       "  'gcs.4.linear.weight': 1.7813137769699097,\n",
       "  'gcs.5.linear.weight': 1.6748414039611816,\n",
       "  'linear_in.weight': 10.42970085144043,\n",
       "  'linear_out.weight': 1.0436090230941772,\n",
       "  'all_params': tensor(2.9744)},\n",
       " {'gcs.0.linear.weight': 2.705543041229248,\n",
       "  'gcs.1.linear.weight': 2.324570417404175,\n",
       "  'gcs.2.linear.weight': 2.0862743854522705,\n",
       "  'gcs.3.linear.weight': 1.9162825345993042,\n",
       "  'gcs.4.linear.weight': 1.8201621770858765,\n",
       "  'gcs.5.linear.weight': 1.7256137132644653,\n",
       "  'linear_in.weight': 10.801429748535156,\n",
       "  'linear_out.weight': 1.0502276420593262,\n",
       "  'all_params': tensor(3.0538)},\n",
       " {'gcs.0.linear.weight': 2.7205841541290283,\n",
       "  'gcs.1.linear.weight': 2.3527884483337402,\n",
       "  'gcs.2.linear.weight': 2.1379544734954834,\n",
       "  'gcs.3.linear.weight': 1.973643183708191,\n",
       "  'gcs.4.linear.weight': 1.8558379411697388,\n",
       "  'gcs.5.linear.weight': 1.776729702949524,\n",
       "  'linear_in.weight': 11.181062698364258,\n",
       "  'linear_out.weight': 1.0639857053756714,\n",
       "  'all_params': tensor(3.1328)},\n",
       " {'gcs.0.linear.weight': 2.7451136112213135,\n",
       "  'gcs.1.linear.weight': 2.387221574783325,\n",
       "  'gcs.2.linear.weight': 2.2068986892700195,\n",
       "  'gcs.3.linear.weight': 2.0397791862487793,\n",
       "  'gcs.4.linear.weight': 1.8885754346847534,\n",
       "  'gcs.5.linear.weight': 1.8051056861877441,\n",
       "  'linear_in.weight': 11.466978073120117,\n",
       "  'linear_out.weight': 1.0781290531158447,\n",
       "  'all_params': tensor(3.2022)},\n",
       " {'gcs.0.linear.weight': 2.761584520339966,\n",
       "  'gcs.1.linear.weight': 2.410477876663208,\n",
       "  'gcs.2.linear.weight': 2.268810749053955,\n",
       "  'gcs.3.linear.weight': 2.097533702850342,\n",
       "  'gcs.4.linear.weight': 1.9227056503295898,\n",
       "  'gcs.5.linear.weight': 1.8224520683288574,\n",
       "  'linear_in.weight': 11.648597717285156,\n",
       "  'linear_out.weight': 1.0907479524612427,\n",
       "  'all_params': tensor(3.2529)},\n",
       " {'gcs.0.linear.weight': 2.780200242996216,\n",
       "  'gcs.1.linear.weight': 2.4401028156280518,\n",
       "  'gcs.2.linear.weight': 2.326453924179077,\n",
       "  'gcs.3.linear.weight': 2.1458840370178223,\n",
       "  'gcs.4.linear.weight': 1.9718186855316162,\n",
       "  'gcs.5.linear.weight': 1.8531246185302734,\n",
       "  'linear_in.weight': 11.849283218383789,\n",
       "  'linear_out.weight': 1.107552409172058,\n",
       "  'all_params': tensor(3.3093)}]"
      ]
     },
     "execution_count": 10,
     "metadata": {},
     "output_type": "execute_result"
    }
   ],
   "source": [
    "cnt = 0\n",
    "# for n, p in results_list[0].state_dicts[100].items():\n",
    "#     print(n)\n",
    "#     if 'weight' in n:\n",
    "#         cnt += 1\n",
    "#         U, S, V = torch.svd(p.data, compute_uv=False)\n",
    "#         print(S.max().item())\n",
    "get_weight_norms(results_list[0].state_dicts[:10])"
   ]
  },
  {
   "cell_type": "code",
   "execution_count": 11,
   "metadata": {},
   "outputs": [],
   "source": [
    "# fig, axs = plt.subplots()\n",
    "\n",
    "# for results in results_list:\n",
    "#     grad_div_weight, loss_div_weight = get_weight_grad_norms(results.state_dicts, results.grad_norms, results.train_loss_record)\n",
    "#     y_vals = grad_div_weight\n",
    "#     print(results.note, y_vals[0])\n",
    "#     x_vals = np.arange(len(y_vals))\n",
    "#     axs.plot(x_vals, y_vals, label=results.note)\n",
    "    \n",
    "# plt.title('Smoothness / Iters')\n",
    "# axs.set_xlabel('Iters')\n",
    "# axs.set_ylabel('Gradient norm / weight norm')\n",
    "\n",
    "# # plt.ylim(0,0.2)\n",
    "# axs.grid(True)\n",
    "# fig.tight_layout()\n",
    "# plt.legend()"
   ]
  },
  {
   "cell_type": "code",
   "execution_count": 12,
   "metadata": {},
   "outputs": [],
   "source": [
    "# fig, axs = plt.subplots()\n",
    "\n",
    "# for results in results_list:\n",
    "#     grad_div_weight, loss_div_weight = get_weight_grad_norms(results.state_dicts, results.grad_norms, results.train_loss_record)\n",
    "#     y_vals = loss_div_weight\n",
    "#     print(results.note, y_vals[0])\n",
    "#     x_vals = np.arange(len(y_vals))\n",
    "#     axs.plot(x_vals, y_vals, label=results.note)\n",
    "    \n",
    "# plt.title('Lipschitz / Iters')\n",
    "# axs.set_xlabel('Iters')\n",
    "# axs.set_ylabel('Loss diff / weight norm')\n",
    "\n",
    "# # plt.ylim(0,0.2)\n",
    "# axs.grid(True)\n",
    "# fig.tight_layout()\n",
    "# plt.legend()"
   ]
  },
  {
   "cell_type": "code",
   "execution_count": 22,
   "metadata": {},
   "outputs": [
    {
     "data": {
      "image/png": "[encoded data removed]",
      "text/plain": [
       "<Figure size 432x288 with 1 Axes>"
      ]
     },
     "metadata": {
      "needs_background": "light"
     },
     "output_type": "display_data"
    }
   ],
   "source": [
    "fig, axs = plt.subplots()\n",
    "\n",
    "# for results in results_list:\n",
    "#     print(results.note)\n",
    "#     grad_norms_list = get_grad_norms(results.grad_norms)\n",
    "#     y_vals = [grad_norm['all_params'] for grad_norm in grad_norms_list]\n",
    "#     x_vals = np.arange(len(y_vals))\n",
    "#     axs.plot(x_vals, y_vals, label=results.note)\n",
    "\n",
    "for algorithm in ['GCN', 'ResGCN', 'GCNII']:\n",
    "    train_acc = []\n",
    "    y_vals = []\n",
    "    for result in results_list:\n",
    "        if result.note.split()[0] == algorithm:\n",
    "            train_acc.append(np.array(result.train_acc_record))\n",
    "            grad_norms_list = get_grad_norms(result.grad_norms)\n",
    "            y_vals_ = [grad_norm['all_params'] for grad_norm in grad_norms_list]\n",
    "            y_vals.append(np.array(y_vals_))\n",
    "\n",
    "    train_acc = np.mean(train_acc, axis=0)\n",
    "    x_stop = np.argmax(train_acc)\n",
    "\n",
    "    y_val_mean = np.mean(y_vals, axis=0)[:x_stop]\n",
    "    y_val_std = np.std(y_vals, axis=0)[:x_stop]\n",
    "    x_vals = np.arange(len(y_val_mean))\n",
    "\n",
    "    axs.plot(x_vals*20, y_val_mean, label='%s (L=%d)'%(algorithm, args.n_layers))\n",
    "    axs.fill_between(x_vals*20, y_val_mean-y_val_std, y_val_mean+y_val_std ,alpha=0.3)\n",
    "    \n",
    "plt.title('Gradient norms / Iters')\n",
    "axs.set_xlabel('Iters')\n",
    "axs.set_ylabel('Gradient norms')\n",
    "\n",
    "plt.ylim(-.05,0.5)\n",
    "axs.grid(True)\n",
    "fig.tight_layout()\n",
    "plt.legend()\n",
    "\n",
    "plt.savefig('gradient norm.pdf')"
   ]
  },
  {
   "cell_type": "code",
   "execution_count": 14,
   "metadata": {},
   "outputs": [
    {
     "data": {
      "image/png": "[encoded data removed]",
      "text/plain": [
       "<Figure size 432x288 with 1 Axes>"
      ]
     },
     "metadata": {
      "needs_background": "light"
     },
     "output_type": "display_data"
    }
   ],
   "source": [
    "fig, axs = plt.subplots()\n",
    "\n",
    "# for results in results_list:\n",
    "#     print(results.note)\n",
    "#     grad_norms_list = get_grad_norms(results.grad_norms)\n",
    "#     y_vals = [grad_norm['all_params'] for grad_norm in grad_norms_list]\n",
    "#     x_vals = np.arange(len(y_vals))\n",
    "#     axs.plot(x_vals, y_vals, label=results.note)\n",
    "\n",
    "for algorithm in ['GCN', 'ResGCN', 'GCNII']:\n",
    "    train_acc = []\n",
    "    y_vals = []\n",
    "    for result in results_list:\n",
    "        if result.note.split()[0] == algorithm:\n",
    "            train_acc.append(np.array(result.train_acc_record))\n",
    "            grad_norms_list = get_weight_norms(result.state_dicts)\n",
    "            y_vals_ = [grad_norm['all_params'] for grad_norm in grad_norms_list]\n",
    "            y_vals.append(np.array(y_vals_))\n",
    "\n",
    "    train_acc = np.mean(train_acc, axis=0)\n",
    "    x_stop = np.argmax(train_acc)\n",
    "\n",
    "    y_val_mean = np.mean(y_vals, axis=0)[:x_stop]\n",
    "    y_val_std = np.std(y_vals, axis=0)[:x_stop]\n",
    "    x_vals = np.arange(len(y_val_mean))\n",
    "\n",
    "    axs.plot(x_vals*20, y_val_mean, label='%s (L=%d)'%(algorithm, args.n_layers))\n",
    "    axs.fill_between(x_vals*20, y_val_mean-y_val_std, y_val_mean+y_val_std ,alpha=0.3)\n",
    "    \n",
    "plt.title('Largest Singular value of weight matrices / Iters')\n",
    "axs.set_xlabel('Iters')\n",
    "axs.set_ylabel('Largest Singular value of weight matrices')\n",
    "\n",
    "# plt.ylim(0,1)\n",
    "axs.grid(True)\n",
    "fig.tight_layout()\n",
    "plt.legend()\n",
    "\n",
    "plt.savefig('singular_weight.pdf')"
   ]
  },
  {
   "cell_type": "code",
   "execution_count": 15,
   "metadata": {},
   "outputs": [],
   "source": [
    "# fig, axs = plt.subplots()\n",
    "\n",
    "# for results in results_list:\n",
    "#     print(results.note)\n",
    "#     grad_norms_list = get_weight_norms(results.state_dicts)\n",
    "#     y_vals = [grad_norm['all_params'] for grad_norm in grad_norms_list]\n",
    "#     x_vals = np.arange(len(y_vals))\n",
    "#     axs.plot(x_vals, y_vals, label=results.note)\n",
    "    \n",
    "# plt.title('Weight norms / Iters')\n",
    "# axs.set_xlabel('Iters')\n",
    "# axs.set_ylabel('Gradient norms')\n",
    "\n",
    "# # plt.ylim(0,1)\n",
    "# axs.grid(True)\n",
    "# fig.tight_layout()\n",
    "# plt.legend()"
   ]
  },
  {
   "cell_type": "code",
   "execution_count": 16,
   "metadata": {},
   "outputs": [
    {
     "data": {
      "image/png": "[encoded data removed]",
      "text/plain": [
       "<Figure size 432x288 with 1 Axes>"
      ]
     },
     "metadata": {
      "needs_background": "light"
     },
     "output_type": "display_data"
    }
   ],
   "source": [
    "fig, axs = plt.subplots()\n",
    "\n",
    "# for results in results_list:\n",
    "#     print(results.note)\n",
    "#     grad_norms_list = get_grad_norms(results.grad_norms)\n",
    "#     y_vals = [grad_norm['all_params'] for grad_norm in grad_norms_list]\n",
    "#     x_vals = np.arange(len(y_vals))\n",
    "#     axs.plot(x_vals, y_vals, label=results.note)\n",
    "\n",
    "for algorithm in ['GCN', 'ResGCN', 'GCNII']:\n",
    "    train_acc = []\n",
    "    y_vals = []\n",
    "    for result in results_list:\n",
    "        if result.note.split()[0] == algorithm:\n",
    "            train_acc.append(np.array(result.train_acc_record))\n",
    "\n",
    "    x_stop = np.argmax(np.mean(train_acc, axis=0))\n",
    "\n",
    "    y_val_mean = np.mean(train_acc, axis=0)[:x_stop]\n",
    "    y_val_std = np.std(train_acc, axis=0)[:x_stop]\n",
    "    x_vals = np.arange(len(y_val_mean))\n",
    "\n",
    "    axs.plot(x_vals*20, y_val_mean, label='%s (L=%d)'%(algorithm, args.n_layers))\n",
    "    axs.fill_between(x_vals*20, y_val_mean-y_val_std, y_val_mean+y_val_std ,alpha=0.3)\n",
    "    \n",
    "plt.title('Gradient norms / Iters')\n",
    "axs.set_xlabel('Iters')\n",
    "axs.set_ylabel('Gradient norms')\n",
    "\n",
    "# plt.ylim(-.1,0.8)\n",
    "axs.grid(True)\n",
    "fig.tight_layout()\n",
    "plt.legend()\n",
    "\n",
    "plt.savefig('gradient norm.pdf')"
   ]
  },
  {
   "cell_type": "code",
   "execution_count": 17,
   "metadata": {},
   "outputs": [],
   "source": [
    "# fig, axs = plt.subplots()\n",
    "\n",
    "# # for result in results_list:\n",
    "# #     print(result.note)\n",
    "        \n",
    "# #     y_vals = result.acc_record\n",
    "# #     x_vals = np.arange(len(y_vals))\n",
    "# #     axs.plot(x_vals, y_vals, label=result.note)\n",
    "\n",
    "# for algorithm in ['GCN', 'ResGCN', 'GCNII']:\n",
    "#     train_acc = []\n",
    "#     y_vals = []\n",
    "#     for result in results_list:\n",
    "#         if result.note.split()[0] == algorithm:\n",
    "#             train_acc.append(np.array(result.train_acc_record))\n",
    "#             grad_norms_list = get_grad_norms(result.grad_norms)\n",
    "#             y_vals_ = [grad_norm['all_params'] for grad_norm in grad_norms_list]\n",
    "#             y_vals.append(np.array(y_vals_))\n",
    "\n",
    "#     train_acc = np.mean(train_acc, axis=0)\n",
    "#     x_stop = np.argmax(train_acc)\n",
    "\n",
    "#     y_val_mean = np.mean(y_vals, axis=0)[:x_stop]\n",
    "#     y_val_std = np.mean(y_vals, axis=0)[:x_stop]\n",
    "#     x_vals = np.arange(len(y_val_mean))\n",
    "\n",
    "#     axs.plot(x_vals, y_val_mean, label='%s (L=%d)'%(algorithm, args.n_layers))\n",
    "#     axs.fill_between(x_vals, y_val_mean-y_val_std, y_val_mean+y_val_std ,alpha=0.3)\n",
    "    \n",
    "    \n",
    "# plt.title('Valid F1-score / Epoch')\n",
    "# axs.set_xlabel('Epoch')\n",
    "# axs.set_ylabel('F1-score')\n",
    "# axs.grid(True)\n",
    "\n",
    "# fig.tight_layout()\n",
    "# plt.legend()\n"
   ]
  },
  {
   "cell_type": "code",
   "execution_count": 18,
   "metadata": {},
   "outputs": [
    {
     "data": {
      "text/plain": [
       "array([1, 2, 4])"
      ]
     },
     "execution_count": 18,
     "metadata": {},
     "output_type": "execute_result"
    }
   ],
   "source": [
    "np.sort([2,4,1])"
   ]
  },
  {
   "cell_type": "code",
   "execution_count": null,
   "metadata": {},
   "outputs": [],
   "source": [
    "import torch\n",
    "a = torch.nn.Linear(3,4)"
   ]
  }
 ],
 "metadata": {
  "kernelspec": {
   "display_name": "Python 3",
   "language": "python",
   "name": "python3"
  },
  "language_info": {
   "codemirror_mode": {
    "name": "ipython",
    "version": 3
   },
   "file_extension": ".py",
   "mimetype": "text/x-python",
   "name": "python",
   "nbconvert_exporter": "python",
   "pygments_lexer": "ipython3",
   "version": "3.8.5"
  }
 },
 "nbformat": 4,
 "nbformat_minor": 4
}
