{
 "cells": [
  {
   "cell_type": "code",
   "execution_count": 1,
   "metadata": {},
   "outputs": [],
   "source": [
    "import torch\n",
    "import torch.nn as nn\n",
    "import torch.optim as optim\n",
    "\n",
    "from utils import load_data, process_graph_data\n",
    "from utils import package_mxl, adj_rw_norm\n",
    "from utils import sparse_mx_to_torch_sparse_tensor\n",
    "from utils import ResultRecorder\n",
    "\n",
    "from model import GCN, GCNBias, SGC, ResGCN, GCNII, APPNP, MLP\n",
    "from load_semigcn_data import load_data_gcn\n",
    "from data_loader import DataLoader\n",
    "\n",
    "import numpy as np\n",
    "import copy \n",
    "import time\n",
    "from sklearn.metrics import f1_score\n",
    "from sklearn.metrics import pairwise_distances\n",
    "import matplotlib.pyplot as plt\n",
    "import matplotlib.ticker as mticker\n",
    "from tqdm import trange\n",
    "from scipy.sparse.csgraph import connected_components\n",
    "import pickle\n",
    "import os\n"
   ]
  },
  {
   "cell_type": "code",
   "execution_count": 2,
   "metadata": {},
   "outputs": [
    {
     "name": "stdout",
     "output_type": "stream",
     "text": [
      "Namespace(batch_size=20000000, cuda=1, dataset='citeseer', dropout=0, epoch_num=500, method='GCN/ResGCN/GCNII/DropEdge/PairNorm', n_layers=5, nhid=64)\n"
     ]
    }
   ],
   "source": [
    "import sys; sys.argv=['']; del sys\n",
    "import warnings\n",
    "warnings.filterwarnings(\"ignore\", category=RuntimeWarning)\n",
    "warnings.filterwarnings(\"ignore\", category=UserWarning)\n",
    "\n",
    "import argparse\n",
    "\"\"\"\n",
    "Dataset arguments\n",
    "\"\"\"\n",
    "parser = argparse.ArgumentParser(\n",
    "    description='Training GCN on Large-scale Graph Datasets')\n",
    "parser.add_argument('--dataset', type=str, default='citeseer',\n",
    "                    help='Dataset name: pubmed/flickr/reddit/ppi-large')\n",
    "parser.add_argument('--method', type=str, default='GCN/ResGCN/GCNII/DropEdge/PairNorm', # SGC/GCN/GCNBias/ResGCN/GCNII/APPNP\n",
    "                    help='Algorithms: seperate using slash')\n",
    "parser.add_argument('--nhid', type=int, default=64,\n",
    "                    help='Hidden state dimension')\n",
    "parser.add_argument('--epoch_num', type=int, default=500,\n",
    "                    help='Number of Epoch')\n",
    "parser.add_argument('--batch_size', type=int, default=20000000,\n",
    "                    help='size of output node in a batch')\n",
    "parser.add_argument('--n_layers', type=int, default=5,\n",
    "                    help='Number of GCN layers')\n",
    "parser.add_argument('--dropout', type=float, default=0,\n",
    "                    help='Dropout rate')\n",
    "parser.add_argument('--cuda', type=int, default=1,\n",
    "                    help='Avaiable GPU ID')\n",
    "args = parser.parse_args()\n",
    "print(args)\n",
    "\n",
    "method = args.method.split('/')\n",
    "\n",
    "\"\"\"\n",
    "Prepare devices\n",
    "\"\"\"\n",
    "if args.cuda != -1:\n",
    "    device = torch.device(\"cuda:\" + str(args.cuda))\n",
    "else:\n",
    "    device = torch.device(\"cpu\")\n",
    "    \n",
    "if args.dataset not in ['cora', 'citeseer', 'pubmed']:\n",
    "    temp_data = load_data(args.dataset) \n",
    "else:\n",
    "    temp_data = load_data_gcn(args.dataset)\n",
    "\n",
    "adj_full, adj_train, feat_data, labels, role = process_graph_data(*temp_data)\n",
    "\n",
    "train_nodes = np.array(role['tr'])\n",
    "valid_nodes = np.array(role['va'])\n",
    "test_nodes = np.array(role['te'])\n",
    "\n",
    "data_loader = DataLoader(adj_full, train_nodes, valid_nodes, test_nodes, device)"
   ]
  },
  {
   "cell_type": "code",
   "execution_count": 3,
   "metadata": {},
   "outputs": [],
   "source": [
    "# def weight_constaint(model):\n",
    "#     for p in model.parameters():\n",
    "#         if p.data.norm(2) > 20:\n",
    "#             p.data = p.data / p.data.norm(2)"
   ]
  },
  {
   "cell_type": "code",
   "execution_count": 4,
   "metadata": {},
   "outputs": [],
   "source": [
    "\"\"\"\n",
    "Setup datasets and models for training (multi-class use sigmoid+binary_cross_entropy, use softmax+nll_loss otherwise)\n",
    "\"\"\"\n",
    "\n",
    "if args.dataset in ['flickr', 'reddit', 'cora', 'citeseer', 'pubmed']:\n",
    "    feat_data_th = torch.FloatTensor(feat_data)\n",
    "    labels_th = torch.LongTensor(labels.argmax(1))\n",
    "    num_classes = labels_th.max().item()+1\n",
    "    criterion = nn.CrossEntropyLoss()\n",
    "    multi_class=False\n",
    "elif args.dataset in ['ppi', 'ppi-large', 'amazon', 'yelp']:\n",
    "    feat_data_th = torch.FloatTensor(feat_data)\n",
    "    labels_th = torch.FloatTensor(labels)\n",
    "    num_classes = labels_th.shape[1]\n",
    "    criterion = nn.BCEWithLogitsLoss()\n",
    "    multi_class=True\n",
    "\n",
    "feat_data_th = feat_data_th.to(device)\n",
    "labels_th = labels_th.to(device)\n",
    "\n",
    "def sgd_step(net, optimizer, feat_data, labels, train_data, device):\n",
    "    \"\"\"\n",
    "    Function to updated weights with a SGD backpropagation\n",
    "    args : net, optimizer, train_loader, test_loader, loss function, number of inner epochs, args\n",
    "    return : train_loss, test_loss, grad_norm_lb\n",
    "    \"\"\"\n",
    "    net.train()\n",
    "    epoch_loss = []\n",
    "    epoch_acc = []\n",
    "    \n",
    "    # Run over the train_loader\n",
    "    mini_batches, adj = train_data\n",
    "    for mini_batch in mini_batches:\n",
    "\n",
    "        # compute current stochastic gradient\n",
    "        optimizer.zero_grad()\n",
    "        output = net(feat_data, adj)\n",
    "        \n",
    "        loss = net.criterion(output[mini_batch], labels[mini_batch])\n",
    "        loss.backward()\n",
    "        \n",
    "        optimizer.step()\n",
    "        epoch_loss.append(loss.item())\n",
    "        \n",
    "        if multi_class:\n",
    "            output[output > 0.5] = 1\n",
    "            output[output <= 0.5] = 0\n",
    "        else:\n",
    "            output = output.argmax(dim=1)\n",
    "\n",
    "        acc = f1_score(output[mini_batch].detach().cpu(), \n",
    "                       labels[mini_batch].detach().cpu(), average=\"micro\")\n",
    "        epoch_acc.append(acc)\n",
    "\n",
    "    return epoch_loss, epoch_acc\n",
    "\n",
    "@torch.no_grad()\n",
    "def inference(eval_model, feat_data, labels, test_data, device):\n",
    "    eval_model = eval_model.to(device)\n",
    "    mini_batch, adj = test_data    \n",
    "    output = eval_model(feat_data, adj)\n",
    "    loss = eval_model.criterion(output[mini_batch], labels[mini_batch]).item()\n",
    "    \n",
    "    if multi_class:\n",
    "        output[output > 0.5] = 1\n",
    "        output[output <= 0.5] = 0\n",
    "    else:\n",
    "        output = output.argmax(dim=1)\n",
    "        \n",
    "    acc = f1_score(output[mini_batch].detach().cpu(), \n",
    "                   labels[mini_batch].detach().cpu(), average=\"micro\")\n",
    "    return loss, acc"
   ]
  },
  {
   "cell_type": "code",
   "execution_count": 5,
   "metadata": {},
   "outputs": [],
   "source": [
    "from collections import OrderedDict\n",
    "def copy_model(model):\n",
    "    state_dict = {k:v.to('cpu') for k, v in model.named_parameters()}\n",
    "    state_dict = OrderedDict(state_dict)\n",
    "    return state_dict\n",
    "def copy_grad(model):\n",
    "    state_dict = {k:v.grad.to('cpu') for k, v in model.named_parameters()}\n",
    "    state_dict = OrderedDict(state_dict)\n",
    "    return state_dict"
   ]
  },
  {
   "cell_type": "code",
   "execution_count": 6,
   "metadata": {},
   "outputs": [],
   "source": [
    "\"\"\"\n",
    "Train without sampling\n",
    "\"\"\"\n",
    "\n",
    "def train_model(model, data_loader, note, dropedge=1):\n",
    "    train_model = copy.deepcopy(model).to(device)\n",
    "    \n",
    "    results = ResultRecorder(note=note)\n",
    "    \n",
    "    optimizer = optim.Adam(train_model.parameters())\n",
    "\n",
    "    tbar = trange(args.epoch_num, desc='Training Epochs')\n",
    "    for epoch in tbar:\n",
    "        # fetch train data \n",
    "        \n",
    "        sample_time_st = time.perf_counter()\n",
    "        if dropedge<1:\n",
    "            train_data = data_loader.get_mini_batch_dropedge(dropedge)\n",
    "        else:\n",
    "            train_data = data_loader.get_mini_batches(batch_size=args.batch_size)\n",
    "        sample_time = time.perf_counter() - sample_time_st\n",
    "        \n",
    "        compute_time_st = time.perf_counter()\n",
    "        train_loss, train_acc = sgd_step(train_model, optimizer, feat_data_th, labels_th, train_data, device)\n",
    "        compute_time = time.perf_counter() - compute_time_st\n",
    "        \n",
    "        epoch_train_loss = np.mean(train_loss)\n",
    "        epoch_train_acc = np.mean(train_acc)\n",
    "\n",
    "        valid_data = data_loader.get_valid_batch()\n",
    "        epoch_valid_loss, epoch_valid_acc = inference(train_model, feat_data_th, labels_th, valid_data, device)\n",
    "        tbar.set_postfix(loss=epoch_train_loss,\n",
    "                         val_loss=epoch_valid_loss,\n",
    "                         val_score=epoch_valid_acc)\n",
    "\n",
    "        results.update(epoch_train_loss, \n",
    "                       epoch_train_acc,\n",
    "                       epoch_valid_loss, \n",
    "                       epoch_valid_acc, \n",
    "                       train_model, sample_time=sample_time, compute_time=compute_time)\n",
    "        \n",
    "    \n",
    "    print('Average sampling time %.5fs, average computing time %.5fs'%\n",
    "          (np.mean(results.sample_time), np.mean(results.compute_time)))\n",
    "    \n",
    "    return results"
   ]
  },
  {
   "cell_type": "code",
   "execution_count": 7,
   "metadata": {},
   "outputs": [],
   "source": [
    "class PairNorm(nn.Module):\n",
    "    def __init__(self, mode='PN', scale=1):\n",
    "        super(PairNorm, self).__init__()\n",
    "        self.mode = mode\n",
    "        self.scale = scale\n",
    "                \n",
    "    def forward(self, x):\n",
    "        if self.mode == 'None':\n",
    "            return x\n",
    "        \n",
    "        col_mean = x.mean(dim=0)      \n",
    "        if self.mode == 'PN':\n",
    "            x = x - col_mean\n",
    "            rownorm_mean = (1e-6 + x.pow(2).sum(dim=1).mean()).sqrt() \n",
    "            x = self.scale * x / rownorm_mean\n",
    "\n",
    "        return x\n"
   ]
  },
  {
   "cell_type": "code",
   "execution_count": 8,
   "metadata": {},
   "outputs": [],
   "source": [
    "import math\n",
    "\n",
    "class GCN(nn.Module):\n",
    "    def __init__(self, n_feat, n_hid, n_classes, n_layers, dropout, criterion):\n",
    "        from layers import GraphConv\n",
    "        super(GCN, self).__init__()\n",
    "        self.n_layers = n_layers\n",
    "        self.n_hid = n_hid\n",
    "        \n",
    "        self.gcs = nn.ModuleList()\n",
    "        for _ in range(n_layers):\n",
    "            self.gcs.append(GraphConv(n_hid,  n_hid))\n",
    "        self.linear_in = nn.Linear(n_feat, n_hid)\n",
    "        self.linear_out = nn.Linear(n_hid, n_classes)\n",
    "        self.relu = nn.ReLU()\n",
    "        self.dropout = nn.Dropout(dropout)\n",
    "        self.criterion = criterion\n",
    "\n",
    "    def forward(self, x, adj):\n",
    "        x = self.linear_in(x)\n",
    "        for ell in range(len(self.gcs)):\n",
    "            x = self.gcs[ell](x, adj)\n",
    "            x = self.relu(x)\n",
    "            x = self.dropout(x)\n",
    "        x = self.linear_out(x)\n",
    "        return x\n",
    "    \n",
    "class PairNorm(nn.Module):\n",
    "    def __init__(self, n_feat, n_hid, n_classes, n_layers, dropout, criterion, scale):\n",
    "        from layers import GraphConv\n",
    "        super(PairNorm, self).__init__()\n",
    "        self.n_layers = n_layers\n",
    "        self.n_hid = n_hid\n",
    "        \n",
    "        self.gcs = nn.ModuleList()\n",
    "        for _ in range(n_layers):\n",
    "            self.gcs.append(GraphConv(n_hid,  n_hid))\n",
    "        self.linear_in = nn.Linear(n_feat, n_hid)\n",
    "        self.linear_out = nn.Linear(n_hid, n_classes)\n",
    "        self.relu = nn.ReLU()\n",
    "        self.dropout = nn.Dropout(dropout)\n",
    "        self.criterion = criterion\n",
    "        self.scale = scale\n",
    "\n",
    "    def norm(self, x):\n",
    "        col_mean = x.mean(dim=0)      \n",
    "        x = x - col_mean\n",
    "        rownorm_mean = (1e-6 + x.pow(2).sum(dim=1).mean()).sqrt() \n",
    "        x = self.scale * x / rownorm_mean\n",
    "        return x\n",
    "            \n",
    "    def forward(self, x, adj):\n",
    "        x = self.linear_in(x)\n",
    "        for ell in range(len(self.gcs)):\n",
    "            x = self.gcs[ell](x, adj)\n",
    "            x = self.norm(x)\n",
    "            x = self.relu(x)\n",
    "            x = self.dropout(x)\n",
    "        x = self.linear_out(x)\n",
    "        return x"
   ]
  },
  {
   "cell_type": "code",
   "execution_count": 9,
   "metadata": {},
   "outputs": [
    {
     "name": "stderr",
     "output_type": "stream",
     "text": [
      "Training Epochs: 100%|██████████| 500/500 [00:06<00:00, 80.94it/s, loss=0.0585, val_loss=7.54, val_score=0.692]\n",
      "Training Epochs:   2%|▏         | 9/500 [00:00<00:06, 81.69it/s, loss=1.73, val_loss=1.73, val_score=0.38] "
     ]
    },
    {
     "name": "stdout",
     "output_type": "stream",
     "text": [
      "Average sampling time 0.00007s, average computing time 0.00779s\n"
     ]
    },
    {
     "name": "stderr",
     "output_type": "stream",
     "text": [
      "Training Epochs: 100%|██████████| 500/500 [00:06<00:00, 81.03it/s, loss=0.0659, val_loss=8.82, val_score=0.66] \n",
      "Training Epochs:   2%|▏         | 9/500 [00:00<00:06, 81.60it/s, loss=1.74, val_loss=1.73, val_score=0.216]"
     ]
    },
    {
     "name": "stdout",
     "output_type": "stream",
     "text": [
      "Average sampling time 0.00006s, average computing time 0.00778s\n"
     ]
    },
    {
     "name": "stderr",
     "output_type": "stream",
     "text": [
      "Training Epochs: 100%|██████████| 500/500 [00:06<00:00, 81.16it/s, loss=0.0828, val_loss=8.29, val_score=0.666]\n",
      "Training Epochs:   2%|▏         | 9/500 [00:00<00:05, 84.07it/s, loss=1.74, val_loss=1.73, val_score=0.196]"
     ]
    },
    {
     "name": "stdout",
     "output_type": "stream",
     "text": [
      "Average sampling time 0.00006s, average computing time 0.00776s\n"
     ]
    },
    {
     "name": "stderr",
     "output_type": "stream",
     "text": [
      "Training Epochs: 100%|██████████| 500/500 [00:06<00:00, 81.25it/s, loss=0.0761, val_loss=8.19, val_score=0.656]\n",
      "Training Epochs:   2%|▏         | 8/500 [00:00<00:06, 77.15it/s, loss=1.75, val_loss=1.75, val_score=0.382]"
     ]
    },
    {
     "name": "stdout",
     "output_type": "stream",
     "text": [
      "Average sampling time 0.00007s, average computing time 0.00774s\n"
     ]
    },
    {
     "name": "stderr",
     "output_type": "stream",
     "text": [
      "Training Epochs: 100%|██████████| 500/500 [00:06<00:00, 81.15it/s, loss=0.0661, val_loss=7.87, val_score=0.658]\n",
      "Training Epochs:   2%|▏         | 8/500 [00:00<00:06, 77.19it/s, loss=1.76, val_loss=1.75, val_score=0.354]"
     ]
    },
    {
     "name": "stdout",
     "output_type": "stream",
     "text": [
      "Average sampling time 0.00007s, average computing time 0.00777s\n"
     ]
    },
    {
     "name": "stderr",
     "output_type": "stream",
     "text": [
      "Training Epochs: 100%|██████████| 500/500 [00:06<00:00, 81.67it/s, loss=0.0712, val_loss=7.86, val_score=0.668]\n",
      "Training Epochs:   2%|▏         | 8/500 [00:00<00:06, 76.58it/s, loss=1.75, val_loss=1.75, val_score=0.336]"
     ]
    },
    {
     "name": "stdout",
     "output_type": "stream",
     "text": [
      "Average sampling time 0.00007s, average computing time 0.00776s\n"
     ]
    },
    {
     "name": "stderr",
     "output_type": "stream",
     "text": [
      "Training Epochs: 100%|██████████| 500/500 [00:06<00:00, 81.12it/s, loss=0.0684, val_loss=8.26, val_score=0.652]\n",
      "Training Epochs:   2%|▏         | 8/500 [00:00<00:06, 78.53it/s, loss=1.75, val_loss=1.75, val_score=0.266]"
     ]
    },
    {
     "name": "stdout",
     "output_type": "stream",
     "text": [
      "Average sampling time 0.00007s, average computing time 0.00779s\n"
     ]
    },
    {
     "name": "stderr",
     "output_type": "stream",
     "text": [
      "Training Epochs: 100%|██████████| 500/500 [00:06<00:00, 81.38it/s, loss=0.0773, val_loss=8.11, val_score=0.662]\n",
      "Training Epochs:   2%|▏         | 8/500 [00:00<00:06, 78.28it/s, loss=1.73, val_loss=1.73, val_score=0.216]"
     ]
    },
    {
     "name": "stdout",
     "output_type": "stream",
     "text": [
      "Average sampling time 0.00007s, average computing time 0.00777s\n"
     ]
    },
    {
     "name": "stderr",
     "output_type": "stream",
     "text": [
      "Training Epochs: 100%|██████████| 500/500 [00:06<00:00, 81.41it/s, loss=0.0611, val_loss=8.71, val_score=0.66] \n",
      "Training Epochs:   2%|▏         | 9/500 [00:00<00:05, 85.25it/s, loss=1.74, val_loss=1.73, val_score=0.234]"
     ]
    },
    {
     "name": "stdout",
     "output_type": "stream",
     "text": [
      "Average sampling time 0.00007s, average computing time 0.00775s\n"
     ]
    },
    {
     "name": "stderr",
     "output_type": "stream",
     "text": [
      "Training Epochs: 100%|██████████| 500/500 [00:06<00:00, 81.28it/s, loss=0.0642, val_loss=8.56, val_score=0.672]\n",
      "Training Epochs:   1%|▏         | 7/500 [00:00<00:07, 66.90it/s, loss=1.77, val_loss=1.78, val_score=0.17]"
     ]
    },
    {
     "name": "stdout",
     "output_type": "stream",
     "text": [
      "Average sampling time 0.00007s, average computing time 0.00777s\n"
     ]
    },
    {
     "name": "stderr",
     "output_type": "stream",
     "text": [
      "Training Epochs: 100%|██████████| 500/500 [00:07<00:00, 65.33it/s, loss=1.42, val_loss=1.71, val_score=0.38] \n",
      "Training Epochs:   1%|▏         | 7/500 [00:00<00:07, 64.14it/s, loss=1.77, val_loss=1.77, val_score=0.238]"
     ]
    },
    {
     "name": "stdout",
     "output_type": "stream",
     "text": [
      "Average sampling time 0.00006s, average computing time 0.00989s\n"
     ]
    },
    {
     "name": "stderr",
     "output_type": "stream",
     "text": [
      "Training Epochs: 100%|██████████| 500/500 [00:07<00:00, 65.68it/s, loss=1.41, val_loss=1.71, val_score=0.308]\n",
      "Training Epochs:   1%|▏         | 7/500 [00:00<00:07, 67.39it/s, loss=1.78, val_loss=1.78, val_score=0.084]"
     ]
    },
    {
     "name": "stdout",
     "output_type": "stream",
     "text": [
      "Average sampling time 0.00006s, average computing time 0.00985s\n"
     ]
    },
    {
     "name": "stderr",
     "output_type": "stream",
     "text": [
      "Training Epochs: 100%|██████████| 500/500 [00:07<00:00, 66.07it/s, loss=1.42, val_loss=1.71, val_score=0.342]\n",
      "Training Epochs:   1%|▏         | 7/500 [00:00<00:07, 62.33it/s, loss=1.77, val_loss=1.77, val_score=0.272]"
     ]
    },
    {
     "name": "stdout",
     "output_type": "stream",
     "text": [
      "Average sampling time 0.00006s, average computing time 0.00986s\n"
     ]
    },
    {
     "name": "stderr",
     "output_type": "stream",
     "text": [
      "Training Epochs: 100%|██████████| 500/500 [00:07<00:00, 65.60it/s, loss=1.42, val_loss=1.7, val_score=0.39]  \n",
      "Training Epochs:   1%|          | 6/500 [00:00<00:08, 59.30it/s, loss=1.76, val_loss=1.77, val_score=0.306]"
     ]
    },
    {
     "name": "stdout",
     "output_type": "stream",
     "text": [
      "Average sampling time 0.00006s, average computing time 0.00985s\n"
     ]
    },
    {
     "name": "stderr",
     "output_type": "stream",
     "text": [
      "Training Epochs: 100%|██████████| 500/500 [00:07<00:00, 65.62it/s, loss=1.42, val_loss=1.71, val_score=0.388]\n",
      "Training Epochs:   1%|▏         | 7/500 [00:00<00:08, 60.34it/s, loss=1.77, val_loss=1.78, val_score=0.428]"
     ]
    },
    {
     "name": "stdout",
     "output_type": "stream",
     "text": [
      "Average sampling time 0.00006s, average computing time 0.00988s\n"
     ]
    },
    {
     "name": "stderr",
     "output_type": "stream",
     "text": [
      "Training Epochs: 100%|██████████| 500/500 [00:07<00:00, 65.64it/s, loss=1.42, val_loss=1.71, val_score=0.336]\n",
      "Training Epochs:   1%|▏         | 7/500 [00:00<00:07, 62.96it/s, loss=1.77, val_loss=1.78, val_score=0.22] "
     ]
    },
    {
     "name": "stdout",
     "output_type": "stream",
     "text": [
      "Average sampling time 0.00007s, average computing time 0.00993s\n"
     ]
    },
    {
     "name": "stderr",
     "output_type": "stream",
     "text": [
      "Training Epochs: 100%|██████████| 500/500 [00:07<00:00, 65.77it/s, loss=1.42, val_loss=1.71, val_score=0.344]\n",
      "Training Epochs:   1%|▏         | 7/500 [00:00<00:07, 66.76it/s, loss=1.77, val_loss=1.78, val_score=0.174]"
     ]
    },
    {
     "name": "stdout",
     "output_type": "stream",
     "text": [
      "Average sampling time 0.00006s, average computing time 0.00988s\n"
     ]
    },
    {
     "name": "stderr",
     "output_type": "stream",
     "text": [
      "Training Epochs: 100%|██████████| 500/500 [00:07<00:00, 65.31it/s, loss=1.41, val_loss=1.71, val_score=0.376]\n",
      "Training Epochs:   1%|▏         | 7/500 [00:00<00:07, 63.61it/s, loss=1.77, val_loss=1.78, val_score=0.202]"
     ]
    },
    {
     "name": "stdout",
     "output_type": "stream",
     "text": [
      "Average sampling time 0.00006s, average computing time 0.00988s\n"
     ]
    },
    {
     "name": "stderr",
     "output_type": "stream",
     "text": [
      "Training Epochs: 100%|██████████| 500/500 [00:07<00:00, 65.32it/s, loss=1.42, val_loss=1.71, val_score=0.352]\n",
      "Training Epochs:   1%|          | 6/500 [00:00<00:08, 59.94it/s, loss=1.76, val_loss=1.77, val_score=0.428]"
     ]
    },
    {
     "name": "stdout",
     "output_type": "stream",
     "text": [
      "Average sampling time 0.00006s, average computing time 0.00986s\n"
     ]
    },
    {
     "name": "stderr",
     "output_type": "stream",
     "text": [
      "Training Epochs: 100%|██████████| 500/500 [00:07<00:00, 65.99it/s, loss=1.42, val_loss=1.71, val_score=0.352]\n",
      "Training Epochs:   1%|          | 6/500 [00:00<00:08, 59.76it/s, loss=1.59, val_loss=1.66, val_score=0.594]"
     ]
    },
    {
     "name": "stdout",
     "output_type": "stream",
     "text": [
      "Average sampling time 0.00006s, average computing time 0.00990s\n"
     ]
    },
    {
     "name": "stderr",
     "output_type": "stream",
     "text": [
      "Training Epochs: 100%|██████████| 500/500 [00:07<00:00, 65.64it/s, loss=0.278, val_loss=1.41, val_score=0.506]\n",
      "Training Epochs:   1%|          | 6/500 [00:00<00:08, 59.83it/s, loss=1.61, val_loss=1.68, val_score=0.648]"
     ]
    },
    {
     "name": "stdout",
     "output_type": "stream",
     "text": [
      "Average sampling time 0.00006s, average computing time 0.00994s\n"
     ]
    },
    {
     "name": "stderr",
     "output_type": "stream",
     "text": [
      "Training Epochs: 100%|██████████| 500/500 [00:07<00:00, 65.86it/s, loss=0.276, val_loss=1.39, val_score=0.51] \n",
      "Training Epochs:   1%|          | 6/500 [00:00<00:08, 59.91it/s, loss=1.58, val_loss=1.64, val_score=0.666]"
     ]
    },
    {
     "name": "stdout",
     "output_type": "stream",
     "text": [
      "Average sampling time 0.00006s, average computing time 0.00990s\n"
     ]
    },
    {
     "name": "stderr",
     "output_type": "stream",
     "text": [
      "Training Epochs: 100%|██████████| 500/500 [00:07<00:00, 65.78it/s, loss=0.286, val_loss=1.4, val_score=0.506] \n",
      "Training Epochs:   1%|          | 6/500 [00:00<00:08, 59.52it/s, loss=1.61, val_loss=1.65, val_score=0.68] "
     ]
    },
    {
     "name": "stdout",
     "output_type": "stream",
     "text": [
      "Average sampling time 0.00006s, average computing time 0.00994s\n"
     ]
    },
    {
     "name": "stderr",
     "output_type": "stream",
     "text": [
      "Training Epochs: 100%|██████████| 500/500 [00:07<00:00, 65.55it/s, loss=0.262, val_loss=1.39, val_score=0.51] \n",
      "Training Epochs:   1%|          | 6/500 [00:00<00:08, 59.88it/s, loss=1.59, val_loss=1.65, val_score=0.556]"
     ]
    },
    {
     "name": "stdout",
     "output_type": "stream",
     "text": [
      "Average sampling time 0.00006s, average computing time 0.00997s\n"
     ]
    },
    {
     "name": "stderr",
     "output_type": "stream",
     "text": [
      "Training Epochs: 100%|██████████| 500/500 [00:07<00:00, 65.74it/s, loss=0.273, val_loss=1.42, val_score=0.48] \n",
      "Training Epochs:   1%|          | 6/500 [00:00<00:08, 59.86it/s, loss=1.6, val_loss=1.66, val_score=0.594] "
     ]
    },
    {
     "name": "stdout",
     "output_type": "stream",
     "text": [
      "Average sampling time 0.00006s, average computing time 0.00992s\n"
     ]
    },
    {
     "name": "stderr",
     "output_type": "stream",
     "text": [
      "Training Epochs: 100%|██████████| 500/500 [00:07<00:00, 65.64it/s, loss=0.318, val_loss=1.4, val_score=0.51]  \n",
      "Training Epochs:   1%|          | 5/500 [00:00<00:11, 43.92it/s, loss=1.63, val_loss=1.67, val_score=0.6]  "
     ]
    },
    {
     "name": "stdout",
     "output_type": "stream",
     "text": [
      "Average sampling time 0.00006s, average computing time 0.00993s\n"
     ]
    },
    {
     "name": "stderr",
     "output_type": "stream",
     "text": [
      "Training Epochs: 100%|██████████| 500/500 [00:07<00:00, 65.24it/s, loss=0.269, val_loss=1.4, val_score=0.508] \n",
      "Training Epochs:   1%|          | 6/500 [00:00<00:08, 59.10it/s, loss=1.61, val_loss=1.66, val_score=0.666]"
     ]
    },
    {
     "name": "stdout",
     "output_type": "stream",
     "text": [
      "Average sampling time 0.00006s, average computing time 0.00996s\n"
     ]
    },
    {
     "name": "stderr",
     "output_type": "stream",
     "text": [
      "Training Epochs: 100%|██████████| 500/500 [00:07<00:00, 65.68it/s, loss=0.282, val_loss=1.43, val_score=0.496]\n",
      "Training Epochs:   1%|          | 6/500 [00:00<00:08, 59.15it/s, loss=1.6, val_loss=1.67, val_score=0.62]  "
     ]
    },
    {
     "name": "stdout",
     "output_type": "stream",
     "text": [
      "Average sampling time 0.00006s, average computing time 0.00995s\n"
     ]
    },
    {
     "name": "stderr",
     "output_type": "stream",
     "text": [
      "Training Epochs: 100%|██████████| 500/500 [00:07<00:00, 65.72it/s, loss=0.26, val_loss=1.39, val_score=0.53]  \n",
      "Training Epochs:   1%|          | 6/500 [00:00<00:08, 59.84it/s, loss=1.6, val_loss=1.65, val_score=0.568] "
     ]
    },
    {
     "name": "stdout",
     "output_type": "stream",
     "text": [
      "Average sampling time 0.00006s, average computing time 0.00994s\n"
     ]
    },
    {
     "name": "stderr",
     "output_type": "stream",
     "text": [
      "Training Epochs: 100%|██████████| 500/500 [00:07<00:00, 65.73it/s, loss=0.287, val_loss=1.4, val_score=0.52]  \n",
      "Training Epochs:   1%|▏         | 7/500 [00:00<00:08, 60.10it/s, loss=0.697, val_loss=1.06, val_score=0.684]"
     ]
    },
    {
     "name": "stdout",
     "output_type": "stream",
     "text": [
      "Average sampling time 0.00006s, average computing time 0.00993s\n"
     ]
    },
    {
     "name": "stderr",
     "output_type": "stream",
     "text": [
      "Training Epochs: 100%|██████████| 500/500 [00:07<00:00, 65.44it/s, loss=0.0381, val_loss=1.99, val_score=0.612]\n",
      "Training Epochs:   1%|▏         | 7/500 [00:00<00:08, 60.74it/s, loss=0.646, val_loss=1.01, val_score=0.7]  "
     ]
    },
    {
     "name": "stdout",
     "output_type": "stream",
     "text": [
      "Average sampling time 0.00007s, average computing time 0.00998s\n"
     ]
    },
    {
     "name": "stderr",
     "output_type": "stream",
     "text": [
      "Training Epochs: 100%|██████████| 500/500 [00:07<00:00, 65.63it/s, loss=0.0298, val_loss=2.12, val_score=0.618]\n",
      "Training Epochs:   1%|          | 6/500 [00:00<00:08, 59.18it/s, loss=0.678, val_loss=1.03, val_score=0.686]"
     ]
    },
    {
     "name": "stdout",
     "output_type": "stream",
     "text": [
      "Average sampling time 0.00006s, average computing time 0.00995s\n"
     ]
    },
    {
     "name": "stderr",
     "output_type": "stream",
     "text": [
      "Training Epochs: 100%|██████████| 500/500 [00:07<00:00, 65.65it/s, loss=0.0295, val_loss=2.07, val_score=0.626]\n",
      "Training Epochs:   1%|          | 6/500 [00:00<00:08, 59.61it/s, loss=0.623, val_loss=1.02, val_score=0.69] "
     ]
    },
    {
     "name": "stdout",
     "output_type": "stream",
     "text": [
      "Average sampling time 0.00007s, average computing time 0.00996s\n"
     ]
    },
    {
     "name": "stderr",
     "output_type": "stream",
     "text": [
      "Training Epochs: 100%|██████████| 500/500 [00:07<00:00, 65.71it/s, loss=0.0337, val_loss=2.08, val_score=0.64] \n",
      "Training Epochs:   1%|          | 6/500 [00:00<00:08, 59.79it/s, loss=0.647, val_loss=1.02, val_score=0.702]"
     ]
    },
    {
     "name": "stdout",
     "output_type": "stream",
     "text": [
      "Average sampling time 0.00006s, average computing time 0.00996s\n"
     ]
    },
    {
     "name": "stderr",
     "output_type": "stream",
     "text": [
      "Training Epochs: 100%|██████████| 500/500 [00:07<00:00, 65.49it/s, loss=0.0894, val_loss=2.01, val_score=0.624]\n",
      "Training Epochs:   1%|          | 6/500 [00:00<00:08, 59.44it/s, loss=0.651, val_loss=0.986, val_score=0.708]"
     ]
    },
    {
     "name": "stdout",
     "output_type": "stream",
     "text": [
      "Average sampling time 0.00006s, average computing time 0.00998s\n"
     ]
    },
    {
     "name": "stderr",
     "output_type": "stream",
     "text": [
      "Training Epochs: 100%|██████████| 500/500 [00:07<00:00, 65.50it/s, loss=0.0287, val_loss=2.06, val_score=0.604]\n",
      "Training Epochs:   1%|          | 6/500 [00:00<00:08, 59.32it/s, loss=0.77, val_loss=1.1, val_score=0.686]  "
     ]
    },
    {
     "name": "stdout",
     "output_type": "stream",
     "text": [
      "Average sampling time 0.00006s, average computing time 0.00998s\n"
     ]
    },
    {
     "name": "stderr",
     "output_type": "stream",
     "text": [
      "Training Epochs: 100%|██████████| 500/500 [00:07<00:00, 65.51it/s, loss=0.0803, val_loss=1.87, val_score=0.67] \n",
      "Training Epochs:   1%|          | 6/500 [00:00<00:08, 59.17it/s, loss=0.68, val_loss=1.02, val_score=0.696] "
     ]
    },
    {
     "name": "stdout",
     "output_type": "stream",
     "text": [
      "Average sampling time 0.00006s, average computing time 0.00995s\n"
     ]
    },
    {
     "name": "stderr",
     "output_type": "stream",
     "text": [
      "Training Epochs: 100%|██████████| 500/500 [00:07<00:00, 65.49it/s, loss=0.0311, val_loss=2.02, val_score=0.642]\n",
      "Training Epochs:   1%|          | 6/500 [00:00<00:08, 59.78it/s, loss=0.667, val_loss=1, val_score=0.726]   "
     ]
    },
    {
     "name": "stdout",
     "output_type": "stream",
     "text": [
      "Average sampling time 0.00006s, average computing time 0.00999s\n"
     ]
    },
    {
     "name": "stderr",
     "output_type": "stream",
     "text": [
      "Training Epochs: 100%|██████████| 500/500 [00:07<00:00, 65.46it/s, loss=0.0318, val_loss=2.11, val_score=0.632]\n",
      "Training Epochs:   1%|          | 6/500 [00:00<00:08, 59.57it/s, loss=0.68, val_loss=1.06, val_score=0.68]  "
     ]
    },
    {
     "name": "stdout",
     "output_type": "stream",
     "text": [
      "Average sampling time 0.00007s, average computing time 0.00998s\n"
     ]
    },
    {
     "name": "stderr",
     "output_type": "stream",
     "text": [
      "Training Epochs: 100%|██████████| 500/500 [00:07<00:00, 65.60it/s, loss=0.0376, val_loss=2.06, val_score=0.646]"
     ]
    },
    {
     "name": "stdout",
     "output_type": "stream",
     "text": [
      "Average sampling time 0.00006s, average computing time 0.00995s\n"
     ]
    },
    {
     "name": "stderr",
     "output_type": "stream",
     "text": [
      "\n"
     ]
    }
   ],
   "source": [
    "\n",
    "result_dict = {}\n",
    "if 'GCN' in method:\n",
    "    results_list = []\n",
    "    for repeat in range(10):\n",
    "        model = GCN(n_feat=feat_data.shape[1], \n",
    "                    n_hid=args.nhid, \n",
    "                    n_classes=num_classes, \n",
    "                    n_layers=args.n_layers, \n",
    "                    dropout=args.dropout, \n",
    "                    criterion=criterion)\n",
    "\n",
    "        results = train_model(model, data_loader, note=\"GCN (L=%d, repeat=%d)\"%(args.n_layers, repeat))\n",
    "        results_list.append(results)\n",
    "    result_dict['GCN'] = results_list\n",
    "    \n",
    "if 'PairNorm' in method:\n",
    "    for scale in [0.1, 1, 10]:\n",
    "        results_list = []\n",
    "        for repeat in range(10):\n",
    "            model = PairNorm(n_feat=feat_data.shape[1], \n",
    "                        n_hid=args.nhid, \n",
    "                        n_classes=num_classes, \n",
    "                        n_layers=args.n_layers, \n",
    "                        dropout=args.dropout, \n",
    "                        criterion=criterion, scale=scale)\n",
    "\n",
    "            results = train_model(model, data_loader, note=\"PairNorm (L=%d, repeat=%d)\"%(args.n_layers, repeat))\n",
    "            results_list.append(results)\n",
    "        result_dict['PairNorm%.1f'%scale] = results_list"
   ]
  },
  {
   "cell_type": "code",
   "execution_count": 10,
   "metadata": {},
   "outputs": [
    {
     "data": {
      "text/plain": [
       "dict_keys(['GCN', 'PairNorm0.1', 'PairNorm1.0', 'PairNorm10.0'])"
      ]
     },
     "execution_count": 10,
     "metadata": {},
     "output_type": "execute_result"
    }
   ],
   "source": [
    "result_dict.keys()"
   ]
  },
  {
   "cell_type": "code",
   "execution_count": 11,
   "metadata": {},
   "outputs": [
    {
     "data": {
      "image/png": "[encoded data removed]",
      "text/plain": [
       "<Figure size 432x288 with 1 Axes>"
      ]
     },
     "metadata": {
      "needs_background": "light"
     },
     "output_type": "display_data"
    }
   ],
   "source": [
    "fig, axs = plt.subplots()\n",
    "\n",
    "##########################\n",
    "algorithm = 'GCN'\n",
    "train_acc = []\n",
    "y_vals = []\n",
    "results_list = result_dict['GCN']\n",
    "for result in results_list:\n",
    "    if result.note.split()[0] == algorithm:\n",
    "        train_acc.append(np.array(result.train_acc_record))\n",
    "        train_loss = np.array(result.train_loss_record)\n",
    "        valid_loss = np.array(result.loss_record)\n",
    "        y_vals.append(np.abs(train_loss-valid_loss))\n",
    "\n",
    "train_acc = np.mean(train_acc, axis=0)\n",
    "x_stop = np.argmax(train_acc)\n",
    "\n",
    "y_val_mean = np.mean(y_vals, axis=0)[:x_stop]\n",
    "y_val_std = np.std(y_vals, axis=0)[:x_stop]\n",
    "x_vals = np.arange(len(y_val_mean))\n",
    "\n",
    "axs.plot(x_vals, y_val_mean, label='%s (L=%d)'%(algorithm, args.n_layers))\n",
    "axs.fill_between(x_vals, y_val_mean-y_val_std, y_val_mean+y_val_std ,alpha=0.3)\n",
    "##########################\n",
    "algorithm='PairNorm'\n",
    "for scale in [0.1, 1, 10]:\n",
    "    results_list = result_dict['PairNorm%.1f'%scale]\n",
    "    \n",
    "    train_acc = []\n",
    "    y_vals = []\n",
    "    for result in results_list:\n",
    "        train_acc.append(np.array(result.train_acc_record))\n",
    "        train_loss = np.array(result.train_loss_record)\n",
    "        valid_loss = np.array(result.loss_record)\n",
    "        y_vals.append(np.abs(train_loss-valid_loss))\n",
    "\n",
    "    train_acc = np.mean(train_acc, axis=0)\n",
    "    x_stop = np.argmax(train_acc)\n",
    "\n",
    "    y_val_mean = np.mean(y_vals, axis=0)[:x_stop]\n",
    "    y_val_std = np.std(y_vals, axis=0)[:x_stop]\n",
    "    x_vals = np.arange(len(y_val_mean))\n",
    "\n",
    "    axs.plot(x_vals, y_val_mean, label='%s (L=%d, rescale=%.1f)'%(algorithm, args.n_layers, scale))\n",
    "    axs.fill_between(x_vals, y_val_mean-y_val_std, y_val_mean+y_val_std ,alpha=0.3)\n",
    "    \n",
    "plt.title('Generalization gap / Iters')\n",
    "axs.set_xlabel('Iters')\n",
    "axs.set_ylabel('| Train Error - Valid Error |')\n",
    "\n",
    "axs.grid(True)\n",
    "\n",
    "fig.tight_layout()\n",
    "plt.legend()\n",
    "plt.savefig('generalization gap.pdf')"
   ]
  },
  {
   "cell_type": "code",
   "execution_count": 12,
   "metadata": {},
   "outputs": [
    {
     "data": {
      "image/png": "[encoded data removed]",
      "text/plain": [
       "<Figure size 432x288 with 1 Axes>"
      ]
     },
     "metadata": {
      "needs_background": "light"
     },
     "output_type": "display_data"
    }
   ],
   "source": [
    "fig, axs = plt.subplots()\n",
    "\n",
    "##########################\n",
    "algorithm = 'GCN'\n",
    "train_acc = []\n",
    "y_vals = []\n",
    "results_list = result_dict['GCN']\n",
    "for result in results_list:\n",
    "    if result.note.split()[0] == algorithm:\n",
    "        y_vals.append(np.array(result.train_acc_record))\n",
    "\n",
    "y_val_mean = np.mean(y_vals, axis=0)\n",
    "y_val_std = np.std(y_vals, axis=0)\n",
    "x_vals = np.arange(len(y_val_mean))\n",
    "\n",
    "axs.plot(x_vals, y_val_mean, label='%s (L=%d)'%(algorithm, args.n_layers))\n",
    "axs.fill_between(x_vals, y_val_mean-y_val_std, y_val_mean+y_val_std ,alpha=0.3)\n",
    "##########################\n",
    "algorithm='PairNorm'\n",
    "for scale in [0.1, 1, 10]:\n",
    "    results_list = result_dict['PairNorm%.1f'%scale]\n",
    "    \n",
    "    train_acc = []\n",
    "    y_vals = []\n",
    "    for result in results_list:\n",
    "        y_vals.append(np.array(result.train_acc_record))\n",
    "\n",
    "    y_val_mean = np.mean(y_vals, axis=0)\n",
    "    y_val_std = np.std(y_vals, axis=0)\n",
    "    x_vals = np.arange(len(y_val_mean))\n",
    "\n",
    "    axs.plot(x_vals, y_val_mean, label='%s (L=%d, rescale=%.1f)'%(algorithm, args.n_layers, scale))\n",
    "    axs.fill_between(x_vals, y_val_mean-y_val_std, y_val_mean+y_val_std ,alpha=0.3)\n",
    "    \n",
    "plt.title('Train accuracy / Iters')\n",
    "axs.set_xlabel('Iters')\n",
    "axs.set_ylabel('F1-score')\n",
    "\n",
    "axs.grid(True)\n",
    "\n",
    "fig.tight_layout()\n",
    "plt.legend()\n",
    "plt.savefig('generalization_gap_train.pdf')"
   ]
  },
  {
   "cell_type": "code",
   "execution_count": 13,
   "metadata": {},
   "outputs": [
    {
     "data": {
      "image/png": "[encoded data removed]",
      "text/plain": [
       "<Figure size 432x288 with 1 Axes>"
      ]
     },
     "metadata": {
      "needs_background": "light"
     },
     "output_type": "display_data"
    }
   ],
   "source": [
    "fig, axs = plt.subplots()\n",
    "\n",
    "##########################\n",
    "algorithm = 'GCN'\n",
    "train_acc = []\n",
    "y_vals = []\n",
    "results_list = result_dict['GCN']\n",
    "for result in results_list:\n",
    "    if result.note.split()[0] == algorithm:\n",
    "        y_vals.append(np.array(result.acc_record))\n",
    "\n",
    "y_val_mean = np.mean(y_vals, axis=0)\n",
    "y_val_std = np.std(y_vals, axis=0)\n",
    "x_vals = np.arange(len(y_val_mean))\n",
    "\n",
    "axs.plot(x_vals, y_val_mean, label='%s (L=%d)'%(algorithm, args.n_layers))\n",
    "axs.fill_between(x_vals, y_val_mean-y_val_std, y_val_mean+y_val_std ,alpha=0.3)\n",
    "##########################\n",
    "algorithm='PairNorm'\n",
    "for scale in [0.1, 1, 10]:\n",
    "    results_list = result_dict['PairNorm%.1f'%scale]\n",
    "    \n",
    "    train_acc = []\n",
    "    y_vals = []\n",
    "    for result in results_list:\n",
    "        y_vals.append(np.array(result.acc_record))\n",
    "\n",
    "    y_val_mean = np.mean(y_vals, axis=0)\n",
    "    y_val_std = np.std(y_vals, axis=0)\n",
    "    x_vals = np.arange(len(y_val_mean))\n",
    "\n",
    "    axs.plot(x_vals, y_val_mean, label='%s (L=%d, rescale=%.1f)'%(algorithm, args.n_layers, scale))\n",
    "    axs.fill_between(x_vals, y_val_mean-y_val_std, y_val_mean+y_val_std ,alpha=0.3)\n",
    "    \n",
    "plt.title('Valid accuracy / Iters')\n",
    "axs.set_xlabel('Iters')\n",
    "axs.set_ylabel('F1-score')\n",
    "\n",
    "axs.grid(True)\n",
    "\n",
    "fig.tight_layout()\n",
    "plt.legend()\n",
    "plt.savefig('generalization_gap_valid.pdf')"
   ]
  },
  {
   "cell_type": "code",
   "execution_count": null,
   "metadata": {},
   "outputs": [],
   "source": []
  }
 ],
 "metadata": {
  "kernelspec": {
   "display_name": "Python 3",
   "language": "python",
   "name": "python3"
  },
  "language_info": {
   "codemirror_mode": {
    "name": "ipython",
    "version": 3
   },
   "file_extension": ".py",
   "mimetype": "text/x-python",
   "name": "python",
   "nbconvert_exporter": "python",
   "pygments_lexer": "ipython3",
   "version": "3.7.6"
  }
 },
 "nbformat": 4,
 "nbformat_minor": 4
}
