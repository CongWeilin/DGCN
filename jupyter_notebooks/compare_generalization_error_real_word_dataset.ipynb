{
 "cells": [
  {
   "cell_type": "code",
   "execution_count": 1,
   "metadata": {},
   "outputs": [],
   "source": [
    "import sys; sys.argv=['']; del sys\n",
    "import warnings\n",
    "warnings.filterwarnings(\"ignore\", category=RuntimeWarning)\n",
    "warnings.filterwarnings(\"ignore\", category=UserWarning)"
   ]
  },
  {
   "cell_type": "code",
   "execution_count": 2,
   "metadata": {},
   "outputs": [],
   "source": [
    "import torch\n",
    "import torch.nn as nn\n",
    "import torch.optim as optim\n",
    "\n",
    "from utils import load_data, process_graph_data\n",
    "from utils import package_mxl, adj_rw_norm\n",
    "from utils import sparse_mx_to_torch_sparse_tensor\n",
    "from utils import ResultRecorder\n",
    "\n",
    "from model import GCN, GCNBias, SGC, ResGCN, GCNII, APPNP, MLP\n",
    "from load_semigcn_data import load_data_gcn\n",
    "from data_loader import DataLoader\n",
    "\n",
    "import numpy as np\n",
    "import copy \n",
    "import time\n",
    "from sklearn.metrics import f1_score\n",
    "from sklearn.metrics import pairwise_distances\n",
    "import matplotlib.pyplot as plt\n",
    "import matplotlib.ticker as mticker\n",
    "from tqdm import trange\n",
    "from scipy.sparse.csgraph import connected_components\n",
    "import pickle\n",
    "import os\n",
    "import math"
   ]
  },
  {
   "cell_type": "code",
   "execution_count": 3,
   "metadata": {},
   "outputs": [
    {
     "name": "stdout",
     "output_type": "stream",
     "text": [
      "Namespace(batch_size=20480000000, cuda=0, dataset='cora', dropout=0, epoch_num=300, method='GCN/ResGCN/GCNII/APPNP/DGCN', n_layers=8, nhid=64)\n"
     ]
    }
   ],
   "source": [
    "import sys; sys.argv=['']; del sys\n",
    "import warnings\n",
    "warnings.filterwarnings(\"ignore\", category=RuntimeWarning)\n",
    "warnings.filterwarnings(\"ignore\", category=UserWarning)\n",
    "\n",
    "import argparse\n",
    "\"\"\"\n",
    "Dataset arguments\n",
    "\"\"\"\n",
    "parser = argparse.ArgumentParser(\n",
    "    description='Training GCN on Large-scale Graph Datasets')\n",
    "parser.add_argument('--dataset', type=str, default='cora',\n",
    "                    help='Dataset name: pubmed/flickr/reddit/ppi-large')\n",
    "parser.add_argument('--method', type=str, default='GCN/ResGCN/GCNII/APPNP/DGCN', # SGC/GCN/GCNBias/ResGCN/GCNII/APPNP\n",
    "                    help='Algorithms: seperate using slash')\n",
    "parser.add_argument('--nhid', type=int, default=64,\n",
    "                    help='Hidden state dimension')\n",
    "parser.add_argument('--epoch_num', type=int, default=300,\n",
    "                    help='Number of Epoch')\n",
    "parser.add_argument('--batch_size', type=int, default=20480000000,\n",
    "                    help='size of output node in a batch')\n",
    "parser.add_argument('--n_layers', type=int, default=8,\n",
    "                    help='Number of GCN layers')\n",
    "parser.add_argument('--dropout', type=float, default=0,\n",
    "                    help='Dropout rate')\n",
    "parser.add_argument('--cuda', type=int, default=0,\n",
    "                    help='Avaiable GPU ID')\n",
    "args = parser.parse_args()\n",
    "print(args)\n",
    "\n",
    "method = args.method.split('/')\n",
    "\n",
    "\"\"\"\n",
    "Prepare devices\n",
    "\"\"\"\n",
    "if args.cuda != -1:\n",
    "    device = torch.device(\"cuda:\" + str(args.cuda))\n",
    "else:\n",
    "    device = torch.device(\"cpu\")\n",
    "    \n",
    "if args.dataset not in ['cora', 'citeseer', 'pubmed']:\n",
    "    temp_data = load_data(args.dataset) \n",
    "else:\n",
    "    temp_data = load_data_gcn(args.dataset)\n",
    "\n",
    "adj_full, adj_train, feat_data, labels, role = process_graph_data(*temp_data)\n",
    "\n",
    "train_nodes = np.array(role['tr'])\n",
    "valid_nodes = np.array(role['va'])\n",
    "test_nodes = np.array(role['te'])\n",
    "\n",
    "data_loader = DataLoader(adj_full, train_nodes, valid_nodes, test_nodes, device)"
   ]
  },
  {
   "cell_type": "code",
   "execution_count": 4,
   "metadata": {},
   "outputs": [],
   "source": [
    "\"\"\"\n",
    "Setup datasets and models for training (multi-class use sigmoid+binary_cross_entropy, use softmax+nll_loss otherwise)\n",
    "\"\"\"\n",
    "\n",
    "if args.dataset in ['flickr', 'reddit', 'cora', 'citeseer', 'pubmed']:\n",
    "    feat_data_th = torch.FloatTensor(feat_data)\n",
    "    labels_th = torch.LongTensor(labels.argmax(1))\n",
    "    num_classes = labels_th.max().item()+1\n",
    "    criterion = nn.CrossEntropyLoss()\n",
    "    multi_class=False\n",
    "elif args.dataset in ['ppi', 'ppi-large', 'amazon', 'yelp']:\n",
    "    feat_data_th = torch.FloatTensor(feat_data)\n",
    "    labels_th = torch.FloatTensor(labels)\n",
    "    num_classes = labels_th.shape[1]\n",
    "    criterion = nn.BCEWithLogitsLoss()\n",
    "    multi_class=True\n",
    "\n",
    "feat_data_th = feat_data_th.to(device)\n",
    "labels_th = labels_th.to(device)\n",
    "\n",
    "def sgd_step(net, optimizer, feat_data, labels, train_data, device):\n",
    "    \"\"\"\n",
    "    Function to updated weights with a SGD backpropagation\n",
    "    args : net, optimizer, train_loader, test_loader, loss function, number of inner epochs, args\n",
    "    return : train_loss, test_loss, grad_norm_lb\n",
    "    \"\"\"\n",
    "    net.train()\n",
    "    epoch_loss = []\n",
    "    epoch_acc = []\n",
    "    \n",
    "    # Run over the train_loader\n",
    "    mini_batches, adj = train_data\n",
    "    for mini_batch in mini_batches:\n",
    "\n",
    "        # compute current stochastic gradient\n",
    "        optimizer.zero_grad()\n",
    "        output = net(feat_data, adj)\n",
    "        \n",
    "        loss = net.criterion(output[mini_batch], labels[mini_batch])\n",
    "        loss.backward()\n",
    "        \n",
    "        optimizer.step()\n",
    "        epoch_loss.append(loss.item())\n",
    "        \n",
    "        if multi_class:\n",
    "            output[output > 0.5] = 1\n",
    "            output[output <= 0.5] = 0\n",
    "        else:\n",
    "            output = output.argmax(dim=1)\n",
    "\n",
    "        acc = f1_score(output[mini_batch].detach().cpu(), \n",
    "                       labels[mini_batch].detach().cpu(), average=\"micro\")\n",
    "        epoch_acc.append(acc)\n",
    "\n",
    "    return epoch_loss, epoch_acc\n",
    "\n",
    "@torch.no_grad()\n",
    "def inference(eval_model, feat_data, labels, test_data, device):\n",
    "    eval_model = eval_model.to(device)\n",
    "    mini_batch, adj = test_data    \n",
    "    output = eval_model(feat_data, adj)\n",
    "    loss = eval_model.criterion(output[mini_batch], labels[mini_batch]).item()\n",
    "    \n",
    "    if multi_class:\n",
    "        output[output > 0.5] = 1\n",
    "        output[output <= 0.5] = 0\n",
    "    else:\n",
    "        output = output.argmax(dim=1)\n",
    "        \n",
    "    acc = f1_score(output[mini_batch].detach().cpu(), \n",
    "                   labels[mini_batch].detach().cpu(), average=\"micro\")\n",
    "    return loss, acc"
   ]
  },
  {
   "cell_type": "code",
   "execution_count": 5,
   "metadata": {},
   "outputs": [],
   "source": [
    "\"\"\"\n",
    "Train without sampling\n",
    "\"\"\"\n",
    "\n",
    "def train_model(model, data_loader, note):\n",
    "    train_model = copy.deepcopy(model).to(device)\n",
    "    \n",
    "    results = ResultRecorder(note=note)\n",
    "    \n",
    "    optimizer = optim.Adam(train_model.parameters())\n",
    "\n",
    "    tbar = trange(args.epoch_num, desc='Training Epochs')\n",
    "    for epoch in tbar:\n",
    "        # fetch train data \n",
    "        \n",
    "        sample_time_st = time.perf_counter()\n",
    "        train_data = data_loader.get_mini_batches(batch_size=args.batch_size)\n",
    "        sample_time = time.perf_counter() - sample_time_st\n",
    "        \n",
    "        compute_time_st = time.perf_counter()\n",
    "        train_loss, train_acc = sgd_step(train_model, optimizer, feat_data_th, labels_th, train_data, device)\n",
    "        compute_time = time.perf_counter() - compute_time_st\n",
    "        \n",
    "        epoch_train_loss = np.mean(train_loss)\n",
    "        epoch_train_acc = np.mean(train_acc)\n",
    "\n",
    "        valid_data = data_loader.get_valid_batch()\n",
    "        epoch_valid_loss, epoch_valid_acc = inference(train_model, feat_data_th, labels_th, valid_data, device)\n",
    "        tbar.set_postfix(loss=epoch_train_loss,\n",
    "                         val_loss=epoch_valid_loss,\n",
    "                         val_score=epoch_valid_acc)\n",
    "\n",
    "        results.update(epoch_train_loss, \n",
    "                       epoch_train_acc,\n",
    "                       epoch_valid_loss, \n",
    "                       epoch_valid_acc, \n",
    "                       train_model, sample_time=sample_time, compute_time=compute_time)\n",
    "            \n",
    "    print('Average sampling time %.5fs, average computing time %.5fs'%\n",
    "          (np.mean(results.sample_time), np.mean(results.compute_time)))\n",
    "    \n",
    "    return results"
   ]
  },
  {
   "cell_type": "code",
   "execution_count": 6,
   "metadata": {},
   "outputs": [],
   "source": [
    "import math"
   ]
  },
  {
   "cell_type": "code",
   "execution_count": 7,
   "metadata": {},
   "outputs": [],
   "source": [
    "\n",
    "    \n",
    "    \n",
    "class GCN(nn.Module):\n",
    "    def __init__(self, n_feat, n_hid, n_classes, n_layers, criterion):\n",
    "        from layers import GraphConv\n",
    "        super(GCN, self).__init__()\n",
    "        self.n_layers = n_layers\n",
    "        self.n_hid = n_hid\n",
    "        \n",
    "        self.gcs = nn.ModuleList()\n",
    "        self.gcs.append(GraphConv(n_feat,  n_hid))\n",
    "        for _ in range(n_layers-1):\n",
    "            self.gcs.append(GraphConv(n_hid,  n_hid))\n",
    "        self.linear = nn.Linear(n_hid, n_classes)\n",
    "        self.relu = nn.ReLU()\n",
    "        self.criterion = criterion\n",
    "\n",
    "    def forward(self, x, adj):\n",
    "        for ell in range(len(self.gcs)):\n",
    "            x = self.gcs[ell](x, adj)\n",
    "            x = self.relu(x)\n",
    "        x = self.linear(x)\n",
    "        return x\n",
    "    \n",
    "class ResGCN(nn.Module):\n",
    "    def __init__(self, n_feat, n_hid, n_classes, n_layers, criterion):\n",
    "        from layers import GraphConv\n",
    "        super(ResGCN, self).__init__()\n",
    "        self.n_layers = n_layers\n",
    "        self.n_hid = n_hid\n",
    "        \n",
    "        self.gcs = nn.ModuleList()\n",
    "        self.gcs.append(GraphConv(n_feat,  n_hid))\n",
    "        for _ in range(n_layers-1):\n",
    "            self.gcs.append(GraphConv(n_hid,  n_hid))\n",
    "        self.linear = nn.Linear(n_hid, n_classes)\n",
    "        self.relu = nn.ReLU()\n",
    "        self.criterion = criterion\n",
    "\n",
    "    def forward(self, x, adj):\n",
    "        for ell in range(len(self.gcs)):\n",
    "            if ell > 0:\n",
    "                x_res = x.clone()\n",
    "                x = self.gcs[ell](x, adj)\n",
    "                x = self.relu(x) + x_res\n",
    "            else:\n",
    "                x = self.gcs[ell](x, adj)\n",
    "                x = self.relu(x)\n",
    "        x = self.linear(x)\n",
    "        return x\n",
    "    \n",
    "class GCNII(nn.Module):\n",
    "    def __init__(self, n_feat, n_hid, n_classes, n_layers, criterion):\n",
    "        from layers import GCNIILayer\n",
    "        super(GCNII, self).__init__()\n",
    "        self.n_layers = n_layers\n",
    "        self.n_hid = n_hid\n",
    "        \n",
    "        self.gcs = nn.ModuleList()\n",
    "        for _ in range(n_layers):\n",
    "            self.gcs.append(GCNIILayer(n_hid,  n_hid))\n",
    "        self.linear_in = nn.Linear(n_feat, n_hid)\n",
    "        self.linear_out = nn.Linear(n_hid, n_classes)\n",
    "        self.relu = nn.ReLU()\n",
    "        self.criterion = criterion\n",
    "\n",
    "    def get_alpha_beta(self, ell):\n",
    "        alpha = 0.9\n",
    "        beta = math.log(0.5/(ell+1)+1)\n",
    "        return alpha, beta\n",
    "    \n",
    "    def forward(self, x, adj):\n",
    "        x = self.linear_in(x)\n",
    "        x_0 = x.clone()\n",
    "        for ell in range(len(self.gcs)):\n",
    "            alpha, beta = self.get_alpha_beta(ell)\n",
    "            x = self.gcs[ell](x, adj, x_0, alpha, beta)\n",
    "            x = self.relu(x)\n",
    "        x = self.linear_out(x)\n",
    "        return x\n",
    "    \n",
    "class APPNP(nn.Module):\n",
    "    def __init__(self, n_feat, n_hid, n_classes, n_layers, criterion):\n",
    "        from layers import APPNPLayer\n",
    "        super(APPNP, self).__init__()\n",
    "        self.n_layers = n_layers\n",
    "        self.n_hid = n_hid\n",
    "        \n",
    "        self.gcs = nn.ModuleList()\n",
    "        for _ in range(n_layers):\n",
    "            self.gcs.append(APPNPLayer())\n",
    "        self.linear_in = nn.Linear(n_feat, n_hid)\n",
    "        self.linear_out = nn.Linear(n_hid, n_classes)\n",
    "        self.relu = nn.ReLU()\n",
    "        self.criterion = criterion\n",
    "\n",
    "    def forward(self, x, adj):\n",
    "        x = self.linear_in(x)\n",
    "        x_0 = x.clone()\n",
    "        for ell in range(len(self.gcs)):\n",
    "            alpha = 0.8\n",
    "            x = self.gcs[ell](x, adj, x_0, alpha)\n",
    "        x = self.linear_out(x)\n",
    "        return x\n",
    "    \n",
    "class DGCN(nn.Module):\n",
    "    def __init__(self, n_feat, n_hid, n_classes, n_layers, criterion):\n",
    "        from layers import DecoupleConv\n",
    "        super(DGCN, self).__init__()\n",
    "        self.n_layers = n_layers\n",
    "        self.n_hid = n_hid\n",
    "        self.softmax = nn.Softmax(dim=0)\n",
    "        self.sigmoid = nn.Sigmoid()\n",
    "        \n",
    "        self.gcs = nn.ModuleList()\n",
    "        for _ in range(n_layers):\n",
    "            self.gcs.append(DecoupleConv(n_hid,  n_hid))\n",
    "            \n",
    "        alpha = 0.1\n",
    "        TEMP=alpha*(1-alpha)**np.arange(self.n_layers+1)\n",
    "        TEMP[-1] = (1-alpha)**self.n_layers\n",
    "        TEMP = np.log(TEMP)\n",
    "        self.layer_weight = torch.nn.Parameter(torch.tensor(TEMP))\n",
    "        self.identity_map_weight = torch.nn.Parameter(torch.zeros(self.n_layers))\n",
    "        \n",
    "        self.linear_in = nn.Linear(n_feat, n_hid)\n",
    "        self.linear_out = nn.Linear(n_hid, n_classes)\n",
    "        self.relu = nn.ReLU()\n",
    "        self.criterion = criterion\n",
    "    \n",
    "    def forward(self, x, adj):\n",
    "        x = self.linear_in(x)\n",
    "        identity_map_weight = self.sigmoid(self.identity_map_weight)\n",
    "        \n",
    "        output_hiddens = []\n",
    "        for ell in range(len(self.gcs)):\n",
    "            x, x_w = self.gcs[ell](x, adj, identity_map_weight[ell])\n",
    "            x_w = self.relu(x_w)\n",
    "            output_hiddens.append(x_w)\n",
    "            \n",
    "        layer_weight = self.softmax(self.layer_weight)  \n",
    "        for i in range(len(output_hiddens)):\n",
    "            output_hiddens[i] = output_hiddens[i] * layer_weight[i]\n",
    "            \n",
    "        x = sum(output_hiddens)\n",
    "        x = self.linear_out(x)\n",
    "        return x"
   ]
  },
  {
   "cell_type": "code",
   "execution_count": 8,
   "metadata": {},
   "outputs": [
    {
     "name": "stdout",
     "output_type": "stream",
     "text": [
      "['GCN', 'ResGCN', 'GCNII', 'APPNP', 'DGCN']\n"
     ]
    }
   ],
   "source": [
    "algorithm_result = dict()\n",
    "algorithm_result['GCN'] = []\n",
    "algorithm_result['ResGCN'] = []\n",
    "algorithm_result['GCNII'] = []\n",
    "algorithm_result['APPNP'] = []\n",
    "algorithm_result['DGCN'] = []\n",
    "\n",
    "print(method)"
   ]
  },
  {
   "cell_type": "code",
   "execution_count": 9,
   "metadata": {},
   "outputs": [
    {
     "name": "stderr",
     "output_type": "stream",
     "text": [
      "Training Epochs: 100%|██████████| 300/300 [00:05<00:00, 59.30it/s, loss=0.219, val_loss=0.877, val_score=0.838]\n",
      "Training Epochs:   2%|▏         | 6/300 [00:00<00:05, 58.06it/s, loss=1.55, val_loss=1.51, val_score=0.316]"
     ]
    },
    {
     "name": "stdout",
     "output_type": "stream",
     "text": [
      "Average sampling time 0.00005s, average computing time 0.01017s\n"
     ]
    },
    {
     "name": "stderr",
     "output_type": "stream",
     "text": [
      "Training Epochs: 100%|██████████| 300/300 [00:05<00:00, 59.79it/s, loss=0.00161, val_loss=1.73, val_score=0.85] \n",
      "Training Epochs:   2%|▏         | 7/300 [00:00<00:04, 60.48it/s, loss=1.84, val_loss=1.84, val_score=0.294]"
     ]
    },
    {
     "name": "stdout",
     "output_type": "stream",
     "text": [
      "Average sampling time 0.00006s, average computing time 0.01024s\n"
     ]
    },
    {
     "name": "stderr",
     "output_type": "stream",
     "text": [
      "Training Epochs: 100%|██████████| 300/300 [00:05<00:00, 58.55it/s, loss=0.0334, val_loss=0.66, val_score=0.87]  \n",
      "Training Epochs:   3%|▎         | 8/300 [00:00<00:03, 76.02it/s, loss=1.69, val_loss=1.68, val_score=0.312]"
     ]
    },
    {
     "name": "stdout",
     "output_type": "stream",
     "text": [
      "Average sampling time 0.00005s, average computing time 0.01089s\n"
     ]
    },
    {
     "name": "stderr",
     "output_type": "stream",
     "text": [
      "Training Epochs: 100%|██████████| 300/300 [00:04<00:00, 74.21it/s, loss=0.038, val_loss=0.38, val_score=0.88]   \n",
      "Training Epochs:   2%|▏         | 6/300 [00:00<00:05, 50.77it/s, loss=1.91, val_loss=1.9, val_score=0.268] "
     ]
    },
    {
     "name": "stdout",
     "output_type": "stream",
     "text": [
      "Average sampling time 0.00005s, average computing time 0.00849s\n"
     ]
    },
    {
     "name": "stderr",
     "output_type": "stream",
     "text": [
      "Training Epochs: 100%|██████████| 300/300 [00:05<00:00, 52.19it/s, loss=0.0306, val_loss=0.491, val_score=0.87] \n",
      "Training Epochs:   2%|▏         | 7/300 [00:00<00:04, 62.41it/s, loss=1.97, val_loss=1.97, val_score=0.158]"
     ]
    },
    {
     "name": "stdout",
     "output_type": "stream",
     "text": [
      "Average sampling time 0.00006s, average computing time 0.01259s\n"
     ]
    },
    {
     "name": "stderr",
     "output_type": "stream",
     "text": [
      "Training Epochs: 100%|██████████| 300/300 [00:04<00:00, 61.17it/s, loss=0.185, val_loss=1.06, val_score=0.84]  \n",
      "Training Epochs:   2%|▏         | 6/300 [00:00<00:05, 58.62it/s, loss=1.65, val_loss=1.65, val_score=0.296]"
     ]
    },
    {
     "name": "stdout",
     "output_type": "stream",
     "text": [
      "Average sampling time 0.00005s, average computing time 0.00995s\n"
     ]
    },
    {
     "name": "stderr",
     "output_type": "stream",
     "text": [
      "Training Epochs: 100%|██████████| 300/300 [00:05<00:00, 59.67it/s, loss=0.00124, val_loss=1.65, val_score=0.86]  \n",
      "Training Epochs:   2%|▏         | 6/300 [00:00<00:04, 59.67it/s, loss=1.86, val_loss=1.84, val_score=0.314]"
     ]
    },
    {
     "name": "stdout",
     "output_type": "stream",
     "text": [
      "Average sampling time 0.00005s, average computing time 0.01027s\n"
     ]
    },
    {
     "name": "stderr",
     "output_type": "stream",
     "text": [
      "Training Epochs: 100%|██████████| 300/300 [00:05<00:00, 58.16it/s, loss=0.031, val_loss=0.661, val_score=0.866] \n",
      "Training Epochs:   3%|▎         | 8/300 [00:00<00:03, 73.37it/s, loss=1.68, val_loss=1.68, val_score=0.368]"
     ]
    },
    {
     "name": "stdout",
     "output_type": "stream",
     "text": [
      "Average sampling time 0.00005s, average computing time 0.01087s\n"
     ]
    },
    {
     "name": "stderr",
     "output_type": "stream",
     "text": [
      "Training Epochs: 100%|██████████| 300/300 [00:04<00:00, 74.34it/s, loss=0.0388, val_loss=0.38, val_score=0.88]  \n",
      "Training Epochs:   2%|▏         | 6/300 [00:00<00:05, 50.52it/s, loss=1.94, val_loss=1.93, val_score=0.326]"
     ]
    },
    {
     "name": "stdout",
     "output_type": "stream",
     "text": [
      "Average sampling time 0.00005s, average computing time 0.00847s\n"
     ]
    },
    {
     "name": "stderr",
     "output_type": "stream",
     "text": [
      "Training Epochs: 100%|██████████| 300/300 [00:05<00:00, 52.83it/s, loss=0.0313, val_loss=0.461, val_score=0.874]\n",
      "Training Epochs:   2%|▏         | 7/300 [00:00<00:04, 62.17it/s, loss=1.94, val_loss=1.94, val_score=0.158]"
     ]
    },
    {
     "name": "stdout",
     "output_type": "stream",
     "text": [
      "Average sampling time 0.00005s, average computing time 0.01253s\n"
     ]
    },
    {
     "name": "stderr",
     "output_type": "stream",
     "text": [
      "Training Epochs: 100%|██████████| 300/300 [00:04<00:00, 61.36it/s, loss=0.176, val_loss=1.04, val_score=0.824] \n",
      "Training Epochs:   2%|▏         | 6/300 [00:00<00:05, 58.52it/s, loss=1.49, val_loss=1.46, val_score=0.434]"
     ]
    },
    {
     "name": "stdout",
     "output_type": "stream",
     "text": [
      "Average sampling time 0.00005s, average computing time 0.00999s\n"
     ]
    },
    {
     "name": "stderr",
     "output_type": "stream",
     "text": [
      "Training Epochs: 100%|██████████| 300/300 [00:05<00:00, 59.97it/s, loss=0.00169, val_loss=1.91, val_score=0.838]\n",
      "Training Epochs:   2%|▏         | 6/300 [00:00<00:05, 56.72it/s, loss=1.87, val_loss=1.86, val_score=0.444]"
     ]
    },
    {
     "name": "stdout",
     "output_type": "stream",
     "text": [
      "Average sampling time 0.00005s, average computing time 0.01024s\n"
     ]
    },
    {
     "name": "stderr",
     "output_type": "stream",
     "text": [
      "Training Epochs: 100%|██████████| 300/300 [00:05<00:00, 58.57it/s, loss=0.0336, val_loss=0.548, val_score=0.864]\n",
      "Training Epochs:   3%|▎         | 8/300 [00:00<00:03, 74.45it/s, loss=1.65, val_loss=1.65, val_score=0.446]"
     ]
    },
    {
     "name": "stdout",
     "output_type": "stream",
     "text": [
      "Average sampling time 0.00005s, average computing time 0.01090s\n"
     ]
    },
    {
     "name": "stderr",
     "output_type": "stream",
     "text": [
      "Training Epochs: 100%|██████████| 300/300 [00:04<00:00, 74.55it/s, loss=0.0375, val_loss=0.378, val_score=0.888]\n",
      "Training Epochs:   2%|▏         | 6/300 [00:00<00:05, 52.12it/s, loss=1.93, val_loss=1.93, val_score=0.142]"
     ]
    },
    {
     "name": "stdout",
     "output_type": "stream",
     "text": [
      "Average sampling time 0.00005s, average computing time 0.00848s\n"
     ]
    },
    {
     "name": "stderr",
     "output_type": "stream",
     "text": [
      "Training Epochs: 100%|██████████| 300/300 [00:05<00:00, 52.56it/s, loss=0.0301, val_loss=0.458, val_score=0.87] \n",
      "Training Epochs:   2%|▏         | 7/300 [00:00<00:04, 63.50it/s, loss=1.91, val_loss=1.91, val_score=0.294]"
     ]
    },
    {
     "name": "stdout",
     "output_type": "stream",
     "text": [
      "Average sampling time 0.00005s, average computing time 0.01259s\n"
     ]
    },
    {
     "name": "stderr",
     "output_type": "stream",
     "text": [
      "Training Epochs: 100%|██████████| 300/300 [00:04<00:00, 61.16it/s, loss=0.198, val_loss=1.02, val_score=0.822] \n",
      "Training Epochs:   2%|▏         | 6/300 [00:00<00:04, 59.65it/s, loss=1.59, val_loss=1.55, val_score=0.296]"
     ]
    },
    {
     "name": "stdout",
     "output_type": "stream",
     "text": [
      "Average sampling time 0.00005s, average computing time 0.00993s\n"
     ]
    },
    {
     "name": "stderr",
     "output_type": "stream",
     "text": [
      "Training Epochs: 100%|██████████| 300/300 [00:05<00:00, 59.91it/s, loss=0.00128, val_loss=1.93, val_score=0.846]\n",
      "Training Epochs:   2%|▏         | 6/300 [00:00<00:05, 55.96it/s, loss=1.92, val_loss=1.91, val_score=0.324]"
     ]
    },
    {
     "name": "stdout",
     "output_type": "stream",
     "text": [
      "Average sampling time 0.00005s, average computing time 0.01024s\n"
     ]
    },
    {
     "name": "stderr",
     "output_type": "stream",
     "text": [
      "Training Epochs: 100%|██████████| 300/300 [00:05<00:00, 58.43it/s, loss=0.0336, val_loss=0.753, val_score=0.848]\n",
      "Training Epochs:   2%|▏         | 6/300 [00:00<00:05, 53.28it/s, loss=1.74, val_loss=1.74, val_score=0.416]"
     ]
    },
    {
     "name": "stdout",
     "output_type": "stream",
     "text": [
      "Average sampling time 0.00005s, average computing time 0.01093s\n"
     ]
    },
    {
     "name": "stderr",
     "output_type": "stream",
     "text": [
      "Training Epochs: 100%|██████████| 300/300 [00:04<00:00, 73.90it/s, loss=0.0399, val_loss=0.367, val_score=0.888]\n",
      "Training Epochs:   2%|▏         | 6/300 [00:00<00:05, 51.45it/s, loss=1.91, val_loss=1.91, val_score=0.246]"
     ]
    },
    {
     "name": "stdout",
     "output_type": "stream",
     "text": [
      "Average sampling time 0.00005s, average computing time 0.00846s\n"
     ]
    },
    {
     "name": "stderr",
     "output_type": "stream",
     "text": [
      "Training Epochs: 100%|██████████| 300/300 [00:05<00:00, 52.74it/s, loss=0.03, val_loss=0.464, val_score=0.868]  \n",
      "Training Epochs:   2%|▏         | 7/300 [00:00<00:04, 61.82it/s, loss=1.95, val_loss=1.95, val_score=0.158]"
     ]
    },
    {
     "name": "stdout",
     "output_type": "stream",
     "text": [
      "Average sampling time 0.00005s, average computing time 0.01252s\n"
     ]
    },
    {
     "name": "stderr",
     "output_type": "stream",
     "text": [
      "Training Epochs: 100%|██████████| 300/300 [00:04<00:00, 60.71it/s, loss=0.179, val_loss=0.749, val_score=0.848]\n",
      "Training Epochs:   2%|▏         | 7/300 [00:00<00:04, 60.45it/s, loss=1.57, val_loss=1.55, val_score=0.34] "
     ]
    },
    {
     "name": "stdout",
     "output_type": "stream",
     "text": [
      "Average sampling time 0.00005s, average computing time 0.00994s\n"
     ]
    },
    {
     "name": "stderr",
     "output_type": "stream",
     "text": [
      "Training Epochs: 100%|██████████| 300/300 [00:05<00:00, 59.99it/s, loss=0.0015, val_loss=2.06, val_score=0.844] \n",
      "Training Epochs:   2%|▏         | 6/300 [00:00<00:05, 56.25it/s, loss=1.9, val_loss=1.89, val_score=0.358] "
     ]
    },
    {
     "name": "stdout",
     "output_type": "stream",
     "text": [
      "Average sampling time 0.00005s, average computing time 0.01022s\n"
     ]
    },
    {
     "name": "stderr",
     "output_type": "stream",
     "text": [
      "Training Epochs: 100%|██████████| 300/300 [00:05<00:00, 58.16it/s, loss=0.0359, val_loss=0.724, val_score=0.862]\n",
      "Training Epochs:   3%|▎         | 8/300 [00:00<00:04, 71.40it/s, loss=1.68, val_loss=1.67, val_score=0.364]"
     ]
    },
    {
     "name": "stdout",
     "output_type": "stream",
     "text": [
      "Average sampling time 0.00005s, average computing time 0.01100s\n"
     ]
    },
    {
     "name": "stderr",
     "output_type": "stream",
     "text": [
      "Training Epochs: 100%|██████████| 300/300 [00:04<00:00, 73.25it/s, loss=0.039, val_loss=0.376, val_score=0.882] \n",
      "Training Epochs:   2%|▏         | 5/300 [00:00<00:06, 48.65it/s, loss=1.94, val_loss=1.93, val_score=0.28] "
     ]
    },
    {
     "name": "stdout",
     "output_type": "stream",
     "text": [
      "Average sampling time 0.00006s, average computing time 0.00859s\n"
     ]
    },
    {
     "name": "stderr",
     "output_type": "stream",
     "text": [
      "Training Epochs: 100%|██████████| 300/300 [00:05<00:00, 52.74it/s, loss=0.0315, val_loss=0.484, val_score=0.854]\n",
      "Training Epochs:   2%|▏         | 7/300 [00:00<00:04, 63.19it/s, loss=1.94, val_loss=1.94, val_score=0.348]"
     ]
    },
    {
     "name": "stdout",
     "output_type": "stream",
     "text": [
      "Average sampling time 0.00005s, average computing time 0.01252s\n"
     ]
    },
    {
     "name": "stderr",
     "output_type": "stream",
     "text": [
      "Training Epochs: 100%|██████████| 300/300 [00:04<00:00, 60.83it/s, loss=0.197, val_loss=0.662, val_score=0.85] \n",
      "Training Epochs:   2%|▏         | 6/300 [00:00<00:05, 58.39it/s, loss=1.51, val_loss=1.49, val_score=0.314]"
     ]
    },
    {
     "name": "stdout",
     "output_type": "stream",
     "text": [
      "Average sampling time 0.00005s, average computing time 0.00991s\n"
     ]
    },
    {
     "name": "stderr",
     "output_type": "stream",
     "text": [
      "Training Epochs: 100%|██████████| 300/300 [00:05<00:00, 59.66it/s, loss=0.00142, val_loss=1.77, val_score=0.85] \n",
      "Training Epochs:   2%|▏         | 6/300 [00:00<00:05, 54.70it/s, loss=1.89, val_loss=1.89, val_score=0.38] "
     ]
    },
    {
     "name": "stdout",
     "output_type": "stream",
     "text": [
      "Average sampling time 0.00005s, average computing time 0.01027s\n"
     ]
    },
    {
     "name": "stderr",
     "output_type": "stream",
     "text": [
      "Training Epochs: 100%|██████████| 300/300 [00:05<00:00, 58.39it/s, loss=0.0331, val_loss=0.675, val_score=0.866]\n",
      "Training Epochs:   3%|▎         | 8/300 [00:00<00:03, 74.17it/s, loss=1.7, val_loss=1.7, val_score=0.362]  "
     ]
    },
    {
     "name": "stdout",
     "output_type": "stream",
     "text": [
      "Average sampling time 0.00005s, average computing time 0.01091s\n"
     ]
    },
    {
     "name": "stderr",
     "output_type": "stream",
     "text": [
      "Training Epochs: 100%|██████████| 300/300 [00:04<00:00, 74.09it/s, loss=0.0385, val_loss=0.378, val_score=0.892]\n",
      "Training Epochs:   2%|▏         | 6/300 [00:00<00:05, 50.51it/s, loss=1.91, val_loss=1.91, val_score=0.27] "
     ]
    },
    {
     "name": "stdout",
     "output_type": "stream",
     "text": [
      "Average sampling time 0.00005s, average computing time 0.00849s\n"
     ]
    },
    {
     "name": "stderr",
     "output_type": "stream",
     "text": [
      "Training Epochs: 100%|██████████| 300/300 [00:05<00:00, 52.55it/s, loss=0.029, val_loss=0.511, val_score=0.85]  \n",
      "Training Epochs:   2%|▏         | 7/300 [00:00<00:04, 62.66it/s, loss=1.95, val_loss=1.95, val_score=0.172]"
     ]
    },
    {
     "name": "stdout",
     "output_type": "stream",
     "text": [
      "Average sampling time 0.00005s, average computing time 0.01252s\n"
     ]
    },
    {
     "name": "stderr",
     "output_type": "stream",
     "text": [
      "Training Epochs: 100%|██████████| 300/300 [00:04<00:00, 61.16it/s, loss=0.179, val_loss=0.729, val_score=0.864]\n",
      "Training Epochs:   2%|▏         | 6/300 [00:00<00:05, 56.94it/s, loss=1.56, val_loss=1.53, val_score=0.384]"
     ]
    },
    {
     "name": "stdout",
     "output_type": "stream",
     "text": [
      "Average sampling time 0.00005s, average computing time 0.00994s\n"
     ]
    },
    {
     "name": "stderr",
     "output_type": "stream",
     "text": [
      "Training Epochs: 100%|██████████| 300/300 [00:05<00:00, 59.52it/s, loss=0.00185, val_loss=2.03, val_score=0.836]\n",
      "Training Epochs:   2%|▏         | 7/300 [00:00<00:04, 60.26it/s, loss=1.83, val_loss=1.82, val_score=0.294]"
     ]
    },
    {
     "name": "stdout",
     "output_type": "stream",
     "text": [
      "Average sampling time 0.00005s, average computing time 0.01028s\n"
     ]
    },
    {
     "name": "stderr",
     "output_type": "stream",
     "text": [
      "Training Epochs: 100%|██████████| 300/300 [00:05<00:00, 58.69it/s, loss=0.0328, val_loss=0.596, val_score=0.872]\n",
      "Training Epochs:   3%|▎         | 8/300 [00:00<00:04, 72.55it/s, loss=1.66, val_loss=1.66, val_score=0.344]"
     ]
    },
    {
     "name": "stdout",
     "output_type": "stream",
     "text": [
      "Average sampling time 0.00005s, average computing time 0.01089s\n"
     ]
    },
    {
     "name": "stderr",
     "output_type": "stream",
     "text": [
      "Training Epochs: 100%|██████████| 300/300 [00:04<00:00, 73.93it/s, loss=0.0369, val_loss=0.375, val_score=0.884]\n",
      "Training Epochs:   2%|▏         | 5/300 [00:00<00:05, 49.90it/s, loss=1.9, val_loss=1.9, val_score=0.294]  "
     ]
    },
    {
     "name": "stdout",
     "output_type": "stream",
     "text": [
      "Average sampling time 0.00005s, average computing time 0.00851s\n"
     ]
    },
    {
     "name": "stderr",
     "output_type": "stream",
     "text": [
      "Training Epochs: 100%|██████████| 300/300 [00:05<00:00, 52.49it/s, loss=0.0295, val_loss=0.467, val_score=0.876]\n",
      "Training Epochs:   2%|▏         | 7/300 [00:00<00:04, 62.06it/s, loss=1.94, val_loss=1.94, val_score=0.072]"
     ]
    },
    {
     "name": "stdout",
     "output_type": "stream",
     "text": [
      "Average sampling time 0.00005s, average computing time 0.01257s\n"
     ]
    },
    {
     "name": "stderr",
     "output_type": "stream",
     "text": [
      "Training Epochs: 100%|██████████| 300/300 [00:04<00:00, 60.94it/s, loss=0.296, val_loss=0.77, val_score=0.84]  \n",
      "Training Epochs:   2%|▏         | 6/300 [00:00<00:04, 59.81it/s, loss=1.49, val_loss=1.45, val_score=0.466]"
     ]
    },
    {
     "name": "stdout",
     "output_type": "stream",
     "text": [
      "Average sampling time 0.00005s, average computing time 0.00992s\n"
     ]
    },
    {
     "name": "stderr",
     "output_type": "stream",
     "text": [
      "Training Epochs: 100%|██████████| 300/300 [00:05<00:00, 59.82it/s, loss=0.00173, val_loss=1.94, val_score=0.848]\n",
      "Training Epochs:   2%|▏         | 6/300 [00:00<00:05, 55.03it/s, loss=1.88, val_loss=1.87, val_score=0.342]"
     ]
    },
    {
     "name": "stdout",
     "output_type": "stream",
     "text": [
      "Average sampling time 0.00005s, average computing time 0.01026s\n"
     ]
    },
    {
     "name": "stderr",
     "output_type": "stream",
     "text": [
      "Training Epochs: 100%|██████████| 300/300 [00:05<00:00, 58.26it/s, loss=0.031, val_loss=0.627, val_score=0.856] \n",
      "Training Epochs:   3%|▎         | 8/300 [00:00<00:03, 73.36it/s, loss=1.66, val_loss=1.66, val_score=0.322]"
     ]
    },
    {
     "name": "stdout",
     "output_type": "stream",
     "text": [
      "Average sampling time 0.00005s, average computing time 0.01087s\n"
     ]
    },
    {
     "name": "stderr",
     "output_type": "stream",
     "text": [
      "Training Epochs: 100%|██████████| 300/300 [00:04<00:00, 74.11it/s, loss=0.0378, val_loss=0.375, val_score=0.88] \n",
      "Training Epochs:   2%|▏         | 5/300 [00:00<00:05, 49.26it/s, loss=1.91, val_loss=1.9, val_score=0.318] "
     ]
    },
    {
     "name": "stdout",
     "output_type": "stream",
     "text": [
      "Average sampling time 0.00005s, average computing time 0.00852s\n"
     ]
    },
    {
     "name": "stderr",
     "output_type": "stream",
     "text": [
      "Training Epochs: 100%|██████████| 300/300 [00:05<00:00, 52.86it/s, loss=0.0306, val_loss=0.472, val_score=0.868]\n",
      "Training Epochs:   2%|▏         | 7/300 [00:00<00:04, 63.30it/s, loss=1.93, val_loss=1.93, val_score=0.174]"
     ]
    },
    {
     "name": "stdout",
     "output_type": "stream",
     "text": [
      "Average sampling time 0.00005s, average computing time 0.01253s\n"
     ]
    },
    {
     "name": "stderr",
     "output_type": "stream",
     "text": [
      "Training Epochs: 100%|██████████| 300/300 [00:04<00:00, 60.88it/s, loss=0.161, val_loss=0.868, val_score=0.836]\n",
      "Training Epochs:   2%|▏         | 6/300 [00:00<00:05, 58.63it/s, loss=1.5, val_loss=1.48, val_score=0.296] "
     ]
    },
    {
     "name": "stdout",
     "output_type": "stream",
     "text": [
      "Average sampling time 0.00005s, average computing time 0.00994s\n"
     ]
    },
    {
     "name": "stderr",
     "output_type": "stream",
     "text": [
      "Training Epochs: 100%|██████████| 300/300 [00:04<00:00, 60.03it/s, loss=0.00146, val_loss=1.8, val_score=0.842] \n",
      "Training Epochs:   2%|▏         | 6/300 [00:00<00:05, 56.62it/s, loss=1.9, val_loss=1.89, val_score=0.264] "
     ]
    },
    {
     "name": "stdout",
     "output_type": "stream",
     "text": [
      "Average sampling time 0.00005s, average computing time 0.01025s\n"
     ]
    },
    {
     "name": "stderr",
     "output_type": "stream",
     "text": [
      "Training Epochs: 100%|██████████| 300/300 [00:05<00:00, 58.52it/s, loss=0.0345, val_loss=0.635, val_score=0.854]\n",
      "Training Epochs:   2%|▏         | 7/300 [00:00<00:04, 68.41it/s, loss=1.71, val_loss=1.71, val_score=0.322]"
     ]
    },
    {
     "name": "stdout",
     "output_type": "stream",
     "text": [
      "Average sampling time 0.00005s, average computing time 0.01090s\n"
     ]
    },
    {
     "name": "stderr",
     "output_type": "stream",
     "text": [
      "Training Epochs: 100%|██████████| 300/300 [00:04<00:00, 73.69it/s, loss=0.0382, val_loss=0.389, val_score=0.888]\n",
      "Training Epochs:   2%|▏         | 6/300 [00:00<00:05, 54.38it/s, loss=1.9, val_loss=1.89, val_score=0.302] "
     ]
    },
    {
     "name": "stdout",
     "output_type": "stream",
     "text": [
      "Average sampling time 0.00005s, average computing time 0.00851s\n"
     ]
    },
    {
     "name": "stderr",
     "output_type": "stream",
     "text": [
      "Training Epochs: 100%|██████████| 300/300 [00:05<00:00, 52.59it/s, loss=0.0294, val_loss=0.465, val_score=0.868]\n",
      "Training Epochs:   2%|▏         | 7/300 [00:00<00:04, 62.12it/s, loss=1.95, val_loss=1.95, val_score=0.078]"
     ]
    },
    {
     "name": "stdout",
     "output_type": "stream",
     "text": [
      "Average sampling time 0.00005s, average computing time 0.01251s\n"
     ]
    },
    {
     "name": "stderr",
     "output_type": "stream",
     "text": [
      "Training Epochs: 100%|██████████| 300/300 [00:04<00:00, 61.08it/s, loss=0.182, val_loss=1, val_score=0.85]     \n",
      "Training Epochs:   2%|▏         | 6/300 [00:00<00:05, 58.66it/s, loss=1.55, val_loss=1.51, val_score=0.344]"
     ]
    },
    {
     "name": "stdout",
     "output_type": "stream",
     "text": [
      "Average sampling time 0.00005s, average computing time 0.00998s\n"
     ]
    },
    {
     "name": "stderr",
     "output_type": "stream",
     "text": [
      "Training Epochs: 100%|██████████| 300/300 [00:05<00:00, 59.76it/s, loss=0.00178, val_loss=1.88, val_score=0.842]\n",
      "Training Epochs:   2%|▏         | 6/300 [00:00<00:05, 56.28it/s, loss=1.89, val_loss=1.89, val_score=0.44] "
     ]
    },
    {
     "name": "stdout",
     "output_type": "stream",
     "text": [
      "Average sampling time 0.00005s, average computing time 0.01026s\n"
     ]
    },
    {
     "name": "stderr",
     "output_type": "stream",
     "text": [
      "Training Epochs: 100%|██████████| 300/300 [00:05<00:00, 58.56it/s, loss=0.0354, val_loss=0.641, val_score=0.862]\n",
      "Training Epochs:   3%|▎         | 8/300 [00:00<00:04, 71.78it/s, loss=1.68, val_loss=1.68, val_score=0.388]"
     ]
    },
    {
     "name": "stdout",
     "output_type": "stream",
     "text": [
      "Average sampling time 0.00005s, average computing time 0.01090s\n"
     ]
    },
    {
     "name": "stderr",
     "output_type": "stream",
     "text": [
      "Training Epochs: 100%|██████████| 300/300 [00:04<00:00, 74.51it/s, loss=0.04, val_loss=0.368, val_score=0.884]  \n",
      "Training Epochs:   2%|▏         | 6/300 [00:00<00:05, 53.12it/s, loss=1.88, val_loss=1.87, val_score=0.294]"
     ]
    },
    {
     "name": "stdout",
     "output_type": "stream",
     "text": [
      "Average sampling time 0.00005s, average computing time 0.00849s\n"
     ]
    },
    {
     "name": "stderr",
     "output_type": "stream",
     "text": [
      "Training Epochs: 100%|██████████| 300/300 [00:05<00:00, 52.59it/s, loss=0.0308, val_loss=0.471, val_score=0.866]"
     ]
    },
    {
     "name": "stdout",
     "output_type": "stream",
     "text": [
      "Average sampling time 0.00005s, average computing time 0.01253s\n"
     ]
    },
    {
     "name": "stderr",
     "output_type": "stream",
     "text": [
      "\n"
     ]
    }
   ],
   "source": [
    "for repeat in range(10):\n",
    "    if 'GCN' in method:\n",
    "        model = GCN(n_feat=feat_data.shape[1], \n",
    "                    n_hid=args.nhid, \n",
    "                    n_classes=num_classes, \n",
    "                    n_layers=args.n_layers, \n",
    "                    criterion=criterion)\n",
    "\n",
    "        results = train_model(model, data_loader, note=\"GCN (L=%d, repeat=%d)\"%(args.n_layers, repeat))\n",
    "        results = np.array([\n",
    "            results.train_loss_record,\n",
    "            results.train_acc_record,\n",
    "            results.loss_record,\n",
    "            results.acc_record\n",
    "        ])\n",
    "        algorithm_result['GCN'].append(results)\n",
    "\n",
    "    if 'ResGCN' in method:\n",
    "        model = ResGCN(n_feat=feat_data.shape[1], \n",
    "                    n_hid=args.nhid, \n",
    "                    n_classes=num_classes, \n",
    "                    n_layers=args.n_layers, \n",
    "                    criterion=criterion)\n",
    "\n",
    "        results = train_model(model, data_loader, note=\"ResGCN (L=%d, repeat=%d)\"%(args.n_layers, repeat))\n",
    "        results = np.array([\n",
    "            results.train_loss_record,\n",
    "            results.train_acc_record,\n",
    "            results.loss_record,\n",
    "            results.acc_record\n",
    "        ])\n",
    "        algorithm_result['ResGCN'].append(results)\n",
    "\n",
    "    if 'GCNII' in method:\n",
    "        model = GCNII(n_feat=feat_data.shape[1], \n",
    "                    n_hid=args.nhid, \n",
    "                    n_classes=num_classes, \n",
    "                    n_layers=args.n_layers, \n",
    "                    criterion=criterion)\n",
    "\n",
    "        results = train_model(model, data_loader, note=\"GCNII (L=%d, repeat=%d)\"%(args.n_layers, repeat))\n",
    "        results = np.array([\n",
    "            results.train_loss_record,\n",
    "            results.train_acc_record,\n",
    "            results.loss_record,\n",
    "            results.acc_record\n",
    "        ])\n",
    "        algorithm_result['GCNII'].append(results)\n",
    "        \n",
    "    if 'APPNP' in method:\n",
    "        model = APPNP(n_feat=feat_data.shape[1], \n",
    "                    n_hid=args.nhid, \n",
    "                    n_classes=num_classes, \n",
    "                    n_layers=args.n_layers, \n",
    "                    criterion=criterion)\n",
    "\n",
    "        results = train_model(model, data_loader, note=\"APPNP (L=%d, repeat=%d)\"%(args.n_layers, repeat))\n",
    "        results = np.array([\n",
    "            results.train_loss_record,\n",
    "            results.train_acc_record,\n",
    "            results.loss_record,\n",
    "            results.acc_record\n",
    "        ])\n",
    "        algorithm_result['APPNP'].append(results)\n",
    "        \n",
    "    if 'DGCN' in method:\n",
    "        model = DGCN(n_feat=feat_data.shape[1], \n",
    "                    n_hid=args.nhid, \n",
    "                    n_classes=num_classes, \n",
    "                    n_layers=args.n_layers, \n",
    "                    criterion=criterion)\n",
    "\n",
    "        results = train_model(model, data_loader, note=\"DGCN (L=%d, repeat=%d)\"%(args.n_layers, repeat))\n",
    "        results = np.array([\n",
    "            results.train_loss_record,\n",
    "            results.train_acc_record,\n",
    "            results.loss_record,\n",
    "            results.acc_record\n",
    "        ])\n",
    "        algorithm_result['DGCN'].append(results)"
   ]
  },
  {
   "cell_type": "code",
   "execution_count": 10,
   "metadata": {},
   "outputs": [],
   "source": [
    "def get_mean_std_epoch_result(all_epoch_results):\n",
    "\n",
    "    all_train_loss = []\n",
    "    all_valid_loss = []\n",
    "    all_train_acc = []\n",
    "    all_valid_acc = []\n",
    "    all_gen_error = []\n",
    "\n",
    "    for epoch_results in all_epoch_results:\n",
    "        all_train_loss.append(epoch_results[0,:])\n",
    "        all_valid_loss.append(epoch_results[2,:])\n",
    "        all_train_acc.append(epoch_results[1,:])\n",
    "        all_valid_acc.append(epoch_results[3,:])\n",
    "        all_gen_error.append(epoch_results[2,:] - epoch_results[0,:])\n",
    "\n",
    "    all_epoch_results_mean = np.array([np.mean(all_train_loss, axis=0),\n",
    "                                       np.mean(all_valid_loss, axis=0),\n",
    "                                       np.mean(all_train_acc, axis=0),\n",
    "                                       np.mean(all_valid_acc, axis=0),\n",
    "                                       np.mean(all_gen_error, axis=0)])\n",
    "\n",
    "    all_epoch_results_std = np.array([np.std(all_train_loss, axis=0),\n",
    "                                      np.std(all_valid_loss, axis=0),\n",
    "                                      np.std(all_train_acc, axis=0),\n",
    "                                      np.std(all_valid_acc, axis=0),\n",
    "                                      np.std(all_gen_error, axis=0)])\n",
    "    \n",
    "    return all_epoch_results_mean, all_epoch_results_std"
   ]
  },
  {
   "cell_type": "code",
   "execution_count": 11,
   "metadata": {},
   "outputs": [
    {
     "name": "stdout",
     "output_type": "stream",
     "text": [
      "(5, 300) (5, 300)\n",
      "GCN 0.3898172855377197\n",
      "(5, 300) (5, 300)\n",
      "ResGCN 0.23377364575862886\n",
      "(5, 300) (5, 300)\n",
      "GCNII 0.16348545551300048\n",
      "(5, 300) (5, 300)\n",
      "APPNP 0.15541138201951982\n",
      "(5, 300) (5, 300)\n",
      "DGCN 0.12438304722309113\n"
     ]
    },
    {
     "data": {
      "image/png": "[encoded data removed]",
      "text/plain": [
       "<Figure size 432x288 with 1 Axes>"
      ]
     },
     "metadata": {
      "needs_background": "light"
     },
     "output_type": "display_data"
    }
   ],
   "source": [
    "fig, axs = plt.subplots()\n",
    "n_layers = args.n_layers\n",
    "for algorithm in ['GCN', 'ResGCN', 'GCNII', 'APPNP', 'DGCN']:\n",
    "    color = next(axs._get_lines.prop_cycler)['color']\n",
    "    \n",
    "    all_epoch_results = algorithm_result[algorithm]\n",
    "    all_epoch_results_mean, all_epoch_results_std = get_mean_std_epoch_result(all_epoch_results)\n",
    "    print(all_epoch_results_mean.shape, all_epoch_results_std.shape)\n",
    "    \n",
    "    best_iter = np.argmax(all_epoch_results_mean[3]) # valid acc\n",
    "    stop_iter = np.argmax(all_epoch_results_mean[2]) # train acc\n",
    "\n",
    "    y_vals = all_epoch_results_mean[2][:stop_iter]\n",
    "    y_stds = all_epoch_results_std[2][:stop_iter]\n",
    "    x_vals = np.arange(len(y_vals))\n",
    "    axs.plot(x_vals, y_vals, label='%s (L=%d): Train'%(algorithm, n_layers), color=color, linestyle='-')\n",
    "    axs.fill_between(x_vals, y_vals-y_stds, y_vals+y_stds ,alpha=0.2, color=color)\n",
    "\n",
    "#     y_vals = all_epoch_results_mean[3][:stop_iter]\n",
    "#     y_stds = all_epoch_results_std[3][:stop_iter]\n",
    "#     x_vals = np.arange(len(y_vals))\n",
    "#     axs.plot(x_vals, y_vals, label='%s (L=%d): Valid'%(algorithm, n_layers), color=color, linestyle='--')\n",
    "#     axs.fill_between(x_vals, y_vals-y_stds, y_vals+y_stds ,alpha=0.2, color=color)\n",
    "    \n",
    "    print(algorithm, all_epoch_results_mean[4][best_iter])\n",
    "\n",
    "plt.title('F1-score / Iterations')\n",
    "axs.set_ylabel('F1-score')\n",
    "axs.set_xlabel('Iterations')\n",
    "axs.grid(True)\n",
    "fig.tight_layout()\n",
    "plt.legend()\n",
    "plt.savefig('f1_score_synthetic.pdf')\n",
    "# plt.close()"
   ]
  },
  {
   "cell_type": "code",
   "execution_count": 12,
   "metadata": {},
   "outputs": [
    {
     "data": {
      "text/plain": [
       "(5, 300)"
      ]
     },
     "execution_count": 12,
     "metadata": {},
     "output_type": "execute_result"
    }
   ],
   "source": [
    "all_epoch_results_mean.shape"
   ]
  },
  {
   "cell_type": "code",
   "execution_count": null,
   "metadata": {},
   "outputs": [],
   "source": []
  },
  {
   "cell_type": "code",
   "execution_count": null,
   "metadata": {},
   "outputs": [],
   "source": []
  },
  {
   "cell_type": "code",
   "execution_count": 13,
   "metadata": {},
   "outputs": [
    {
     "data": {
      "image/png": "[encoded data removed]",
      "text/plain": [
       "<Figure size 432x288 with 1 Axes>"
      ]
     },
     "metadata": {
      "needs_background": "light"
     },
     "output_type": "display_data"
    }
   ],
   "source": [
    "fig, axs = plt.subplots()\n",
    "\n",
    "for algorithm in ['GCN', 'ResGCN', 'GCNII', 'APPNP', 'DGCN']:\n",
    "    \n",
    "    all_epoch_results = algorithm_result[algorithm]\n",
    "    all_epoch_results_mean, all_epoch_results_std = get_mean_std_epoch_result(all_epoch_results)\n",
    "\n",
    "    best_iter = np.argmax(all_epoch_results_mean[3])\n",
    "    stop_iter = np.argmax(all_epoch_results_mean[2])\n",
    "    \n",
    "    y_vals = all_epoch_results_mean[4][:stop_iter]\n",
    "    y_stds = all_epoch_results_std[4][:stop_iter]\n",
    "    x_vals = np.arange(len(y_vals))\n",
    "    axs.plot(x_vals, y_vals, label='%s (L=%d)'%(algorithm, n_layers))\n",
    "    axs.fill_between(x_vals, y_vals-y_stds, y_vals+y_stds ,alpha=0.2)\n",
    "\n",
    "\n",
    "plt.title('Generalization error / Iterations')\n",
    "axs.set_ylabel('Generalization error')\n",
    "axs.set_xlabel('Iterations')\n",
    "axs.grid(True)\n",
    "fig.tight_layout()\n",
    "plt.legend()\n",
    "plt.savefig('generalization_error_synthetic.pdf')\n",
    "# plt.close()"
   ]
  },
  {
   "cell_type": "code",
   "execution_count": null,
   "metadata": {},
   "outputs": [],
   "source": []
  }
 ],
 "metadata": {
  "kernelspec": {
   "display_name": "Python 3",
   "language": "python",
   "name": "python3"
  },
  "language_info": {
   "codemirror_mode": {
    "name": "ipython",
    "version": 3
   },
   "file_extension": ".py",
   "mimetype": "text/x-python",
   "name": "python",
   "nbconvert_exporter": "python",
   "pygments_lexer": "ipython3",
   "version": "3.7.6"
  }
 },
 "nbformat": 4,
 "nbformat_minor": 4
}
