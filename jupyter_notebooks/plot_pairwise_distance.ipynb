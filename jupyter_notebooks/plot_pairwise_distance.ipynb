{
 "cells": [
  {
   "cell_type": "code",
   "execution_count": 1,
   "metadata": {},
   "outputs": [
    {
     "name": "stdout",
     "output_type": "stream",
     "text": [
      "Namespace(batch_size=99999, cuda=0, dataset='citeseer', dropout=0, epoch_num=500, method='SGC/GCN/GCNBias/ResGCN/GCNII/APPNP', n_layers=10, nhid=64)\n"
     ]
    }
   ],
   "source": [
    "import torch\n",
    "import torch.nn as nn\n",
    "import torch.optim as optim\n",
    "\n",
    "from utils import load_data, process_graph_data\n",
    "from utils import package_mxl, adj_rw_norm\n",
    "from utils import sparse_mx_to_torch_sparse_tensor\n",
    "from utils import ResultRecorder\n",
    "\n",
    "from model import GCN, GCNBias, SGC, ResGCN, GCNII, APPNP\n",
    "from layers import GraphConv\n",
    "from load_semigcn_data import load_data_gcn\n",
    "from data_loader import DataLoader\n",
    "\n",
    "from sklearn.metrics import f1_score\n",
    "from sklearn.metrics import pairwise_distances\n",
    "import matplotlib.pyplot as plt\n",
    "import matplotlib.ticker as mticker\n",
    "from scipy.sparse.csgraph import connected_components\n",
    "\n",
    "from tqdm import trange\n",
    "import numpy as np\n",
    "import copy \n",
    "import time\n",
    "import pickle\n",
    "import os\n",
    "\n",
    "import sys; sys.argv=['']; del sys\n",
    "import warnings\n",
    "warnings.filterwarnings(\"ignore\", category=RuntimeWarning)\n",
    "warnings.filterwarnings(\"ignore\", category=UserWarning)\n",
    "\n",
    "import argparse\n",
    "\"\"\"\n",
    "Dataset arguments\n",
    "\"\"\"\n",
    "parser = argparse.ArgumentParser(\n",
    "    description='Training GCN on Large-scale Graph Datasets')\n",
    "parser.add_argument('--dataset', type=str, default='citeseer',\n",
    "                    help='Dataset name: pubmed/flickr/reddit/ppi-large')\n",
    "parser.add_argument('--method', type=str, default='SGC/GCN/GCNBias/ResGCN/GCNII/APPNP',\n",
    "                    help='Algorithms: seperate using slash')\n",
    "parser.add_argument('--nhid', type=int, default=64,\n",
    "                    help='Hidden state dimension')\n",
    "parser.add_argument('--epoch_num', type=int, default=500,\n",
    "                    help='Number of Epoch')\n",
    "parser.add_argument('--batch_size', type=int, default=99999,\n",
    "                    help='size of output node in a batch')\n",
    "parser.add_argument('--n_layers', type=int, default=10,\n",
    "                    help='Number of GCN layers')\n",
    "parser.add_argument('--dropout', type=float, default=0,\n",
    "                    help='Dropout rate')\n",
    "parser.add_argument('--cuda', type=int, default=0,\n",
    "                    help='Avaiable GPU ID')\n",
    "args = parser.parse_args()\n",
    "print(args)\n",
    "\n",
    "method = args.method.split('/')\n",
    "\n",
    "\"\"\"\n",
    "Prepare devices\n",
    "\"\"\"\n",
    "if args.cuda != -1:\n",
    "    device = torch.device(\"cuda:\" + str(args.cuda))\n",
    "else:\n",
    "    device = torch.device(\"cpu\")\n",
    "    \n",
    "if args.dataset not in ['cora', 'citeseer', 'pubmed']:\n",
    "    temp_data = load_data(args.dataset) \n",
    "else:\n",
    "    temp_data = load_data_gcn(args.dataset)\n",
    "\n",
    "adj_full, adj_train, feat_data, labels, role = process_graph_data(*temp_data)\n",
    "\n",
    "train_nodes = np.array(role['tr'])\n",
    "valid_nodes = np.array(role['va'])\n",
    "test_nodes = np.array(role['te'])\n",
    "\n",
    "data_loader = DataLoader(adj_full, train_nodes, valid_nodes, test_nodes, device)"
   ]
  },
  {
   "cell_type": "code",
   "execution_count": 2,
   "metadata": {},
   "outputs": [],
   "source": [
    "def compute_hidden_dist(model, feat_data_th, data_loader):\n",
    "    unique_labels = np.arange(num_classes)\n",
    "    class_to_indices = dict()\n",
    "    for i in unique_labels:\n",
    "        class_to_indices[i] = np.where(np.argmax(labels, axis=1)==i)[0]\n",
    "\n",
    "    inner_class_dist_list = []\n",
    "    cross_class_dist_list = []\n",
    "    for hiddens in model.fetch_hiddens(feat_data_th, data_loader.lap_tensor):\n",
    "        hiddens_norm = np.linalg.norm(hiddens)\n",
    "\n",
    "        inner_class_dist = []\n",
    "        for i in unique_labels:\n",
    "            indices = class_to_indices[i]\n",
    "            dists = pairwise_distances(hiddens[indices])\n",
    "            inner_class_dist.append(dists.mean())\n",
    "        inner_class_dist_list += [np.mean(inner_class_dist)/hiddens_norm]\n",
    "\n",
    "        cross_class_dist = []\n",
    "        all_nodes_indices = np.arange(len(labels))\n",
    "        for i in unique_labels:\n",
    "            indices = class_to_indices[i]\n",
    "            other_indices = np.setdiff1d(all_nodes_indices, indices)\n",
    "            dists = pairwise_distances(hiddens[indices], hiddens[other_indices])\n",
    "            cross_class_dist.append(dists.mean())\n",
    "        cross_class_dist_list += [np.mean(cross_class_dist)/hiddens_norm]\n",
    "    return inner_class_dist_list, cross_class_dist_list"
   ]
  },
  {
   "cell_type": "code",
   "execution_count": 3,
   "metadata": {},
   "outputs": [],
   "source": [
    "\"\"\"\n",
    "Setup datasets and models for training (multi-class use sigmoid+binary_cross_entropy, use softmax+nll_loss otherwise)\n",
    "\"\"\"\n",
    "\n",
    "if args.dataset in ['flickr', 'reddit', 'cora', 'citeseer', 'pubmed']:\n",
    "    feat_data_th = torch.FloatTensor(feat_data)\n",
    "    labels_th = torch.LongTensor(labels.argmax(1))\n",
    "    num_classes = labels_th.max().item()+1\n",
    "    criterion = nn.CrossEntropyLoss()\n",
    "    multi_class=False\n",
    "elif args.dataset in ['ppi', 'ppi-large', 'amazon', 'yelp']:\n",
    "    feat_data_th = torch.FloatTensor(feat_data)\n",
    "    labels_th = torch.FloatTensor(labels)\n",
    "    num_classes = labels_th.shape[1]\n",
    "    criterion = nn.BCEWithLogitsLoss()\n",
    "    multi_class=True\n",
    "\n",
    "feat_data_th = feat_data_th.to(device)\n",
    "labels_th = labels_th.to(device)\n",
    "\n",
    "def sgd_step(net, optimizer, feat_data, labels, train_data, device):\n",
    "    \"\"\"\n",
    "    Function to updated weights with a SGD backpropagation\n",
    "    args : net, optimizer, train_loader, test_loader, loss function, number of inner epochs, args\n",
    "    return : train_loss, test_loss, grad_norm_lb\n",
    "    \"\"\"\n",
    "    net.train()\n",
    "    epoch_loss = []\n",
    "    epoch_acc = []\n",
    "    \n",
    "    # Run over the train_loader\n",
    "    mini_batches, adj = train_data\n",
    "    for mini_batch in mini_batches:\n",
    "\n",
    "        # compute current stochastic gradient\n",
    "        optimizer.zero_grad()\n",
    "        output = net(feat_data, adj)\n",
    "        \n",
    "        loss = net.criterion(output[mini_batch], labels[mini_batch])\n",
    "        loss.backward()\n",
    "        \n",
    "        optimizer.step()\n",
    "        epoch_loss.append(loss.item())\n",
    "        \n",
    "        if multi_class:\n",
    "            output[output > 0.5] = 1\n",
    "            output[output <= 0.5] = 0\n",
    "        else:\n",
    "            output = output.argmax(dim=1)\n",
    "\n",
    "        acc = f1_score(output[mini_batch].detach().cpu(), \n",
    "                       labels[mini_batch].detach().cpu(), average=\"micro\")\n",
    "        epoch_acc.append(acc)\n",
    "\n",
    "    return epoch_loss, epoch_acc\n",
    "\n",
    "@torch.no_grad()\n",
    "def inference(eval_model, feat_data, labels, test_data, device):\n",
    "    eval_model = eval_model.to(device)\n",
    "    mini_batch, adj = test_data    \n",
    "    output = eval_model(feat_data, adj)\n",
    "    loss = eval_model.criterion(output[mini_batch], labels[mini_batch]).item()\n",
    "    \n",
    "    if multi_class:\n",
    "        output[output > 0.5] = 1\n",
    "        output[output <= 0.5] = 0\n",
    "    else:\n",
    "        output = output.argmax(dim=1)\n",
    "        \n",
    "    acc = f1_score(output[mini_batch].detach().cpu(), \n",
    "                   labels[mini_batch].detach().cpu(), average=\"micro\")\n",
    "    return loss, acc\n",
    "\n",
    "\"\"\"\n",
    "Train without sampling\n",
    "\"\"\"\n",
    "\n",
    "def train_model(model, data_loader, note):\n",
    "    train_model = copy.deepcopy(model).to(device)\n",
    "    \n",
    "    results = ResultRecorder(note=note)\n",
    "\n",
    "    optimizer = optim.Adam(train_model.parameters())\n",
    "\n",
    "    tbar = trange(args.epoch_num, desc='Training Epochs')\n",
    "    for epoch in tbar:\n",
    "        # fetch train data \n",
    "        \n",
    "        sample_time_st = time.perf_counter()\n",
    "        train_data = data_loader.get_mini_batches(batch_size=args.batch_size)\n",
    "        sample_time = time.perf_counter() - sample_time_st\n",
    "        \n",
    "        compute_time_st = time.perf_counter()\n",
    "        train_loss, train_acc = sgd_step(train_model, optimizer, feat_data_th, labels_th, train_data, device)\n",
    "        compute_time = time.perf_counter() - compute_time_st\n",
    "        \n",
    "        epoch_train_loss = np.mean(train_loss)\n",
    "        epoch_train_acc = np.mean(train_acc)\n",
    "\n",
    "        valid_data = data_loader.get_valid_batch()\n",
    "        epoch_valid_loss, epoch_valid_acc = inference(train_model, feat_data_th, labels_th, valid_data, device)\n",
    "        tbar.set_postfix(loss=epoch_train_loss,\n",
    "                         val_loss=epoch_valid_loss,\n",
    "                         val_score=epoch_valid_acc)\n",
    "\n",
    "        results.update(epoch_train_loss, \n",
    "                       epoch_train_acc,\n",
    "                       epoch_valid_loss, \n",
    "                       epoch_valid_acc, \n",
    "                       train_model, sample_time=sample_time, compute_time=compute_time)\n",
    "\n",
    "\n",
    "    test_data = data_loader.get_test_batch()\n",
    "    epoch_test_loss, epoch_test_acc = inference(results.best_model, feat_data_th, labels_th, test_data, device)\n",
    "    results.test_loss = epoch_test_loss\n",
    "    results.test_acc = epoch_test_acc\n",
    "    print('Test_loss: %.4f | test_acc: %.4f' % (epoch_test_loss, epoch_test_acc))\n",
    "    \n",
    "    print('Average sampling time %.5fs, average computing time %.5fs'%\n",
    "          (np.mean(results.sample_time), np.mean(results.compute_time)))\n",
    "    \n",
    "    return results"
   ]
  },
  {
   "cell_type": "code",
   "execution_count": 4,
   "metadata": {},
   "outputs": [],
   "source": [
    "def get_pairwise_dist(results_list):\n",
    "    inner_dist = []\n",
    "    cross_dist = []\n",
    "\n",
    "    for result in results_list:\n",
    "        inner_dist.append(result.inner_dist_after)\n",
    "        cross_dist.append(result.cross_dist_after)\n",
    "    return inner_dist, cross_dist"
   ]
  },
  {
   "cell_type": "code",
   "execution_count": 5,
   "metadata": {},
   "outputs": [
    {
     "name": "stderr",
     "output_type": "stream",
     "text": [
      "Training Epochs: 100%|██████████| 500/500 [00:44<00:00, 11.20it/s, loss=0.417, val_loss=0.923, val_score=0.716]\n"
     ]
    },
    {
     "name": "stdout",
     "output_type": "stream",
     "text": [
      "Test_loss: 0.9315 | test_acc: 0.7590\n",
      "Average sampling time 0.00007s, average computing time 0.04509s\n"
     ]
    },
    {
     "name": "stderr",
     "output_type": "stream",
     "text": [
      "Training Epochs: 100%|██████████| 500/500 [00:44<00:00, 11.27it/s, loss=0.417, val_loss=0.923, val_score=0.72] \n"
     ]
    },
    {
     "name": "stdout",
     "output_type": "stream",
     "text": [
      "Test_loss: 0.9382 | test_acc: 0.7560\n",
      "Average sampling time 0.00007s, average computing time 0.04449s\n"
     ]
    },
    {
     "name": "stderr",
     "output_type": "stream",
     "text": [
      "Training Epochs: 100%|██████████| 500/500 [00:44<00:00, 11.27it/s, loss=0.417, val_loss=0.924, val_score=0.718]\n"
     ]
    },
    {
     "name": "stdout",
     "output_type": "stream",
     "text": [
      "Test_loss: 0.9661 | test_acc: 0.7560\n",
      "Average sampling time 0.00007s, average computing time 0.04450s\n"
     ]
    },
    {
     "name": "stderr",
     "output_type": "stream",
     "text": [
      "Training Epochs: 100%|██████████| 500/500 [00:44<00:00, 11.27it/s, loss=0.416, val_loss=0.923, val_score=0.722]\n"
     ]
    },
    {
     "name": "stdout",
     "output_type": "stream",
     "text": [
      "Test_loss: 0.9391 | test_acc: 0.7560\n",
      "Average sampling time 0.00007s, average computing time 0.04450s\n"
     ]
    },
    {
     "name": "stderr",
     "output_type": "stream",
     "text": [
      "Training Epochs: 100%|██████████| 500/500 [00:44<00:00, 11.27it/s, loss=0.417, val_loss=0.923, val_score=0.72] \n"
     ]
    },
    {
     "name": "stdout",
     "output_type": "stream",
     "text": [
      "Test_loss: 0.9063 | test_acc: 0.7570\n",
      "Average sampling time 0.00007s, average computing time 0.04453s\n"
     ]
    },
    {
     "name": "stderr",
     "output_type": "stream",
     "text": [
      "Training Epochs: 100%|██████████| 500/500 [00:44<00:00, 11.26it/s, loss=0.416, val_loss=0.923, val_score=0.718]\n"
     ]
    },
    {
     "name": "stdout",
     "output_type": "stream",
     "text": [
      "Test_loss: 0.9053 | test_acc: 0.7560\n",
      "Average sampling time 0.00007s, average computing time 0.04455s\n"
     ]
    },
    {
     "name": "stderr",
     "output_type": "stream",
     "text": [
      "Training Epochs: 100%|██████████| 500/500 [00:44<00:00, 11.26it/s, loss=0.417, val_loss=0.923, val_score=0.72] \n"
     ]
    },
    {
     "name": "stdout",
     "output_type": "stream",
     "text": [
      "Test_loss: 0.9408 | test_acc: 0.7590\n",
      "Average sampling time 0.00007s, average computing time 0.04454s\n"
     ]
    },
    {
     "name": "stderr",
     "output_type": "stream",
     "text": [
      "Training Epochs: 100%|██████████| 500/500 [00:44<00:00, 11.26it/s, loss=0.417, val_loss=0.922, val_score=0.72] \n"
     ]
    },
    {
     "name": "stdout",
     "output_type": "stream",
     "text": [
      "Test_loss: 0.9119 | test_acc: 0.7570\n",
      "Average sampling time 0.00007s, average computing time 0.04454s\n"
     ]
    },
    {
     "name": "stderr",
     "output_type": "stream",
     "text": [
      "Training Epochs: 100%|██████████| 500/500 [00:44<00:00, 11.23it/s, loss=0.416, val_loss=0.922, val_score=0.722]\n"
     ]
    },
    {
     "name": "stdout",
     "output_type": "stream",
     "text": [
      "Test_loss: 0.9402 | test_acc: 0.7560\n",
      "Average sampling time 0.00007s, average computing time 0.04467s\n"
     ]
    },
    {
     "name": "stderr",
     "output_type": "stream",
     "text": [
      "Training Epochs: 100%|██████████| 500/500 [00:44<00:00, 11.26it/s, loss=0.417, val_loss=0.922, val_score=0.72] \n"
     ]
    },
    {
     "name": "stdout",
     "output_type": "stream",
     "text": [
      "Test_loss: 1.0180 | test_acc: 0.7530\n",
      "Average sampling time 0.00007s, average computing time 0.04457s\n"
     ]
    }
   ],
   "source": [
    "class SGC(nn.Module):\n",
    "    def __init__(self, n_feat, n_hid, n_classes, n_layers, dropout, criterion):\n",
    "        super(SGC, self).__init__()\n",
    "        from layers import SGCLayer\n",
    "        self.n_layers = n_layers\n",
    "        self.n_hid = n_hid\n",
    "        \n",
    "        self.gcs = nn.ModuleList()\n",
    "        for _ in range(n_layers):\n",
    "            self.gcs.append(SGCLayer())\n",
    "        # self.linear_in = nn.Linear(n_feat, n_hid)\n",
    "        # self.linear_out = nn.Linear(n_hid, n_classes)\n",
    "        self.linear_out = nn.Linear(n_feat, n_classes)\n",
    "        self.relu = nn.ReLU()\n",
    "        self.dropout = nn.Dropout(dropout)\n",
    "        self.criterion = criterion\n",
    "\n",
    "    def forward(self, x, adj):\n",
    "        # x = self.linear_in(x)\n",
    "        for ell in range(len(self.gcs)):\n",
    "            x = self.gcs[ell](x, adj)\n",
    "        x = self.linear_out(x)\n",
    "        return x\n",
    "    \n",
    "    @torch.no_grad()\n",
    "    def fetch_hiddens(self, x, adj):\n",
    "        hiddens = []\n",
    "        hiddens.append(x.clone().cpu().numpy())\n",
    "        # x = self.linear_in(x)\n",
    "        for ell in range(len(self.gcs)):\n",
    "            x = self.gcs[ell](x, adj)\n",
    "            hiddens.append(x.clone().cpu().numpy())\n",
    "        x = self.linear_out(x)\n",
    "        return hiddens\n",
    "    \n",
    "results_list = []\n",
    "for repeat in range(10):\n",
    "    model = SGC(n_feat=feat_data.shape[1], \n",
    "                n_hid=args.nhid, \n",
    "                n_classes=num_classes, \n",
    "                n_layers=args.n_layers, \n",
    "                dropout=args.dropout, \n",
    "                criterion=criterion)\n",
    "    model_untrain = copy.deepcopy(model)\n",
    "    results = train_model(model, data_loader, note=\"SGC (L=%d)\"%args.n_layers)\n",
    "    results.inner_dist, results.cross_dist = compute_hidden_dist(model_untrain.to(device), feat_data_th, data_loader)\n",
    "    results.inner_dist_after, results.cross_dist_after = compute_hidden_dist(results.best_model.to(device), feat_data_th, data_loader)\n",
    "    results_list.append(results)"
   ]
  },
  {
   "cell_type": "code",
   "execution_count": 6,
   "metadata": {},
   "outputs": [
    {
     "name": "stdout",
     "output_type": "stream",
     "text": [
      "10\n"
     ]
    }
   ],
   "source": [
    "print(len(results_list))\n",
    "inner_dist, cross_dist = get_pairwise_dist(results_list)\n",
    "ALGORITHM='SGC'\n",
    "DATASET='Citeseer'\n",
    "fig, axs = plt.subplots()\n",
    "\n",
    "data_mat = np.array(inner_dist)\n",
    "y_vals = np.mean(data_mat, axis=0)\n",
    "y_stds = np.std(data_mat, axis=0)\n",
    "x_vals = np.arange(len(y_vals))\n",
    "axs.plot(x_vals, y_vals, label='%s: Intra-class distance'%ALGORITHM)\n",
    "axs.fill_between(x_vals, y_vals-y_stds, y_vals+y_stds ,alpha=0.3)\n",
    "\n",
    "data_mat = np.array(cross_dist)\n",
    "y_vals = np.mean(data_mat, axis=0)\n",
    "y_stds = np.std(data_mat, axis=0)\n",
    "x_vals = np.arange(len(y_vals))\n",
    "axs.plot(x_vals, y_vals, label='%s: Inter-class distance'%ALGORITHM)\n",
    "axs.fill_between(x_vals, y_vals-y_stds, y_vals+y_stds ,alpha=0.3)\n",
    "\n",
    "data_mat = np.array(cross_dist) - np.array(inner_dist)\n",
    "y_vals = np.mean(data_mat, axis=0)\n",
    "y_stds = np.std(data_mat, axis=0)\n",
    "x_vals = np.arange(len(y_vals))\n",
    "axs.plot(x_vals, y_vals, label='%s: Inter-class distance - Intra-class distance'%ALGORITHM)\n",
    "axs.fill_between(x_vals, y_vals-y_stds, y_vals+y_stds ,alpha=0.3)\n",
    "\n",
    "plt.title('Intra- and inter-class distance / Num of layers')\n",
    "axs.set_xlabel('Num of layers')\n",
    "axs.set_ylabel('Intra- and inter-class distance')\n",
    "axs.grid(True)\n",
    "plt.gca().xaxis.set_major_locator(mticker.MultipleLocator(1))\n",
    "fig.tight_layout()\n",
    "plt.legend()\n",
    "\n",
    "plt.savefig('pariwise_%s_%s.pdf'%(DATASET, ALGORITHM))\n",
    "plt.close()"
   ]
  },
  {
   "cell_type": "code",
   "execution_count": 7,
   "metadata": {},
   "outputs": [
    {
     "data": {
      "text/plain": [
       "array([0., 0., 0., 0., 0., 0., 0., 0., 0., 0., 0.], dtype=float32)"
      ]
     },
     "execution_count": 7,
     "metadata": {},
     "output_type": "execute_result"
    }
   ],
   "source": [
    "y_stds"
   ]
  },
  {
   "cell_type": "code",
   "execution_count": 8,
   "metadata": {},
   "outputs": [
    {
     "name": "stderr",
     "output_type": "stream",
     "text": [
      "Training Epochs: 100%|██████████| 500/500 [00:58<00:00,  8.58it/s, loss=0.216, val_loss=0.905, val_score=0.726]\n"
     ]
    },
    {
     "name": "stdout",
     "output_type": "stream",
     "text": [
      "Test_loss: 0.7700 | test_acc: 0.7830\n",
      "Average sampling time 0.00006s, average computing time 0.05829s\n"
     ]
    },
    {
     "name": "stderr",
     "output_type": "stream",
     "text": [
      "Training Epochs: 100%|██████████| 500/500 [00:58<00:00,  8.57it/s, loss=0.216, val_loss=0.906, val_score=0.726]\n"
     ]
    },
    {
     "name": "stdout",
     "output_type": "stream",
     "text": [
      "Test_loss: 0.8871 | test_acc: 0.7880\n",
      "Average sampling time 0.00006s, average computing time 0.05831s\n"
     ]
    },
    {
     "name": "stderr",
     "output_type": "stream",
     "text": [
      "Training Epochs: 100%|██████████| 500/500 [00:58<00:00,  8.58it/s, loss=0.217, val_loss=0.905, val_score=0.724]\n"
     ]
    },
    {
     "name": "stdout",
     "output_type": "stream",
     "text": [
      "Test_loss: 0.8996 | test_acc: 0.7940\n",
      "Average sampling time 0.00006s, average computing time 0.05831s\n"
     ]
    },
    {
     "name": "stderr",
     "output_type": "stream",
     "text": [
      "Training Epochs: 100%|██████████| 500/500 [00:58<00:00,  8.57it/s, loss=0.217, val_loss=0.904, val_score=0.722]\n"
     ]
    },
    {
     "name": "stdout",
     "output_type": "stream",
     "text": [
      "Test_loss: 0.8930 | test_acc: 0.7890\n",
      "Average sampling time 0.00006s, average computing time 0.05833s\n"
     ]
    },
    {
     "name": "stderr",
     "output_type": "stream",
     "text": [
      "Training Epochs: 100%|██████████| 500/500 [00:58<00:00,  8.57it/s, loss=0.216, val_loss=0.906, val_score=0.726]\n"
     ]
    },
    {
     "name": "stdout",
     "output_type": "stream",
     "text": [
      "Test_loss: 0.9014 | test_acc: 0.7910\n",
      "Average sampling time 0.00006s, average computing time 0.05832s\n"
     ]
    },
    {
     "name": "stderr",
     "output_type": "stream",
     "text": [
      "Training Epochs: 100%|██████████| 500/500 [00:58<00:00,  8.58it/s, loss=0.216, val_loss=0.907, val_score=0.726]\n"
     ]
    },
    {
     "name": "stdout",
     "output_type": "stream",
     "text": [
      "Test_loss: 0.9068 | test_acc: 0.7890\n",
      "Average sampling time 0.00006s, average computing time 0.05830s\n"
     ]
    },
    {
     "name": "stderr",
     "output_type": "stream",
     "text": [
      "Training Epochs: 100%|██████████| 500/500 [00:58<00:00,  8.57it/s, loss=0.216, val_loss=0.906, val_score=0.724]\n"
     ]
    },
    {
     "name": "stdout",
     "output_type": "stream",
     "text": [
      "Test_loss: 0.7865 | test_acc: 0.7840\n",
      "Average sampling time 0.00006s, average computing time 0.05832s\n"
     ]
    },
    {
     "name": "stderr",
     "output_type": "stream",
     "text": [
      "Training Epochs: 100%|██████████| 500/500 [00:58<00:00,  8.58it/s, loss=0.217, val_loss=0.906, val_score=0.724]\n"
     ]
    },
    {
     "name": "stdout",
     "output_type": "stream",
     "text": [
      "Test_loss: 0.9024 | test_acc: 0.7890\n",
      "Average sampling time 0.00006s, average computing time 0.05831s\n"
     ]
    },
    {
     "name": "stderr",
     "output_type": "stream",
     "text": [
      "Training Epochs: 100%|██████████| 500/500 [00:58<00:00,  8.57it/s, loss=0.216, val_loss=0.905, val_score=0.724]\n"
     ]
    },
    {
     "name": "stdout",
     "output_type": "stream",
     "text": [
      "Test_loss: 0.8737 | test_acc: 0.7900\n",
      "Average sampling time 0.00006s, average computing time 0.05832s\n"
     ]
    },
    {
     "name": "stderr",
     "output_type": "stream",
     "text": [
      "Training Epochs: 100%|██████████| 500/500 [00:58<00:00,  8.58it/s, loss=0.217, val_loss=0.904, val_score=0.726]\n"
     ]
    },
    {
     "name": "stdout",
     "output_type": "stream",
     "text": [
      "Test_loss: 0.9093 | test_acc: 0.7920\n",
      "Average sampling time 0.00006s, average computing time 0.05830s\n"
     ]
    }
   ],
   "source": [
    "class APPNP(nn.Module):\n",
    "    def __init__(self, n_feat, n_hid, n_classes, n_layers, dropout, criterion):\n",
    "        from layers import APPNPLayer\n",
    "        super(APPNP, self).__init__()\n",
    "        self.n_layers = n_layers\n",
    "        self.n_hid = n_hid\n",
    "        \n",
    "        self.gcs = nn.ModuleList()\n",
    "        for _ in range(n_layers):\n",
    "            self.gcs.append(APPNPLayer())\n",
    "        # self.linear_in = nn.Linear(n_feat, n_hid)\n",
    "        # self.linear_out = nn.Linear(n_hid, n_classes)\n",
    "        self.linear_out = nn.Linear(n_feat, n_classes)\n",
    "        self.relu = nn.ReLU()\n",
    "        self.dropout = nn.Dropout(dropout)\n",
    "        self.criterion = criterion\n",
    "\n",
    "    def forward(self, x, adj):\n",
    "        # x = self.linear_in(x)\n",
    "        x_0 = x.clone()\n",
    "        for ell in range(len(self.gcs)):\n",
    "            x = self.gcs[ell](x, adj, x_0, alpha=0.8)\n",
    "        x = self.linear_out(x)\n",
    "        return x\n",
    "    \n",
    "    @torch.no_grad()\n",
    "    def fetch_hiddens(self, x, adj):\n",
    "        hiddens = []\n",
    "        hiddens.append(x.clone().cpu().numpy())\n",
    "        # x = self.linear_in(x)\n",
    "        x_0 = x.clone()\n",
    "        for ell in range(len(self.gcs)):\n",
    "            x = self.gcs[ell](x, adj, x_0, alpha=0.8)\n",
    "            hiddens.append(x.clone().cpu().numpy())\n",
    "        return hiddens\n",
    "    \n",
    "results_list = []\n",
    "for repeat in range(10):\n",
    "    model = APPNP(n_feat=feat_data.shape[1], \n",
    "                n_hid=args.nhid, \n",
    "                n_classes=num_classes, \n",
    "                n_layers=args.n_layers, \n",
    "                dropout=args.dropout, \n",
    "                criterion=criterion)\n",
    "    model_untrain = copy.deepcopy(model)\n",
    "    results = train_model(model, data_loader, note=\"APPNP (L=%d)\"%args.n_layers)\n",
    "    results.inner_dist, results.cross_dist = compute_hidden_dist(model_untrain.to(device), feat_data_th, data_loader)\n",
    "    results.inner_dist_after, results.cross_dist_after = compute_hidden_dist(results.best_model.to(device), feat_data_th, data_loader)\n",
    "    results_list.append(results)"
   ]
  },
  {
   "cell_type": "code",
   "execution_count": 9,
   "metadata": {},
   "outputs": [
    {
     "name": "stdout",
     "output_type": "stream",
     "text": [
      "10\n"
     ]
    }
   ],
   "source": [
    "print(len(results_list))\n",
    "inner_dist, cross_dist = get_pairwise_dist(results_list)\n",
    "ALGORITHM='APPNP'\n",
    "DATASET='Citeseer'\n",
    "fig, axs = plt.subplots()\n",
    "\n",
    "data_mat = np.array(inner_dist)\n",
    "y_vals = np.mean(data_mat, axis=0)\n",
    "y_stds = np.std(data_mat, axis=0)\n",
    "x_vals = np.arange(len(y_vals))\n",
    "axs.plot(x_vals, y_vals, label='%s: Intra-class distance'%ALGORITHM)\n",
    "axs.fill_between(x_vals, y_vals-y_stds, y_vals+y_stds ,alpha=0.3)\n",
    "\n",
    "data_mat = np.array(cross_dist)\n",
    "y_vals = np.mean(data_mat, axis=0)\n",
    "y_stds = np.std(data_mat, axis=0)\n",
    "x_vals = np.arange(len(y_vals))\n",
    "axs.plot(x_vals, y_vals, label='%s: Inter-class distance'%ALGORITHM)\n",
    "axs.fill_between(x_vals, y_vals-y_stds, y_vals+y_stds ,alpha=0.3)\n",
    "\n",
    "data_mat = np.array(cross_dist) - np.array(inner_dist)\n",
    "y_vals = np.mean(data_mat, axis=0)\n",
    "y_stds = np.std(data_mat, axis=0)\n",
    "x_vals = np.arange(len(y_vals))\n",
    "axs.plot(x_vals, y_vals, label='%s: Inter-class distance - Intra-class distance'%ALGORITHM)\n",
    "axs.fill_between(x_vals, y_vals-y_stds, y_vals+y_stds ,alpha=0.3)\n",
    "\n",
    "plt.title('Intra- and inter-class distance / Num of layers')\n",
    "axs.set_xlabel('Num of layers')\n",
    "axs.set_ylabel('Intra- and inter-class distance')\n",
    "axs.grid(True)\n",
    "plt.gca().xaxis.set_major_locator(mticker.MultipleLocator(1))\n",
    "fig.tight_layout()\n",
    "plt.legend()\n",
    "\n",
    "plt.savefig('pariwise_%s_%s.pdf'%(DATASET, ALGORITHM))\n",
    "plt.close()"
   ]
  },
  {
   "cell_type": "code",
   "execution_count": 10,
   "metadata": {},
   "outputs": [
    {
     "name": "stderr",
     "output_type": "stream",
     "text": [
      "Training Epochs: 100%|██████████| 500/500 [00:12<00:00, 39.05it/s, loss=0.279, val_loss=5.13, val_score=0.642]\n"
     ]
    },
    {
     "name": "stdout",
     "output_type": "stream",
     "text": [
      "Test_loss: 2.3142 | test_acc: 0.7080\n",
      "Average sampling time 0.00007s, average computing time 0.01512s\n"
     ]
    },
    {
     "name": "stderr",
     "output_type": "stream",
     "text": [
      "Training Epochs: 100%|██████████| 500/500 [00:12<00:00, 39.30it/s, loss=0.257, val_loss=5.46, val_score=0.652]\n"
     ]
    },
    {
     "name": "stdout",
     "output_type": "stream",
     "text": [
      "Test_loss: 3.3380 | test_acc: 0.7100\n",
      "Average sampling time 0.00006s, average computing time 0.01509s\n"
     ]
    },
    {
     "name": "stderr",
     "output_type": "stream",
     "text": [
      "Training Epochs: 100%|██████████| 500/500 [00:12<00:00, 39.25it/s, loss=0.276, val_loss=5.03, val_score=0.666]\n"
     ]
    },
    {
     "name": "stdout",
     "output_type": "stream",
     "text": [
      "Test_loss: 2.2876 | test_acc: 0.7170\n",
      "Average sampling time 0.00006s, average computing time 0.01508s\n"
     ]
    },
    {
     "name": "stderr",
     "output_type": "stream",
     "text": [
      "Training Epochs: 100%|██████████| 500/500 [00:12<00:00, 39.19it/s, loss=0.322, val_loss=4.07, val_score=0.654]\n"
     ]
    },
    {
     "name": "stdout",
     "output_type": "stream",
     "text": [
      "Test_loss: 2.4766 | test_acc: 0.7050\n",
      "Average sampling time 0.00006s, average computing time 0.01511s\n"
     ]
    },
    {
     "name": "stderr",
     "output_type": "stream",
     "text": [
      "Training Epochs: 100%|██████████| 500/500 [00:12<00:00, 39.21it/s, loss=0.227, val_loss=4.01, val_score=0.668]\n"
     ]
    },
    {
     "name": "stdout",
     "output_type": "stream",
     "text": [
      "Test_loss: 1.5887 | test_acc: 0.7230\n",
      "Average sampling time 0.00006s, average computing time 0.01508s\n"
     ]
    },
    {
     "name": "stderr",
     "output_type": "stream",
     "text": [
      "Training Epochs: 100%|██████████| 500/500 [00:12<00:00, 39.39it/s, loss=0.221, val_loss=3.65, val_score=0.662]\n"
     ]
    },
    {
     "name": "stdout",
     "output_type": "stream",
     "text": [
      "Test_loss: 0.9805 | test_acc: 0.7060\n",
      "Average sampling time 0.00006s, average computing time 0.01510s\n"
     ]
    },
    {
     "name": "stderr",
     "output_type": "stream",
     "text": [
      "Training Epochs: 100%|██████████| 500/500 [00:12<00:00, 39.32it/s, loss=0.265, val_loss=4.51, val_score=0.676]\n"
     ]
    },
    {
     "name": "stdout",
     "output_type": "stream",
     "text": [
      "Test_loss: 1.3940 | test_acc: 0.7180\n",
      "Average sampling time 0.00007s, average computing time 0.01511s\n"
     ]
    },
    {
     "name": "stderr",
     "output_type": "stream",
     "text": [
      "Training Epochs: 100%|██████████| 500/500 [00:12<00:00, 39.25it/s, loss=0.31, val_loss=3.2, val_score=0.668]  \n"
     ]
    },
    {
     "name": "stdout",
     "output_type": "stream",
     "text": [
      "Test_loss: 1.9437 | test_acc: 0.6900\n",
      "Average sampling time 0.00006s, average computing time 0.01506s\n"
     ]
    },
    {
     "name": "stderr",
     "output_type": "stream",
     "text": [
      "Training Epochs: 100%|██████████| 500/500 [00:12<00:00, 39.29it/s, loss=0.267, val_loss=6.05, val_score=0.642]\n"
     ]
    },
    {
     "name": "stdout",
     "output_type": "stream",
     "text": [
      "Test_loss: 2.8404 | test_acc: 0.7030\n",
      "Average sampling time 0.00006s, average computing time 0.01509s\n"
     ]
    },
    {
     "name": "stderr",
     "output_type": "stream",
     "text": [
      "Training Epochs: 100%|██████████| 500/500 [00:12<00:00, 39.33it/s, loss=0.273, val_loss=5.17, val_score=0.628]\n"
     ]
    },
    {
     "name": "stdout",
     "output_type": "stream",
     "text": [
      "Test_loss: 3.3758 | test_acc: 0.6900\n",
      "Average sampling time 0.00006s, average computing time 0.01507s\n"
     ]
    }
   ],
   "source": [
    "class GCN(nn.Module):\n",
    "    def __init__(self, n_feat, n_hid, n_classes, n_layers, dropout, criterion):\n",
    "        from layers import GraphConv\n",
    "        super(GCN, self).__init__()\n",
    "        self.n_layers = n_layers\n",
    "        self.n_hid = n_hid\n",
    "        \n",
    "        self.gcs = nn.ModuleList()\n",
    "        self.gcs.append(GraphConv(n_feat,  n_hid))\n",
    "        for _ in range(n_layers-1):\n",
    "            self.gcs.append(GraphConv(n_hid,  n_hid))\n",
    "        self.linear = nn.Linear(n_hid, n_classes)\n",
    "        self.relu = nn.ReLU()\n",
    "        self.dropout = nn.Dropout(dropout)\n",
    "        self.criterion = criterion\n",
    "\n",
    "    def forward(self, x, adj):\n",
    "        for ell in range(len(self.gcs)):\n",
    "            x = self.gcs[ell](x, adj)\n",
    "            x = self.relu(x)\n",
    "            x = self.dropout(x)\n",
    "        x = self.linear(x)\n",
    "        return x\n",
    "    \n",
    "    @torch.no_grad()\n",
    "    def fetch_hiddens(self, x, adj):\n",
    "        hiddens = []\n",
    "        hiddens.append(x.clone().cpu().numpy())\n",
    "        for ell in range(len(self.gcs)):\n",
    "            x = self.gcs[ell](x, adj)\n",
    "            hiddens.append(x.clone().cpu().numpy())\n",
    "            x = self.relu(x)\n",
    "            x = self.dropout(x)\n",
    "        return hiddens\n",
    "    \n",
    "results_list = []\n",
    "for repeat in range(10):\n",
    "    model = GCN(n_feat=feat_data.shape[1], \n",
    "                n_hid=args.nhid, \n",
    "                n_classes=num_classes, \n",
    "                n_layers=args.n_layers, \n",
    "                dropout=args.dropout, \n",
    "                criterion=criterion)\n",
    "    model_untrain = copy.deepcopy(model)\n",
    "    results = train_model(model, data_loader, note=\"GCN (L=%d)\"%args.n_layers)\n",
    "    results.inner_dist, results.cross_dist = compute_hidden_dist(model_untrain.to(device), feat_data_th, data_loader)\n",
    "    results.inner_dist_after, results.cross_dist_after = compute_hidden_dist(results.best_model.to(device), feat_data_th, data_loader)\n",
    "    results_list.append(results)"
   ]
  },
  {
   "cell_type": "code",
   "execution_count": 12,
   "metadata": {},
   "outputs": [
    {
     "name": "stdout",
     "output_type": "stream",
     "text": [
      "10\n"
     ]
    },
    {
     "data": {
      "text/plain": [
       "<matplotlib.legend.Legend at 0x7fd625b39810>"
      ]
     },
     "execution_count": 12,
     "metadata": {},
     "output_type": "execute_result"
    },
    {
     "data": {
      "image/png": "[encoded data removed]",
      "text/plain": [
       "<Figure size 432x288 with 1 Axes>"
      ]
     },
     "metadata": {
      "needs_background": "light"
     },
     "output_type": "display_data"
    }
   ],
   "source": [
    "# print(len(results_list))\n",
    "# inner_dist, cross_dist = get_pairwise_dist(results_list)\n",
    "# ALGORITHM='GCN'\n",
    "# DATASET='Cora'\n",
    "# fig, axs = plt.subplots()\n",
    "\n",
    "# data_mat = np.array(inner_dist)\n",
    "# y_vals = np.mean(data_mat, axis=0)\n",
    "# y_stds = np.std(data_mat, axis=0)\n",
    "# x_vals = np.arange(len(y_vals))\n",
    "# axs.plot(x_vals, y_vals, label='%s: Intra-class distance'%ALGORITHM)\n",
    "# axs.fill_between(x_vals, y_vals-y_stds, y_vals+y_stds ,alpha=0.3)\n",
    "\n",
    "# data_mat = np.array(cross_dist)\n",
    "# y_vals = np.mean(data_mat, axis=0)\n",
    "# y_stds = np.std(data_mat, axis=0)\n",
    "# x_vals = np.arange(len(y_vals))\n",
    "# axs.plot(x_vals, y_vals, label='%s: Inter-class distance'%ALGORITHM)\n",
    "# axs.fill_between(x_vals, y_vals-y_stds, y_vals+y_stds ,alpha=0.3)\n",
    "\n",
    "# data_mat = np.array(cross_dist) - np.array(inner_dist)\n",
    "# y_vals = np.mean(data_mat, axis=0)\n",
    "# y_stds = np.std(data_mat, axis=0)\n",
    "# x_vals = np.arange(len(y_vals))\n",
    "# axs.plot(x_vals, y_vals, label='%s: Inter-class distance - Intra-class distance'%ALGORITHM)\n",
    "# axs.fill_between(x_vals, y_vals-y_stds, y_vals+y_stds ,alpha=0.3)\n",
    "\n",
    "# plt.title('Intra- and inter-class distance / Num of layers')\n",
    "# axs.set_xlabel('Num of layers')\n",
    "# axs.set_ylabel('Intra- and inter-class distance')\n",
    "# axs.grid(True)\n",
    "# plt.gca().xaxis.set_major_locator(mticker.MultipleLocator(1))\n",
    "# fig.tight_layout()\n",
    "# plt.legend()\n",
    "\n",
    "# # plt.savefig('pariwise_%s_%s.pdf'%(DATASET, ALGORITHM))\n",
    "# # plt.close()"
   ]
  },
  {
   "cell_type": "code",
   "execution_count": 16,
   "metadata": {},
   "outputs": [
    {
     "name": "stdout",
     "output_type": "stream",
     "text": [
      "10\n"
     ]
    },
    {
     "data": {
      "text/plain": [
       "<matplotlib.legend.Legend at 0x7fd6259a6110>"
      ]
     },
     "execution_count": 16,
     "metadata": {},
     "output_type": "execute_result"
    },
    {
     "data": {
      "image/png": "[encoded data removed]",
      "text/plain": [
       "<Figure size 432x288 with 1 Axes>"
      ]
     },
     "metadata": {
      "needs_background": "light"
     },
     "output_type": "display_data"
    }
   ],
   "source": [
    "print(len(results_list))\n",
    "inner_dist, cross_dist = get_pairwise_dist(results_list)\n",
    "ALGORITHM='GCN'\n",
    "DATASET='Cora'\n",
    "fig, axs = plt.subplots()\n",
    "\n",
    "data_mat = np.array(inner_dist)\n",
    "y_vals = np.mean(data_mat, axis=0)\n",
    "y_stds = np.std(data_mat, axis=0)\n",
    "x_vals = np.arange(len(y_vals))\n",
    "axs.plot(x_vals, y_vals, label='%s: Intra-class distance'%ALGORITHM)\n",
    "axs.fill_between(x_vals, y_vals-y_stds, y_vals+y_stds ,alpha=0.3)\n",
    "\n",
    "data_mat = np.array(cross_dist)\n",
    "y_vals = np.mean(data_mat, axis=0)\n",
    "y_stds = np.std(data_mat, axis=0)\n",
    "x_vals = np.arange(len(y_vals))\n",
    "axs.plot(x_vals, y_vals, label='%s: Inter-class distance'%ALGORITHM)\n",
    "axs.fill_between(x_vals, y_vals-y_stds, y_vals+y_stds ,alpha=0.3)\n",
    "\n",
    "data_mat = np.array(cross_dist) - np.array(inner_dist)\n",
    "y_vals = np.mean(data_mat, axis=0)\n",
    "y_stds = np.std(data_mat, axis=0)\n",
    "x_vals = np.arange(len(y_vals))\n",
    "axs.plot(x_vals, y_vals, label='%s: Inter-class distance - Intra-class distance'%ALGORITHM)\n",
    "axs.fill_between(x_vals, y_vals-y_stds, y_vals+y_stds ,alpha=0.3)\n",
    "\n",
    "plt.title('Intra- and inter-class distance / Num of layers', fontsize=15)\n",
    "axs.set_xlabel('Num of layers', fontsize=15)\n",
    "axs.set_ylabel('Intra- and inter-class distance', fontsize=15)\n",
    "axs.grid(True)\n",
    "plt.gca().xaxis.set_major_locator(mticker.MultipleLocator(1))\n",
    "fig.tight_layout()\n",
    "\n",
    "fs = 14\n",
    "for tick in axs.xaxis.get_major_ticks():\n",
    "    tick.label.set_fontsize(fs-1)\n",
    "\n",
    "for tick in axs.yaxis.get_major_ticks():\n",
    "    tick.label.set_fontsize(fs-1)\n",
    "    \n",
    "plt.legend(fontsize=12)\n",
    "\n",
    "# plt.savefig('pariwise_%s_%s.pdf'%(DATASET, ALGORITHM))\n",
    "# plt.close()"
   ]
  },
  {
   "cell_type": "code",
   "execution_count": null,
   "metadata": {},
   "outputs": [],
   "source": []
  }
 ],
 "metadata": {
  "kernelspec": {
   "display_name": "Python 3",
   "language": "python",
   "name": "python3"
  },
  "language_info": {
   "codemirror_mode": {
    "name": "ipython",
    "version": 3
   },
   "file_extension": ".py",
   "mimetype": "text/x-python",
   "name": "python",
   "nbconvert_exporter": "python",
   "pygments_lexer": "ipython3",
   "version": "3.7.6"
  }
 },
 "nbformat": 4,
 "nbformat_minor": 4
}
